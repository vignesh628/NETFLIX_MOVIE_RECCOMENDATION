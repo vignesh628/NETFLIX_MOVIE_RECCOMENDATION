{
  "nbformat": 4,
  "nbformat_minor": 0,
  "metadata": {
    "colab": {
      "name": "netflixassignment_final.ipynb",
      "version": "0.3.2",
      "provenance": [],
      "collapsed_sections": [
        "qXOWc7jQQnzs",
        "IFzWNOM1vcN6",
        "881XxYFGQn05"
      ]
    },
    "kernelspec": {
      "name": "python3",
      "display_name": "Python 3"
    },
    "accelerator": "GPU"
  },
  "cells": [
    {
      "metadata": {
        "id": "4onYNiKCz_S6",
        "colab_type": "text"
      },
      "cell_type": "markdown",
      "source": [
        "#IN NETFLIX MOVIE PROJECT WE WILL BE THE PROBLEM STATEMENT IS TO PREDICT THE RATING OF THE USER WHEN HE HAS NO RATED. WE ARE PROVIDED WITH THE DATA OF MOVIE ID,USERID,RATING GIVEN AND DATE OF THE MOVIE."
      ]
    },
    {
      "metadata": {
        "id": "P3X800p-Ud3Q",
        "colab_type": "text"
      },
      "cell_type": "markdown",
      "source": [
        "##ASSIGNMENT :\n",
        "##1.INSTEAD OF 10K USERS AND 1K MOVIES TRAIN THE MODEL WITH 25K USERS AND 3K MOVIES AND TRAIN THE MODELS .REPORT THE ROOT MEAN SQUATRE ERROR AND MEAN ABSOLUTE PERCENTAGE ERROR.\n",
        "##2.TUNE THE PARAMETERS XGBOOST MODELS AND IMPROVE RMSE."
      ]
    },
    {
      "metadata": {
        "id": "CI2WnywPQyxu",
        "colab_type": "code",
        "outputId": "622147e0-6262-4524-e1c0-ebc13e0b795f",
        "colab": {
          "base_uri": "https://localhost:8080/",
          "height": 51
        }
      },
      "cell_type": "code",
      "source": [
        "# Code to read csv file into Colaboratory:\n",
        "!pip install -U -q PyDrive\n",
        "from pydrive.auth import GoogleAuth\n",
        "from pydrive.drive import GoogleDrive\n",
        "from google.colab import auth\n",
        "from oauth2client.client import GoogleCredentials\n",
        "# Authenticate and create the PyDrive client.\n",
        "auth.authenticate_user()\n",
        "gauth = GoogleAuth()\n",
        "gauth.credentials = GoogleCredentials.get_application_default()\n",
        "drive = GoogleDrive(gauth)"
      ],
      "execution_count": 0,
      "outputs": [
        {
          "output_type": "stream",
          "text": [
            "\u001b[?25l\r\u001b[K     |▎                               | 10kB 19.8MB/s eta 0:00:01\r\u001b[K     |▋                               | 20kB 2.2MB/s eta 0:00:01\r\u001b[K     |█                               | 30kB 3.2MB/s eta 0:00:01\r\u001b[K     |█▎                              | 40kB 2.1MB/s eta 0:00:01\r\u001b[K     |█▋                              | 51kB 2.6MB/s eta 0:00:01\r\u001b[K     |██                              | 61kB 3.1MB/s eta 0:00:01\r\u001b[K     |██▎                             | 71kB 3.5MB/s eta 0:00:01\r\u001b[K     |██▋                             | 81kB 4.0MB/s eta 0:00:01\r\u001b[K     |███                             | 92kB 4.5MB/s eta 0:00:01\r\u001b[K     |███▎                            | 102kB 3.4MB/s eta 0:00:01\r\u001b[K     |███▋                            | 112kB 3.4MB/s eta 0:00:01\r\u001b[K     |████                            | 122kB 3.4MB/s eta 0:00:01\r\u001b[K     |████▎                           | 133kB 3.4MB/s eta 0:00:01\r\u001b[K     |████▋                           | 143kB 3.4MB/s eta 0:00:01\r\u001b[K     |█████                           | 153kB 3.4MB/s eta 0:00:01\r\u001b[K     |█████▎                          | 163kB 3.4MB/s eta 0:00:01\r\u001b[K     |█████▋                          | 174kB 3.4MB/s eta 0:00:01\r\u001b[K     |██████                          | 184kB 3.4MB/s eta 0:00:01\r\u001b[K     |██████▎                         | 194kB 3.4MB/s eta 0:00:01\r\u001b[K     |██████▋                         | 204kB 3.4MB/s eta 0:00:01\r\u001b[K     |███████                         | 215kB 3.4MB/s eta 0:00:01\r\u001b[K     |███████▎                        | 225kB 3.4MB/s eta 0:00:01\r\u001b[K     |███████▋                        | 235kB 3.4MB/s eta 0:00:01\r\u001b[K     |████████                        | 245kB 3.4MB/s eta 0:00:01\r\u001b[K     |████████▎                       | 256kB 3.4MB/s eta 0:00:01\r\u001b[K     |████████▋                       | 266kB 3.4MB/s eta 0:00:01\r\u001b[K     |█████████                       | 276kB 3.4MB/s eta 0:00:01\r\u001b[K     |█████████▎                      | 286kB 3.4MB/s eta 0:00:01\r\u001b[K     |█████████▋                      | 296kB 3.4MB/s eta 0:00:01\r\u001b[K     |██████████                      | 307kB 3.4MB/s eta 0:00:01\r\u001b[K     |██████████▎                     | 317kB 3.4MB/s eta 0:00:01\r\u001b[K     |██████████▋                     | 327kB 3.4MB/s eta 0:00:01\r\u001b[K     |███████████                     | 337kB 3.4MB/s eta 0:00:01\r\u001b[K     |███████████▎                    | 348kB 3.4MB/s eta 0:00:01\r\u001b[K     |███████████▋                    | 358kB 3.4MB/s eta 0:00:01\r\u001b[K     |████████████                    | 368kB 3.4MB/s eta 0:00:01\r\u001b[K     |████████████▎                   | 378kB 3.4MB/s eta 0:00:01\r\u001b[K     |████████████▋                   | 389kB 3.4MB/s eta 0:00:01\r\u001b[K     |█████████████                   | 399kB 3.4MB/s eta 0:00:01\r\u001b[K     |█████████████▎                  | 409kB 3.4MB/s eta 0:00:01\r\u001b[K     |█████████████▋                  | 419kB 3.4MB/s eta 0:00:01\r\u001b[K     |██████████████                  | 430kB 3.4MB/s eta 0:00:01\r\u001b[K     |██████████████▎                 | 440kB 3.4MB/s eta 0:00:01\r\u001b[K     |██████████████▋                 | 450kB 3.4MB/s eta 0:00:01\r\u001b[K     |███████████████                 | 460kB 3.4MB/s eta 0:00:01\r\u001b[K     |███████████████▎                | 471kB 3.4MB/s eta 0:00:01\r\u001b[K     |███████████████▋                | 481kB 3.4MB/s eta 0:00:01\r\u001b[K     |████████████████                | 491kB 3.4MB/s eta 0:00:01\r\u001b[K     |████████████████▎               | 501kB 3.4MB/s eta 0:00:01\r\u001b[K     |████████████████▋               | 512kB 3.4MB/s eta 0:00:01\r\u001b[K     |█████████████████               | 522kB 3.4MB/s eta 0:00:01\r\u001b[K     |█████████████████▎              | 532kB 3.4MB/s eta 0:00:01\r\u001b[K     |█████████████████▋              | 542kB 3.4MB/s eta 0:00:01\r\u001b[K     |██████████████████              | 552kB 3.4MB/s eta 0:00:01\r\u001b[K     |██████████████████▎             | 563kB 3.4MB/s eta 0:00:01\r\u001b[K     |██████████████████▋             | 573kB 3.4MB/s eta 0:00:01\r\u001b[K     |███████████████████             | 583kB 3.4MB/s eta 0:00:01\r\u001b[K     |███████████████████▎            | 593kB 3.4MB/s eta 0:00:01\r\u001b[K     |███████████████████▋            | 604kB 3.4MB/s eta 0:00:01\r\u001b[K     |████████████████████            | 614kB 3.4MB/s eta 0:00:01\r\u001b[K     |████████████████████▎           | 624kB 3.4MB/s eta 0:00:01\r\u001b[K     |████████████████████▋           | 634kB 3.4MB/s eta 0:00:01\r\u001b[K     |█████████████████████           | 645kB 3.4MB/s eta 0:00:01\r\u001b[K     |█████████████████████▎          | 655kB 3.4MB/s eta 0:00:01\r\u001b[K     |█████████████████████▋          | 665kB 3.4MB/s eta 0:00:01\r\u001b[K     |██████████████████████          | 675kB 3.4MB/s eta 0:00:01\r\u001b[K     |██████████████████████▎         | 686kB 3.4MB/s eta 0:00:01\r\u001b[K     |██████████████████████▋         | 696kB 3.4MB/s eta 0:00:01\r\u001b[K     |███████████████████████         | 706kB 3.4MB/s eta 0:00:01\r\u001b[K     |███████████████████████▎        | 716kB 3.4MB/s eta 0:00:01\r\u001b[K     |███████████████████████▋        | 727kB 3.4MB/s eta 0:00:01\r\u001b[K     |████████████████████████        | 737kB 3.4MB/s eta 0:00:01\r\u001b[K     |████████████████████████▎       | 747kB 3.4MB/s eta 0:00:01\r\u001b[K     |████████████████████████▋       | 757kB 3.4MB/s eta 0:00:01\r\u001b[K     |████████████████████████▉       | 768kB 3.4MB/s eta 0:00:01\r\u001b[K     |█████████████████████████▏      | 778kB 3.4MB/s eta 0:00:01\r\u001b[K     |█████████████████████████▌      | 788kB 3.4MB/s eta 0:00:01\r\u001b[K     |█████████████████████████▉      | 798kB 3.4MB/s eta 0:00:01\r\u001b[K     |██████████████████████████▏     | 808kB 3.4MB/s eta 0:00:01\r\u001b[K     |██████████████████████████▌     | 819kB 3.4MB/s eta 0:00:01\r\u001b[K     |██████████████████████████▉     | 829kB 3.4MB/s eta 0:00:01\r\u001b[K     |███████████████████████████▏    | 839kB 3.4MB/s eta 0:00:01\r\u001b[K     |███████████████████████████▌    | 849kB 3.4MB/s eta 0:00:01\r\u001b[K     |███████████████████████████▉    | 860kB 3.4MB/s eta 0:00:01\r\u001b[K     |████████████████████████████▏   | 870kB 3.4MB/s eta 0:00:01\r\u001b[K     |████████████████████████████▌   | 880kB 3.4MB/s eta 0:00:01\r\u001b[K     |████████████████████████████▉   | 890kB 3.4MB/s eta 0:00:01\r\u001b[K     |█████████████████████████████▏  | 901kB 3.4MB/s eta 0:00:01\r\u001b[K     |█████████████████████████████▌  | 911kB 3.4MB/s eta 0:00:01\r\u001b[K     |█████████████████████████████▉  | 921kB 3.4MB/s eta 0:00:01\r\u001b[K     |██████████████████████████████▏ | 931kB 3.4MB/s eta 0:00:01\r\u001b[K     |██████████████████████████████▌ | 942kB 3.4MB/s eta 0:00:01\r\u001b[K     |██████████████████████████████▉ | 952kB 3.4MB/s eta 0:00:01\r\u001b[K     |███████████████████████████████▏| 962kB 3.4MB/s eta 0:00:01\r\u001b[K     |███████████████████████████████▌| 972kB 3.4MB/s eta 0:00:01\r\u001b[K     |███████████████████████████████▉| 983kB 3.4MB/s eta 0:00:01\r\u001b[K     |████████████████████████████████| 993kB 3.4MB/s \n",
            "\u001b[?25h  Building wheel for PyDrive (setup.py) ... \u001b[?25l\u001b[?25hdone\n"
          ],
          "name": "stdout"
        }
      ]
    },
    {
      "metadata": {
        "id": "HaneB-pgQ7eH",
        "colab_type": "code",
        "colab": {}
      },
      "cell_type": "code",
      "source": [
        "link = 'https://drive.google.com/open?id=1yYKcWN2rBks_0Cr3j86dgv9HpVVSIUAJ' # The shareable link"
      ],
      "execution_count": 0,
      "outputs": []
    },
    {
      "metadata": {
        "id": "NqqVsDsDRJt5",
        "colab_type": "code",
        "outputId": "abaddb95-f9b3-45dd-c2ed-97d3acc906f4",
        "colab": {
          "base_uri": "https://localhost:8080/",
          "height": 34
        }
      },
      "cell_type": "code",
      "source": [
        "fluff, id = link.split('=')\n",
        "print (id) # Verify that you have everything after '='"
      ],
      "execution_count": 0,
      "outputs": [
        {
          "output_type": "stream",
          "text": [
            "1yYKcWN2rBks_0Cr3j86dgv9HpVVSIUAJ\n"
          ],
          "name": "stdout"
        }
      ]
    },
    {
      "metadata": {
        "id": "jWDMX1P1RP1v",
        "colab_type": "code",
        "colab": {}
      },
      "cell_type": "code",
      "source": [
        "import pandas as pd\n",
        "downloaded = drive.CreateFile({'id':id}) \n",
        "downloaded.GetContentFile('netflixdata.csv')  \n"
      ],
      "execution_count": 0,
      "outputs": []
    },
    {
      "metadata": {
        "id": "6hprgSl_Qnwj",
        "colab_type": "code",
        "colab": {}
      },
      "cell_type": "code",
      "source": [
        "import pandas as pd\n",
        "import random\n",
        "p = 0.05 \n",
        "data=pd.read_csv('netflixdata.csv',nrows=2000000,sep=',',names=['movie','user','rating','date'],header=0, \n",
        "         skiprows=lambda i: i>0 and random.random() > p)"
      ],
      "execution_count": 0,
      "outputs": []
    },
    {
      "metadata": {
        "id": "PWJDtpVHQnwo",
        "colab_type": "code",
        "outputId": "970a6010-729e-4332-bbfb-f89b34902c31",
        "colab": {
          "base_uri": "https://localhost:8080/",
          "height": 34
        }
      },
      "cell_type": "code",
      "source": [
        "print(data.shape)"
      ],
      "execution_count": 0,
      "outputs": [
        {
          "output_type": "stream",
          "text": [
            "(2000000, 4)\n"
          ],
          "name": "stdout"
        }
      ]
    },
    {
      "metadata": {
        "id": "vpdlOKXFQnwu",
        "colab_type": "code",
        "outputId": "db743ecc-18f3-4f60-944a-73a9ac1e53f9",
        "colab": {
          "base_uri": "https://localhost:8080/",
          "height": 119
        }
      },
      "cell_type": "code",
      "source": [
        "print(data.head())"
      ],
      "execution_count": 0,
      "outputs": [
        {
          "output_type": "stream",
          "text": [
            "   movie     user  rating        date\n",
            "0      1  2238063       3  2005-05-11\n",
            "1      1   543865       4  2004-05-28\n",
            "2      1   314933       3  2005-09-12\n",
            "3      1  2635437       4  2004-12-19\n",
            "4      1   893742       4  2005-04-27\n"
          ],
          "name": "stdout"
        }
      ]
    },
    {
      "metadata": {
        "id": "Rs5l-Z5BQnwy",
        "colab_type": "raw"
      },
      "cell_type": "markdown",
      "source": [
        "###*checking the number of unique movies\n",
        "###*checking the number of unique users\n",
        "###*checking the number of movies occuring number of times"
      ]
    },
    {
      "metadata": {
        "id": "0KAMK6pcQnwz",
        "colab_type": "code",
        "outputId": "e3c7dc96-cd57-4cd3-8d6b-9401466c3350",
        "colab": {
          "base_uri": "https://localhost:8080/",
          "height": 34
        }
      },
      "cell_type": "code",
      "source": [
        "len(data['movie'].unique())"
      ],
      "execution_count": 0,
      "outputs": [
        {
          "output_type": "execute_result",
          "data": {
            "text/plain": [
              "7043"
            ]
          },
          "metadata": {
            "tags": []
          },
          "execution_count": 8
        }
      ]
    },
    {
      "metadata": {
        "id": "TzwydraLQnw3",
        "colab_type": "code",
        "outputId": "b1fd4b3b-80c7-4047-dc61-0f503ac20b5d",
        "colab": {
          "base_uri": "https://localhost:8080/",
          "height": 34
        }
      },
      "cell_type": "code",
      "source": [
        "print(len(data['user'].unique()))"
      ],
      "execution_count": 0,
      "outputs": [
        {
          "output_type": "stream",
          "text": [
            "354186\n"
          ],
          "name": "stdout"
        }
      ]
    },
    {
      "metadata": {
        "id": "96qw42nJQnw7",
        "colab_type": "code",
        "colab": {}
      },
      "cell_type": "code",
      "source": [
        "b=data['movie'].value_counts()"
      ],
      "execution_count": 0,
      "outputs": []
    },
    {
      "metadata": {
        "id": "mYD_PExUQnxQ",
        "colab_type": "code",
        "colab": {}
      },
      "cell_type": "code",
      "source": [
        "from datetime import datetime\n",
        "import pandas as pd\n",
        "import numpy as np\n",
        "import matplotlib.pyplot as plt\n",
        "import seaborn as sns\n",
        "from scipy import sparse\n",
        "from scipy.sparse import csr_matrix\n",
        "from sklearn.decomposition import TruncatedSVD\n",
        "import random\n",
        "from sklearn.metrics.pairwise import cosine_similarity\n",
        "sns.set_style('whitegrid')"
      ],
      "execution_count": 0,
      "outputs": []
    },
    {
      "metadata": {
        "id": "WJfZQ5X0QnxU",
        "colab_type": "code",
        "colab": {}
      },
      "cell_type": "code",
      "source": [
        "data.sort_values(by='date',inplace=True)"
      ],
      "execution_count": 0,
      "outputs": []
    },
    {
      "metadata": {
        "id": "WoXt37c3QnxY",
        "colab_type": "code",
        "outputId": "b9c031e4-6844-4074-d7f2-794e4346d571",
        "colab": {
          "base_uri": "https://localhost:8080/",
          "height": 197
        }
      },
      "cell_type": "code",
      "source": [
        "data[:5]"
      ],
      "execution_count": 0,
      "outputs": [
        {
          "output_type": "execute_result",
          "data": {
            "text/html": [
              "<div>\n",
              "<style scoped>\n",
              "    .dataframe tbody tr th:only-of-type {\n",
              "        vertical-align: middle;\n",
              "    }\n",
              "\n",
              "    .dataframe tbody tr th {\n",
              "        vertical-align: top;\n",
              "    }\n",
              "\n",
              "    .dataframe thead th {\n",
              "        text-align: right;\n",
              "    }\n",
              "</style>\n",
              "<table border=\"1\" class=\"dataframe\">\n",
              "  <thead>\n",
              "    <tr style=\"text-align: right;\">\n",
              "      <th></th>\n",
              "      <th>movie</th>\n",
              "      <th>user</th>\n",
              "      <th>rating</th>\n",
              "      <th>date</th>\n",
              "    </tr>\n",
              "  </thead>\n",
              "  <tbody>\n",
              "    <tr>\n",
              "      <th>1261672</th>\n",
              "      <td>4697</td>\n",
              "      <td>204439</td>\n",
              "      <td>4</td>\n",
              "      <td>1999-12-09</td>\n",
              "    </tr>\n",
              "    <tr>\n",
              "      <th>1580342</th>\n",
              "      <td>5775</td>\n",
              "      <td>204439</td>\n",
              "      <td>4</td>\n",
              "      <td>1999-12-09</td>\n",
              "    </tr>\n",
              "    <tr>\n",
              "      <th>1758238</th>\n",
              "      <td>6287</td>\n",
              "      <td>204439</td>\n",
              "      <td>3</td>\n",
              "      <td>1999-12-09</td>\n",
              "    </tr>\n",
              "    <tr>\n",
              "      <th>337927</th>\n",
              "      <td>1309</td>\n",
              "      <td>204439</td>\n",
              "      <td>3</td>\n",
              "      <td>1999-12-09</td>\n",
              "    </tr>\n",
              "    <tr>\n",
              "      <th>1311399</th>\n",
              "      <td>4881</td>\n",
              "      <td>204439</td>\n",
              "      <td>3</td>\n",
              "      <td>1999-12-10</td>\n",
              "    </tr>\n",
              "  </tbody>\n",
              "</table>\n",
              "</div>"
            ],
            "text/plain": [
              "         movie    user  rating        date\n",
              "1261672   4697  204439       4  1999-12-09\n",
              "1580342   5775  204439       4  1999-12-09\n",
              "1758238   6287  204439       3  1999-12-09\n",
              "337927    1309  204439       3  1999-12-09\n",
              "1311399   4881  204439       3  1999-12-10"
            ]
          },
          "metadata": {
            "tags": []
          },
          "execution_count": 13
        }
      ]
    },
    {
      "metadata": {
        "id": "L1bGREysVbf3",
        "colab_type": "text"
      },
      "cell_type": "markdown",
      "source": [
        "## WE HAVE OBTAINED THE MOVIE USER RATING AND DATE OF THE MOVIE. NOW WE WILL APPEND THE MOVIE TITLES TO THE DATA AND OBTAIN THE FINAL DATA."
      ]
    },
    {
      "metadata": {
        "id": "-P2Z5ay3Qnxd",
        "colab_type": "code",
        "colab": {}
      },
      "cell_type": "code",
      "source": [
        "#data.describe() describes the data"
      ],
      "execution_count": 0,
      "outputs": []
    },
    {
      "metadata": {
        "id": "YcHgDj6XQnxg",
        "colab_type": "code",
        "outputId": "66f89ea2-eddc-451f-e597-3d70600a83da",
        "colab": {
          "base_uri": "https://localhost:8080/",
          "height": 286
        }
      },
      "cell_type": "code",
      "source": [
        "data.describe()"
      ],
      "execution_count": 0,
      "outputs": [
        {
          "output_type": "execute_result",
          "data": {
            "text/html": [
              "<div>\n",
              "<style scoped>\n",
              "    .dataframe tbody tr th:only-of-type {\n",
              "        vertical-align: middle;\n",
              "    }\n",
              "\n",
              "    .dataframe tbody tr th {\n",
              "        vertical-align: top;\n",
              "    }\n",
              "\n",
              "    .dataframe thead th {\n",
              "        text-align: right;\n",
              "    }\n",
              "</style>\n",
              "<table border=\"1\" class=\"dataframe\">\n",
              "  <thead>\n",
              "    <tr style=\"text-align: right;\">\n",
              "      <th></th>\n",
              "      <th>movie</th>\n",
              "      <th>user</th>\n",
              "      <th>rating</th>\n",
              "    </tr>\n",
              "  </thead>\n",
              "  <tbody>\n",
              "    <tr>\n",
              "      <th>count</th>\n",
              "      <td>2.000000e+06</td>\n",
              "      <td>2.000000e+06</td>\n",
              "      <td>2.000000e+06</td>\n",
              "    </tr>\n",
              "    <tr>\n",
              "      <th>mean</th>\n",
              "      <td>3.699381e+03</td>\n",
              "      <td>1.321652e+06</td>\n",
              "      <td>3.591092e+00</td>\n",
              "    </tr>\n",
              "    <tr>\n",
              "      <th>std</th>\n",
              "      <td>2.040891e+03</td>\n",
              "      <td>7.647141e+05</td>\n",
              "      <td>1.084767e+00</td>\n",
              "    </tr>\n",
              "    <tr>\n",
              "      <th>min</th>\n",
              "      <td>1.000000e+00</td>\n",
              "      <td>6.000000e+00</td>\n",
              "      <td>1.000000e+00</td>\n",
              "    </tr>\n",
              "    <tr>\n",
              "      <th>25%</th>\n",
              "      <td>1.962000e+03</td>\n",
              "      <td>6.596970e+05</td>\n",
              "      <td>3.000000e+00</td>\n",
              "    </tr>\n",
              "    <tr>\n",
              "      <th>50%</th>\n",
              "      <td>3.824000e+03</td>\n",
              "      <td>1.318489e+06</td>\n",
              "      <td>4.000000e+00</td>\n",
              "    </tr>\n",
              "    <tr>\n",
              "      <th>75%</th>\n",
              "      <td>5.496000e+03</td>\n",
              "      <td>1.983679e+06</td>\n",
              "      <td>4.000000e+00</td>\n",
              "    </tr>\n",
              "    <tr>\n",
              "      <th>max</th>\n",
              "      <td>7.057000e+03</td>\n",
              "      <td>2.649429e+06</td>\n",
              "      <td>5.000000e+00</td>\n",
              "    </tr>\n",
              "  </tbody>\n",
              "</table>\n",
              "</div>"
            ],
            "text/plain": [
              "              movie          user        rating\n",
              "count  2.000000e+06  2.000000e+06  2.000000e+06\n",
              "mean   3.699381e+03  1.321652e+06  3.591092e+00\n",
              "std    2.040891e+03  7.647141e+05  1.084767e+00\n",
              "min    1.000000e+00  6.000000e+00  1.000000e+00\n",
              "25%    1.962000e+03  6.596970e+05  3.000000e+00\n",
              "50%    3.824000e+03  1.318489e+06  4.000000e+00\n",
              "75%    5.496000e+03  1.983679e+06  4.000000e+00\n",
              "max    7.057000e+03  2.649429e+06  5.000000e+00"
            ]
          },
          "metadata": {
            "tags": []
          },
          "execution_count": 14
        }
      ]
    },
    {
      "metadata": {
        "id": "yCOhVvETQnxm",
        "colab_type": "code",
        "outputId": "c6fb306c-ff36-4477-9a3d-f5ca86d0b0e8",
        "colab": {
          "base_uri": "https://localhost:8080/",
          "height": 34
        }
      },
      "cell_type": "code",
      "source": [
        "data.columns"
      ],
      "execution_count": 0,
      "outputs": [
        {
          "output_type": "execute_result",
          "data": {
            "text/plain": [
              "Index(['movie', 'user', 'rating', 'date'], dtype='object')"
            ]
          },
          "metadata": {
            "tags": []
          },
          "execution_count": 15
        }
      ]
    },
    {
      "metadata": {
        "id": "ts_fETp5Qnxs",
        "colab_type": "code",
        "colab": {}
      },
      "cell_type": "code",
      "source": [
        "data.sort_values(by='date',inplace=True)"
      ],
      "execution_count": 0,
      "outputs": []
    },
    {
      "metadata": {
        "id": "nW0zBVCaQnxu",
        "colab_type": "code",
        "outputId": "9d32b4d6-fe29-41bc-a2a5-99c7932b91ac",
        "colab": {
          "base_uri": "https://localhost:8080/",
          "height": 197
        }
      },
      "cell_type": "code",
      "source": [
        "data.head()"
      ],
      "execution_count": 0,
      "outputs": [
        {
          "output_type": "execute_result",
          "data": {
            "text/html": [
              "<div>\n",
              "<style scoped>\n",
              "    .dataframe tbody tr th:only-of-type {\n",
              "        vertical-align: middle;\n",
              "    }\n",
              "\n",
              "    .dataframe tbody tr th {\n",
              "        vertical-align: top;\n",
              "    }\n",
              "\n",
              "    .dataframe thead th {\n",
              "        text-align: right;\n",
              "    }\n",
              "</style>\n",
              "<table border=\"1\" class=\"dataframe\">\n",
              "  <thead>\n",
              "    <tr style=\"text-align: right;\">\n",
              "      <th></th>\n",
              "      <th>movie</th>\n",
              "      <th>user</th>\n",
              "      <th>rating</th>\n",
              "      <th>date</th>\n",
              "    </tr>\n",
              "  </thead>\n",
              "  <tbody>\n",
              "    <tr>\n",
              "      <th>1261672</th>\n",
              "      <td>4697</td>\n",
              "      <td>204439</td>\n",
              "      <td>4</td>\n",
              "      <td>1999-12-09</td>\n",
              "    </tr>\n",
              "    <tr>\n",
              "      <th>1580342</th>\n",
              "      <td>5775</td>\n",
              "      <td>204439</td>\n",
              "      <td>4</td>\n",
              "      <td>1999-12-09</td>\n",
              "    </tr>\n",
              "    <tr>\n",
              "      <th>1758238</th>\n",
              "      <td>6287</td>\n",
              "      <td>204439</td>\n",
              "      <td>3</td>\n",
              "      <td>1999-12-09</td>\n",
              "    </tr>\n",
              "    <tr>\n",
              "      <th>337927</th>\n",
              "      <td>1309</td>\n",
              "      <td>204439</td>\n",
              "      <td>3</td>\n",
              "      <td>1999-12-09</td>\n",
              "    </tr>\n",
              "    <tr>\n",
              "      <th>1311399</th>\n",
              "      <td>4881</td>\n",
              "      <td>204439</td>\n",
              "      <td>3</td>\n",
              "      <td>1999-12-10</td>\n",
              "    </tr>\n",
              "  </tbody>\n",
              "</table>\n",
              "</div>"
            ],
            "text/plain": [
              "         movie    user  rating        date\n",
              "1261672   4697  204439       4  1999-12-09\n",
              "1580342   5775  204439       4  1999-12-09\n",
              "1758238   6287  204439       3  1999-12-09\n",
              "337927    1309  204439       3  1999-12-09\n",
              "1311399   4881  204439       3  1999-12-10"
            ]
          },
          "metadata": {
            "tags": []
          },
          "execution_count": 17
        }
      ]
    },
    {
      "metadata": {
        "id": "3qJIFPJrQnxz",
        "colab_type": "code",
        "outputId": "afac7318-8e58-49e6-c9dc-82de9e460b67",
        "colab": {
          "base_uri": "https://localhost:8080/",
          "height": 34
        }
      },
      "cell_type": "code",
      "source": [
        "print('number of null values in dataframe',sum(data.isnull().any()))"
      ],
      "execution_count": 0,
      "outputs": [
        {
          "output_type": "stream",
          "text": [
            "number of null values in dataframe 0\n"
          ],
          "name": "stdout"
        }
      ]
    },
    {
      "metadata": {
        "id": "R1w_B-YwQnx2",
        "colab_type": "code",
        "colab": {}
      },
      "cell_type": "code",
      "source": [
        "duplicatedboolean=data.duplicated(['movie','user','rating'])"
      ],
      "execution_count": 0,
      "outputs": []
    },
    {
      "metadata": {
        "id": "kKwyz2z6Qnx6",
        "colab_type": "code",
        "colab": {}
      },
      "cell_type": "code",
      "source": [
        "dups=sum(duplicatedboolean)"
      ],
      "execution_count": 0,
      "outputs": []
    },
    {
      "metadata": {
        "id": "WcsQu43cQnx9",
        "colab_type": "code",
        "outputId": "441c4672-6bf2-4ae5-dccd-1d2528e63e8f",
        "colab": {
          "base_uri": "https://localhost:8080/",
          "height": 34
        }
      },
      "cell_type": "code",
      "source": [
        "print(dups)"
      ],
      "execution_count": 0,
      "outputs": [
        {
          "output_type": "stream",
          "text": [
            "0\n"
          ],
          "name": "stdout"
        }
      ]
    },
    {
      "metadata": {
        "id": "zc9GZJICVx4G",
        "colab_type": "text"
      },
      "cell_type": "markdown",
      "source": [
        "###WE HAVE CHECKED FOR THE NULL VLAUES AND NOW WE ARE GOING TO SPLIT THE DATA INTO TRAIN AND TEST 80 PERCENT AS THE TRAIN DATA AND 20 PERCENT AS THE TEST DATA."
      ]
    },
    {
      "metadata": {
        "id": "YuDKsv-XQnyC",
        "colab_type": "code",
        "colab": {}
      },
      "cell_type": "code",
      "source": [
        "from sklearn.model_selection import train_test_split\n"
      ],
      "execution_count": 0,
      "outputs": []
    },
    {
      "metadata": {
        "id": "0UdQJKMlQnyF",
        "colab_type": "code",
        "colab": {}
      },
      "cell_type": "code",
      "source": [
        "xtrain=data.sample(frac=0.8)"
      ],
      "execution_count": 0,
      "outputs": []
    },
    {
      "metadata": {
        "id": "9414dW9gQnyJ",
        "colab_type": "code",
        "colab": {}
      },
      "cell_type": "code",
      "source": [
        "xtest=data.sample(frac=0.2)"
      ],
      "execution_count": 0,
      "outputs": []
    },
    {
      "metadata": {
        "id": "W9LDqQo-QnyM",
        "colab_type": "code",
        "outputId": "fa90b863-b3b7-422c-c8b8-5b46fa30a45c",
        "colab": {
          "base_uri": "https://localhost:8080/",
          "height": 119
        }
      },
      "cell_type": "code",
      "source": [
        "print(xtrain.head())"
      ],
      "execution_count": 0,
      "outputs": [
        {
          "output_type": "stream",
          "text": [
            "         movie     user  rating        date\n",
            "710479    2743  2060720       4  2004-08-02\n",
            "221746     862  1682587       4  2005-10-05\n",
            "305018    1180  1727961       2  2003-02-21\n",
            "1476253   5401  2025791       5  2005-11-08\n",
            "184201     708  1571958       3  2004-01-02\n"
          ],
          "name": "stdout"
        }
      ]
    },
    {
      "metadata": {
        "id": "DmwAtcLdujAi",
        "colab_type": "code",
        "outputId": "47b66187-83a3-4455-a5ca-eed5f0778cb6",
        "colab": {
          "base_uri": "https://localhost:8080/",
          "height": 197
        }
      },
      "cell_type": "code",
      "source": [
        "xtest.head(5)"
      ],
      "execution_count": 0,
      "outputs": [
        {
          "output_type": "execute_result",
          "data": {
            "text/html": [
              "<div>\n",
              "<style scoped>\n",
              "    .dataframe tbody tr th:only-of-type {\n",
              "        vertical-align: middle;\n",
              "    }\n",
              "\n",
              "    .dataframe tbody tr th {\n",
              "        vertical-align: top;\n",
              "    }\n",
              "\n",
              "    .dataframe thead th {\n",
              "        text-align: right;\n",
              "    }\n",
              "</style>\n",
              "<table border=\"1\" class=\"dataframe\">\n",
              "  <thead>\n",
              "    <tr style=\"text-align: right;\">\n",
              "      <th></th>\n",
              "      <th>movie</th>\n",
              "      <th>user</th>\n",
              "      <th>rating</th>\n",
              "      <th>date</th>\n",
              "    </tr>\n",
              "  </thead>\n",
              "  <tbody>\n",
              "    <tr>\n",
              "      <th>1843394</th>\n",
              "      <td>6524</td>\n",
              "      <td>1376939</td>\n",
              "      <td>4</td>\n",
              "      <td>2005-08-01</td>\n",
              "    </tr>\n",
              "    <tr>\n",
              "      <th>341215</th>\n",
              "      <td>1324</td>\n",
              "      <td>649244</td>\n",
              "      <td>4</td>\n",
              "      <td>2004-11-10</td>\n",
              "    </tr>\n",
              "    <tr>\n",
              "      <th>995317</th>\n",
              "      <td>3801</td>\n",
              "      <td>1746056</td>\n",
              "      <td>3</td>\n",
              "      <td>2002-05-16</td>\n",
              "    </tr>\n",
              "    <tr>\n",
              "      <th>843750</th>\n",
              "      <td>3272</td>\n",
              "      <td>976534</td>\n",
              "      <td>2</td>\n",
              "      <td>2005-07-05</td>\n",
              "    </tr>\n",
              "    <tr>\n",
              "      <th>13275</th>\n",
              "      <td>58</td>\n",
              "      <td>1632435</td>\n",
              "      <td>1</td>\n",
              "      <td>2004-09-28</td>\n",
              "    </tr>\n",
              "  </tbody>\n",
              "</table>\n",
              "</div>"
            ],
            "text/plain": [
              "         movie     user  rating        date\n",
              "1843394   6524  1376939       4  2005-08-01\n",
              "341215    1324   649244       4  2004-11-10\n",
              "995317    3801  1746056       3  2002-05-16\n",
              "843750    3272   976534       2  2005-07-05\n",
              "13275       58  1632435       1  2004-09-28"
            ]
          },
          "metadata": {
            "tags": []
          },
          "execution_count": 26
        }
      ]
    },
    {
      "metadata": {
        "id": "8SssWPOwQnyP",
        "colab_type": "code",
        "outputId": "fa9e80b7-d6d5-42cc-c344-9095bfd453c9",
        "colab": {
          "base_uri": "https://localhost:8080/",
          "height": 51
        }
      },
      "cell_type": "code",
      "source": [
        "print(xtrain.shape)\n",
        "print(xtest.shape)"
      ],
      "execution_count": 0,
      "outputs": [
        {
          "output_type": "stream",
          "text": [
            "(1600000, 4)\n",
            "(400000, 4)\n"
          ],
          "name": "stdout"
        }
      ]
    },
    {
      "metadata": {
        "id": "LuiZA23sQnyS",
        "colab_type": "code",
        "outputId": "2c2a77db-bbe2-4ebc-8577-ce1107bb90e6",
        "colab": {
          "base_uri": "https://localhost:8080/",
          "height": 51
        }
      },
      "cell_type": "code",
      "source": [
        "print('no.of unique users in train data',len(np.unique(xtrain['user'])))\n",
        "print('number of unique movies in train data',len(np.unique(xtrain['movie'])))\n"
      ],
      "execution_count": 0,
      "outputs": [
        {
          "output_type": "stream",
          "text": [
            "no.of unique users in train data 333670\n",
            "number of unique movies in train data 7022\n"
          ],
          "name": "stdout"
        }
      ]
    },
    {
      "metadata": {
        "colab_type": "code",
        "id": "JLbKIHhJvUr8",
        "outputId": "155a928b-712c-47bf-e666-fc56dd6a2e05",
        "colab": {
          "base_uri": "https://localhost:8080/",
          "height": 51
        }
      },
      "cell_type": "code",
      "source": [
        "# Code to read csv file into Colaboratory:\n",
        "!pip install -U -q PyDrive\n",
        "from pydrive.auth import GoogleAuth\n",
        "from pydrive.drive import GoogleDrive\n",
        "from google.colab import auth\n",
        "from oauth2client.client import GoogleCredentials\n",
        "# Authenticate and create the PyDrive client.\n",
        "auth.authenticate_user()\n",
        "gauth = GoogleAuth()\n",
        "gauth.credentials = GoogleCredentials.get_application_default()\n",
        "drive = GoogleDrive(gauth)"
      ],
      "execution_count": 0,
      "outputs": [
        {
          "output_type": "stream",
          "text": [
            "\u001b[?25l\r\u001b[K    1% |▎                               | 10kB 26.2MB/s eta 0:00:01\r\u001b[K    2% |▋                               | 20kB 1.8MB/s eta 0:00:01\r\u001b[K    3% |█                               | 30kB 2.6MB/s eta 0:00:01\r\u001b[K    4% |█▎                              | 40kB 1.7MB/s eta 0:00:01\r\u001b[K    5% |█▋                              | 51kB 2.1MB/s eta 0:00:01\r\u001b[K    6% |██                              | 61kB 2.5MB/s eta 0:00:01\r\u001b[K    7% |██▎                             | 71kB 2.8MB/s eta 0:00:01\r\u001b[K    8% |██▋                             | 81kB 3.2MB/s eta 0:00:01\r\u001b[K    9% |███                             | 92kB 3.6MB/s eta 0:00:01\r\u001b[K    10% |███▎                            | 102kB 2.8MB/s eta 0:00:01\r\u001b[K    11% |███▋                            | 112kB 2.8MB/s eta 0:00:01\r\u001b[K    12% |████                            | 122kB 4.0MB/s eta 0:00:01\r\u001b[K    13% |████▎                           | 133kB 4.0MB/s eta 0:00:01\r\u001b[K    14% |████▋                           | 143kB 7.7MB/s eta 0:00:01\r\u001b[K    15% |█████                           | 153kB 7.7MB/s eta 0:00:01\r\u001b[K    16% |█████▎                          | 163kB 7.6MB/s eta 0:00:01\r\u001b[K    17% |█████▋                          | 174kB 8.1MB/s eta 0:00:01\r\u001b[K    18% |██████                          | 184kB 8.1MB/s eta 0:00:01\r\u001b[K    19% |██████▎                         | 194kB 8.1MB/s eta 0:00:01\r\u001b[K    20% |██████▋                         | 204kB 47.9MB/s eta 0:00:01\r\u001b[K    21% |███████                         | 215kB 8.3MB/s eta 0:00:01\r\u001b[K    22% |███████▎                        | 225kB 8.3MB/s eta 0:00:01\r\u001b[K    23% |███████▋                        | 235kB 8.4MB/s eta 0:00:01\r\u001b[K    24% |████████                        | 245kB 8.4MB/s eta 0:00:01\r\u001b[K    25% |████████▎                       | 256kB 8.5MB/s eta 0:00:01\r\u001b[K    26% |████████▋                       | 266kB 8.3MB/s eta 0:00:01\r\u001b[K    27% |█████████                       | 276kB 8.4MB/s eta 0:00:01\r\u001b[K    29% |█████████▎                      | 286kB 8.4MB/s eta 0:00:01\r\u001b[K    30% |█████████▋                      | 296kB 8.4MB/s eta 0:00:01\r\u001b[K    31% |██████████                      | 307kB 8.6MB/s eta 0:00:01\r\u001b[K    32% |██████████▎                     | 317kB 62.2MB/s eta 0:00:01\r\u001b[K    33% |██████████▋                     | 327kB 62.6MB/s eta 0:00:01\r\u001b[K    34% |███████████                     | 337kB 64.0MB/s eta 0:00:01\r\u001b[K    35% |███████████▎                    | 348kB 56.6MB/s eta 0:00:01\r\u001b[K    36% |███████████▋                    | 358kB 56.8MB/s eta 0:00:01\r\u001b[K    37% |████████████                    | 368kB 67.5MB/s eta 0:00:01\r\u001b[K    38% |████████████▎                   | 378kB 67.6MB/s eta 0:00:01\r\u001b[K    39% |████████████▋                   | 389kB 69.7MB/s eta 0:00:01\r\u001b[K    40% |█████████████                   | 399kB 71.0MB/s eta 0:00:01\r\u001b[K    41% |█████████████▎                  | 409kB 71.5MB/s eta 0:00:01\r\u001b[K    42% |█████████████▋                  | 419kB 72.7MB/s eta 0:00:01\r\u001b[K    43% |██████████████                  | 430kB 73.0MB/s eta 0:00:01\r\u001b[K    44% |██████████████▎                 | 440kB 73.0MB/s eta 0:00:01\r\u001b[K    45% |██████████████▋                 | 450kB 9.7MB/s eta 0:00:01\r\u001b[K    46% |███████████████                 | 460kB 9.6MB/s eta 0:00:01\r\u001b[K    47% |███████████████▎                | 471kB 9.6MB/s eta 0:00:01\r\u001b[K    48% |███████████████▋                | 481kB 9.7MB/s eta 0:00:01\r\u001b[K    49% |████████████████                | 491kB 9.7MB/s eta 0:00:01\r\u001b[K    50% |████████████████▎               | 501kB 9.7MB/s eta 0:00:01\r\u001b[K    51% |████████████████▋               | 512kB 9.5MB/s eta 0:00:01\r\u001b[K    52% |█████████████████               | 522kB 9.5MB/s eta 0:00:01\r\u001b[K    53% |█████████████████▎              | 532kB 9.5MB/s eta 0:00:01\r\u001b[K    54% |█████████████████▋              | 542kB 9.5MB/s eta 0:00:01\r\u001b[K    55% |██████████████████              | 552kB 70.1MB/s eta 0:00:01\r\u001b[K    57% |██████████████████▎             | 563kB 76.7MB/s eta 0:00:01\r\u001b[K    58% |██████████████████▋             | 573kB 76.4MB/s eta 0:00:01\r\u001b[K    59% |███████████████████             | 583kB 76.6MB/s eta 0:00:01\r\u001b[K    60% |███████████████████▎            | 593kB 76.6MB/s eta 0:00:01\r\u001b[K    61% |███████████████████▋            | 604kB 75.9MB/s eta 0:00:01\r\u001b[K    62% |████████████████████            | 614kB 89.7MB/s eta 0:00:01\r\u001b[K    63% |████████████████████▎           | 624kB 91.8MB/s eta 0:00:01\r\u001b[K    64% |████████████████████▋           | 634kB 93.1MB/s eta 0:00:01\r\u001b[K    65% |█████████████████████           | 645kB 93.6MB/s eta 0:00:01\r\u001b[K    66% |█████████████████████▎          | 655kB 91.5MB/s eta 0:00:01\r\u001b[K    67% |█████████████████████▋          | 665kB 63.3MB/s eta 0:00:01\r\u001b[K    68% |██████████████████████          | 675kB 62.5MB/s eta 0:00:01\r\u001b[K    69% |██████████████████████▎         | 686kB 62.7MB/s eta 0:00:01\r\u001b[K    70% |██████████████████████▋         | 696kB 62.8MB/s eta 0:00:01\r\u001b[K    71% |███████████████████████         | 706kB 62.8MB/s eta 0:00:01\r\u001b[K    72% |███████████████████████▎        | 716kB 62.4MB/s eta 0:00:01\r\u001b[K    73% |███████████████████████▋        | 727kB 62.7MB/s eta 0:00:01\r\u001b[K    74% |████████████████████████        | 737kB 61.4MB/s eta 0:00:01\r\u001b[K    75% |████████████████████████▎       | 747kB 62.0MB/s eta 0:00:01\r\u001b[K    76% |████████████████████████▋       | 757kB 62.8MB/s eta 0:00:01\r\u001b[K    77% |████████████████████████▉       | 768kB 91.1MB/s eta 0:00:01\r\u001b[K    78% |█████████████████████████▏      | 778kB 94.1MB/s eta 0:00:01\r\u001b[K    79% |█████████████████████████▌      | 788kB 93.8MB/s eta 0:00:01\r\u001b[K    80% |█████████████████████████▉      | 798kB 94.3MB/s eta 0:00:01\r\u001b[K    81% |██████████████████████████▏     | 808kB 95.5MB/s eta 0:00:01\r\u001b[K    82% |██████████████████████████▌     | 819kB 94.4MB/s eta 0:00:01\r\u001b[K    83% |██████████████████████████▉     | 829kB 95.5MB/s eta 0:00:01\r\u001b[K    85% |███████████████████████████▏    | 839kB 12.2MB/s eta 0:00:01\r\u001b[K    86% |███████████████████████████▌    | 849kB 12.1MB/s eta 0:00:01\r\u001b[K    87% |███████████████████████████▉    | 860kB 11.7MB/s eta 0:00:01\r\u001b[K    88% |████████████████████████████▏   | 870kB 11.6MB/s eta 0:00:01\r\u001b[K    89% |████████████████████████████▌   | 880kB 11.6MB/s eta 0:00:01\r\u001b[K    90% |████████████████████████████▉   | 890kB 11.6MB/s eta 0:00:01\r\u001b[K    91% |█████████████████████████████▏  | 901kB 11.6MB/s eta 0:00:01\r\u001b[K    92% |█████████████████████████████▌  | 911kB 11.6MB/s eta 0:00:01\r\u001b[K    93% |█████████████████████████████▉  | 921kB 11.6MB/s eta 0:00:01\r\u001b[K    94% |██████████████████████████████▏ | 931kB 11.6MB/s eta 0:00:01\r\u001b[K    95% |██████████████████████████████▌ | 942kB 71.2MB/s eta 0:00:01\r\u001b[K    96% |██████████████████████████████▉ | 952kB 75.7MB/s eta 0:00:01\r\u001b[K    97% |███████████████████████████████▏| 962kB 91.9MB/s eta 0:00:01\r\u001b[K    98% |███████████████████████████████▌| 972kB 94.4MB/s eta 0:00:01\r\u001b[K    99% |███████████████████████████████▉| 983kB 93.2MB/s eta 0:00:01\r\u001b[K    100% |████████████████████████████████| 993kB 25.0MB/s \n",
            "\u001b[?25h  Building wheel for PyDrive (setup.py) ... \u001b[?25ldone\n",
            "\u001b[?25h"
          ],
          "name": "stdout"
        }
      ]
    },
    {
      "metadata": {
        "colab_type": "code",
        "id": "So3GAOtFvUr_",
        "colab": {}
      },
      "cell_type": "code",
      "source": [
        "link = 'https://drive.google.com/open?id=1vr1-A8GJ24CP0us553LrQ4pkwZdTwIzn' # The shareable link\n"
      ],
      "execution_count": 0,
      "outputs": []
    },
    {
      "metadata": {
        "colab_type": "code",
        "outputId": "84a57a09-9aa1-4149-aaec-3365f6deaa5b",
        "id": "paaP265ZvUsE",
        "colab": {
          "base_uri": "https://localhost:8080/",
          "height": 34
        }
      },
      "cell_type": "code",
      "source": [
        "fluff, id = link.split('=')\n",
        "print (id) # Verify that you have everything after '='"
      ],
      "execution_count": 0,
      "outputs": [
        {
          "output_type": "stream",
          "text": [
            "1vr1-A8GJ24CP0us553LrQ4pkwZdTwIzn\n"
          ],
          "name": "stdout"
        }
      ]
    },
    {
      "metadata": {
        "colab_type": "code",
        "id": "gb189fI3vUsL",
        "colab": {}
      },
      "cell_type": "code",
      "source": [
        "import pandas as pd\n",
        "downloaded = drive.CreateFile({'id':id}) \n",
        "downloaded.GetContentFile('train.csv')  \n"
      ],
      "execution_count": 0,
      "outputs": []
    },
    {
      "metadata": {
        "colab_type": "code",
        "id": "hJ6KT6Snv1aR",
        "colab": {}
      },
      "cell_type": "code",
      "source": [
        "# Code to read csv file into Colaboratory:\n",
        "!pip install -U -q PyDrive\n",
        "from pydrive.auth import GoogleAuth\n",
        "from pydrive.drive import GoogleDrive\n",
        "from google.colab import auth\n",
        "from oauth2client.client import GoogleCredentials\n",
        "# Authenticate and create the PyDrive client.\n",
        "auth.authenticate_user()\n",
        "gauth = GoogleAuth()\n",
        "gauth.credentials = GoogleCredentials.get_application_default()\n",
        "drive = GoogleDrive(gauth)"
      ],
      "execution_count": 0,
      "outputs": []
    },
    {
      "metadata": {
        "colab_type": "code",
        "id": "-1LcBDj2v1aW",
        "colab": {}
      },
      "cell_type": "code",
      "source": [
        "link = 'https://drive.google.com/open?id=1IaVRHSLBiO4OLSWZp-oILE4SFFN45ubC' # The shareable link"
      ],
      "execution_count": 0,
      "outputs": []
    },
    {
      "metadata": {
        "colab_type": "code",
        "outputId": "197349e6-dabf-460a-e441-2287164d8f8d",
        "id": "XZuivVkXv1aa",
        "colab": {
          "base_uri": "https://localhost:8080/",
          "height": 34
        }
      },
      "cell_type": "code",
      "source": [
        "fluff, id = link.split('=')\n",
        "print (id) # Verify that you have everything after '='"
      ],
      "execution_count": 0,
      "outputs": [
        {
          "output_type": "stream",
          "text": [
            "1IaVRHSLBiO4OLSWZp-oILE4SFFN45ubC\n"
          ],
          "name": "stdout"
        }
      ]
    },
    {
      "metadata": {
        "colab_type": "code",
        "id": "uK67-nzQv1af",
        "colab": {}
      },
      "cell_type": "code",
      "source": [
        "import pandas as pd\n",
        "downloaded = drive.CreateFile({'id':id}) \n",
        "downloaded.GetContentFile('test.csv')  \n"
      ],
      "execution_count": 0,
      "outputs": []
    },
    {
      "metadata": {
        "id": "rddrd5ltvmWm",
        "colab_type": "code",
        "colab": {}
      },
      "cell_type": "code",
      "source": [
        "xtrain= pd.read_csv(\"train.csv\", parse_dates=['date'])\n",
        "xtest = pd.read_csv(\"test.csv\")"
      ],
      "execution_count": 0,
      "outputs": []
    },
    {
      "metadata": {
        "id": "gr01bEOSWExe",
        "colab_type": "text"
      },
      "cell_type": "markdown",
      "source": [
        "###BEFORE PERFORMING FEATURE ENGINEERING AND DEPLOYING INTO THE MODELS WE PERFORM THE EXPLORATORY DATA ANALYSIS OVER THE DATA . WE WILL SOT THE VLAUES OF THE MOVIE AND WE WILL CHECK NUMBER OF TIMES THAT THE EACH MOVIE IS OCCURING WHICH THERE WILL BE THE MULTIPLE USERS GIVING RATINGS FOR THE EACH MOVIE.AS A PART OF EXPLORATORY DATA ANALYSIS WE WILL CHECK THE UNIQUE VALUES OF USERS AND MOVIE FOR BOTH THE TRAIN AND TEST DATA."
      ]
    },
    {
      "metadata": {
        "id": "CeN0eTCPnEvX",
        "colab_type": "code",
        "colab": {}
      },
      "cell_type": "code",
      "source": [
        "traincount=xtrain['movie'].value_counts()\n",
        "traincount=np.sort(traincount)"
      ],
      "execution_count": 0,
      "outputs": []
    },
    {
      "metadata": {
        "id": "uJCZhGi9QnyW",
        "colab_type": "code",
        "outputId": "d782c3f3-007e-4532-9e7a-08e7fd715c43",
        "colab": {
          "base_uri": "https://localhost:8080/",
          "height": 285
        }
      },
      "cell_type": "code",
      "source": [
        "%matplotlib inline\n",
        "#dataframesorted=xtrain.sort_values(['movie'])\n",
        "import seaborn as sns\n",
        "plt.plot(traincount)"
      ],
      "execution_count": 0,
      "outputs": [
        {
          "output_type": "execute_result",
          "data": {
            "text/plain": [
              "[<matplotlib.lines.Line2D at 0x7fc9151cbfd0>]"
            ]
          },
          "metadata": {
            "tags": []
          },
          "execution_count": 30
        },
        {
          "output_type": "display_data",
          "data": {
            "image/png": "[encoded data removed]",
            "text/plain": [
              "<Figure size 432x288 with 1 Axes>"
            ]
          },
          "metadata": {
            "tags": []
          }
        }
      ]
    },
    {
      "metadata": {
        "id": "L5j8jHoIQnyb",
        "colab_type": "code",
        "outputId": "83ea4139-373c-4123-92e3-18ecca260588",
        "colab": {
          "base_uri": "https://localhost:8080/",
          "height": 51
        }
      },
      "cell_type": "code",
      "source": [
        "print('no. of unique users in test data',len(np.unique(xtest['user'])))\n",
        "print('no. of unique movies in test data',len(np.unique(xtest['movie'])))"
      ],
      "execution_count": 0,
      "outputs": [
        {
          "output_type": "stream",
          "text": [
            "no. of unique users in test data 193135\n",
            "no. of unique movies in test data 6441\n"
          ],
          "name": "stdout"
        }
      ]
    },
    {
      "metadata": {
        "id": "DERtiJfYQnyh",
        "colab_type": "code",
        "colab": {}
      },
      "cell_type": "code",
      "source": [
        "def human(num,units='M'):\n",
        "    units=units.lower()\n",
        "    num=float(num)\n",
        "    if units=='k':\n",
        "        return str(num/10**3)+'k'\n",
        "    elif units=='m':\n",
        "        return str(num/10**6)+'M'\n",
        "    elif units=='b':\n",
        "        return str(num/10**9)+'B'"
      ],
      "execution_count": 0,
      "outputs": []
    },
    {
      "metadata": {
        "id": "zxKvfdI7Qnyl",
        "colab_type": "code",
        "outputId": "5c71de15-3de2-4036-a388-d620dbf94c75",
        "colab": {
          "base_uri": "https://localhost:8080/",
          "height": 107
        }
      },
      "cell_type": "code",
      "source": [
        "xtrain[:2]"
      ],
      "execution_count": 0,
      "outputs": [
        {
          "output_type": "execute_result",
          "data": {
            "text/html": [
              "<div>\n",
              "<style scoped>\n",
              "    .dataframe tbody tr th:only-of-type {\n",
              "        vertical-align: middle;\n",
              "    }\n",
              "\n",
              "    .dataframe tbody tr th {\n",
              "        vertical-align: top;\n",
              "    }\n",
              "\n",
              "    .dataframe thead th {\n",
              "        text-align: right;\n",
              "    }\n",
              "</style>\n",
              "<table border=\"1\" class=\"dataframe\">\n",
              "  <thead>\n",
              "    <tr style=\"text-align: right;\">\n",
              "      <th></th>\n",
              "      <th>movie</th>\n",
              "      <th>user</th>\n",
              "      <th>rating</th>\n",
              "      <th>date</th>\n",
              "    </tr>\n",
              "  </thead>\n",
              "  <tbody>\n",
              "    <tr>\n",
              "      <th>710479</th>\n",
              "      <td>2743</td>\n",
              "      <td>2060720</td>\n",
              "      <td>4</td>\n",
              "      <td>2004-08-02</td>\n",
              "    </tr>\n",
              "    <tr>\n",
              "      <th>221746</th>\n",
              "      <td>862</td>\n",
              "      <td>1682587</td>\n",
              "      <td>4</td>\n",
              "      <td>2005-10-05</td>\n",
              "    </tr>\n",
              "  </tbody>\n",
              "</table>\n",
              "</div>"
            ],
            "text/plain": [
              "        movie     user  rating        date\n",
              "710479   2743  2060720       4  2004-08-02\n",
              "221746    862  1682587       4  2005-10-05"
            ]
          },
          "metadata": {
            "tags": []
          },
          "execution_count": 33
        }
      ]
    },
    {
      "metadata": {
        "id": "mBmt3ntpQnyp",
        "colab_type": "code",
        "outputId": "1d212ade-e268-4560-ed49-a29104fa3f50",
        "colab": {
          "base_uri": "https://localhost:8080/",
          "height": 34
        }
      },
      "cell_type": "code",
      "source": [
        "print(np.unique(xtrain['movie']))"
      ],
      "execution_count": 0,
      "outputs": [
        {
          "output_type": "stream",
          "text": [
            "[   1    2    3 ... 7055 7056 7057]\n"
          ],
          "name": "stdout"
        }
      ]
    },
    {
      "metadata": {
        "id": "VqSVoCDWQnyt",
        "colab_type": "code",
        "outputId": "5f55fae9-7f22-4fd4-9921-a010d16d55be",
        "colab": {
          "base_uri": "https://localhost:8080/",
          "height": 51
        }
      },
      "cell_type": "code",
      "source": [
        "print(xtrain.shape)\n",
        "print(xtest.shape)"
      ],
      "execution_count": 0,
      "outputs": [
        {
          "output_type": "stream",
          "text": [
            "(1600000, 4)\n",
            "(400000, 4)\n"
          ],
          "name": "stdout"
        }
      ]
    },
    {
      "metadata": {
        "id": "poO0fG3ixV0a",
        "colab_type": "code",
        "outputId": "a6a381c9-c8cf-47f0-9aad-d90c18c64b0e",
        "colab": {
          "base_uri": "https://localhost:8080/",
          "height": 197
        }
      },
      "cell_type": "code",
      "source": [
        "xtrain.head(5)"
      ],
      "execution_count": 0,
      "outputs": [
        {
          "output_type": "execute_result",
          "data": {
            "text/html": [
              "<div>\n",
              "<style scoped>\n",
              "    .dataframe tbody tr th:only-of-type {\n",
              "        vertical-align: middle;\n",
              "    }\n",
              "\n",
              "    .dataframe tbody tr th {\n",
              "        vertical-align: top;\n",
              "    }\n",
              "\n",
              "    .dataframe thead th {\n",
              "        text-align: right;\n",
              "    }\n",
              "</style>\n",
              "<table border=\"1\" class=\"dataframe\">\n",
              "  <thead>\n",
              "    <tr style=\"text-align: right;\">\n",
              "      <th></th>\n",
              "      <th>movie</th>\n",
              "      <th>user</th>\n",
              "      <th>rating</th>\n",
              "      <th>date</th>\n",
              "    </tr>\n",
              "  </thead>\n",
              "  <tbody>\n",
              "    <tr>\n",
              "      <th>710479</th>\n",
              "      <td>2743</td>\n",
              "      <td>2060720</td>\n",
              "      <td>4</td>\n",
              "      <td>2004-08-02</td>\n",
              "    </tr>\n",
              "    <tr>\n",
              "      <th>221746</th>\n",
              "      <td>862</td>\n",
              "      <td>1682587</td>\n",
              "      <td>4</td>\n",
              "      <td>2005-10-05</td>\n",
              "    </tr>\n",
              "    <tr>\n",
              "      <th>305018</th>\n",
              "      <td>1180</td>\n",
              "      <td>1727961</td>\n",
              "      <td>2</td>\n",
              "      <td>2003-02-21</td>\n",
              "    </tr>\n",
              "    <tr>\n",
              "      <th>1476253</th>\n",
              "      <td>5401</td>\n",
              "      <td>2025791</td>\n",
              "      <td>5</td>\n",
              "      <td>2005-11-08</td>\n",
              "    </tr>\n",
              "    <tr>\n",
              "      <th>184201</th>\n",
              "      <td>708</td>\n",
              "      <td>1571958</td>\n",
              "      <td>3</td>\n",
              "      <td>2004-01-02</td>\n",
              "    </tr>\n",
              "  </tbody>\n",
              "</table>\n",
              "</div>"
            ],
            "text/plain": [
              "         movie     user  rating        date\n",
              "710479    2743  2060720       4  2004-08-02\n",
              "221746     862  1682587       4  2005-10-05\n",
              "305018    1180  1727961       2  2003-02-21\n",
              "1476253   5401  2025791       5  2005-11-08\n",
              "184201     708  1571958       3  2004-01-02"
            ]
          },
          "metadata": {
            "tags": []
          },
          "execution_count": 36
        }
      ]
    },
    {
      "metadata": {
        "id": "WsIpOuCTxZNM",
        "colab_type": "code",
        "outputId": "740fc317-2540-4857-b39c-5a0098191060",
        "colab": {
          "base_uri": "https://localhost:8080/",
          "height": 197
        }
      },
      "cell_type": "code",
      "source": [
        "xtest.head(5)"
      ],
      "execution_count": 0,
      "outputs": [
        {
          "output_type": "execute_result",
          "data": {
            "text/html": [
              "<div>\n",
              "<style scoped>\n",
              "    .dataframe tbody tr th:only-of-type {\n",
              "        vertical-align: middle;\n",
              "    }\n",
              "\n",
              "    .dataframe tbody tr th {\n",
              "        vertical-align: top;\n",
              "    }\n",
              "\n",
              "    .dataframe thead th {\n",
              "        text-align: right;\n",
              "    }\n",
              "</style>\n",
              "<table border=\"1\" class=\"dataframe\">\n",
              "  <thead>\n",
              "    <tr style=\"text-align: right;\">\n",
              "      <th></th>\n",
              "      <th>movie</th>\n",
              "      <th>user</th>\n",
              "      <th>rating</th>\n",
              "      <th>date</th>\n",
              "    </tr>\n",
              "  </thead>\n",
              "  <tbody>\n",
              "    <tr>\n",
              "      <th>1843394</th>\n",
              "      <td>6524</td>\n",
              "      <td>1376939</td>\n",
              "      <td>4</td>\n",
              "      <td>2005-08-01</td>\n",
              "    </tr>\n",
              "    <tr>\n",
              "      <th>341215</th>\n",
              "      <td>1324</td>\n",
              "      <td>649244</td>\n",
              "      <td>4</td>\n",
              "      <td>2004-11-10</td>\n",
              "    </tr>\n",
              "    <tr>\n",
              "      <th>995317</th>\n",
              "      <td>3801</td>\n",
              "      <td>1746056</td>\n",
              "      <td>3</td>\n",
              "      <td>2002-05-16</td>\n",
              "    </tr>\n",
              "    <tr>\n",
              "      <th>843750</th>\n",
              "      <td>3272</td>\n",
              "      <td>976534</td>\n",
              "      <td>2</td>\n",
              "      <td>2005-07-05</td>\n",
              "    </tr>\n",
              "    <tr>\n",
              "      <th>13275</th>\n",
              "      <td>58</td>\n",
              "      <td>1632435</td>\n",
              "      <td>1</td>\n",
              "      <td>2004-09-28</td>\n",
              "    </tr>\n",
              "  </tbody>\n",
              "</table>\n",
              "</div>"
            ],
            "text/plain": [
              "         movie     user  rating        date\n",
              "1843394   6524  1376939       4  2005-08-01\n",
              "341215    1324   649244       4  2004-11-10\n",
              "995317    3801  1746056       3  2002-05-16\n",
              "843750    3272   976534       2  2005-07-05\n",
              "13275       58  1632435       1  2004-09-28"
            ]
          },
          "metadata": {
            "tags": []
          },
          "execution_count": 37
        }
      ]
    },
    {
      "metadata": {
        "id": "oOQv770CW-0G",
        "colab_type": "text"
      },
      "cell_type": "markdown",
      "source": [
        "## WE ARE GENERATING THE SPARSE MATRIX BASED ON THE DATA THAT WE HAVE.WITH THE USERS AS ROWS AND MOVIES AS THE COLUMNS AND THE VALUES IN THE MATRIX AS THE RATING VALUES FOR THE MOVIE."
      ]
    },
    {
      "metadata": {
        "id": "lgv9KRI6Qny2",
        "colab_type": "code",
        "colab": {}
      },
      "cell_type": "code",
      "source": [
        "trainsparsematrix=sparse.csr_matrix((xtrain['rating'].values,(xtrain['user'].values,xtrain['movie'].values)),)"
      ],
      "execution_count": 0,
      "outputs": []
    },
    {
      "metadata": {
        "id": "UL28EdCjQny6",
        "colab_type": "code",
        "colab": {}
      },
      "cell_type": "code",
      "source": [
        "testsparsematrix=sparse.csr_matrix((xtest['rating'].values,(xtest['user'].values,xtest['movie'].values)),)"
      ],
      "execution_count": 0,
      "outputs": []
    },
    {
      "metadata": {
        "id": "9UqaBOgHQny9",
        "colab_type": "code",
        "outputId": "9660b207-7601-42bc-e331-37cd85faa217",
        "colab": {
          "base_uri": "https://localhost:8080/",
          "height": 34
        }
      },
      "cell_type": "code",
      "source": [
        "print(testsparsematrix.shape)"
      ],
      "execution_count": 0,
      "outputs": [
        {
          "output_type": "stream",
          "text": [
            "(2649430, 7058)\n"
          ],
          "name": "stdout"
        }
      ]
    },
    {
      "metadata": {
        "id": "21iLFyKHQnzB",
        "colab_type": "code",
        "outputId": "c59820e1-d76b-4607-8e93-09d5ef6cb21e",
        "colab": {
          "base_uri": "https://localhost:8080/",
          "height": 34
        }
      },
      "cell_type": "code",
      "source": [
        "print(trainsparsematrix.shape)"
      ],
      "execution_count": 0,
      "outputs": [
        {
          "output_type": "stream",
          "text": [
            "(2649430, 7058)\n"
          ],
          "name": "stdout"
        }
      ]
    },
    {
      "metadata": {
        "id": "NQyGswQtXUTN",
        "colab_type": "text"
      },
      "cell_type": "markdown",
      "source": [
        "###MEASURING THE SPARSITY OF THE MATRIX"
      ]
    },
    {
      "metadata": {
        "id": "cLeKb9GJQnzF",
        "colab_type": "code",
        "outputId": "0e9c9586-2dea-465a-fd25-c4b24790158b",
        "colab": {
          "base_uri": "https://localhost:8080/",
          "height": 34
        }
      },
      "cell_type": "code",
      "source": [
        "us,mv=trainsparsematrix.shape\n",
        "elem=trainsparsematrix.count_nonzero()\n",
        "print('sparsity of train matrix :{}'.format((1-(elem/(us*mv)))*100))"
      ],
      "execution_count": 0,
      "outputs": [
        {
          "output_type": "stream",
          "text": [
            "sparsity of train matrix :99.99144370244933\n"
          ],
          "name": "stdout"
        }
      ]
    },
    {
      "metadata": {
        "id": "xDU5iGCcQnzJ",
        "colab_type": "code",
        "colab": {}
      },
      "cell_type": "code",
      "source": [
        "moviemoviesimilarity=cosine_similarity(X=trainsparsematrix.T,dense_output=False)"
      ],
      "execution_count": 0,
      "outputs": []
    },
    {
      "metadata": {
        "id": "Iw9UPoYXXgnZ",
        "colab_type": "text"
      },
      "cell_type": "markdown",
      "source": [
        "####WE HAVE THE 2.64 MILLION NUMBER OF UNIQUE USERS IN OUR DATA AND THE 3826 UNIQUE NUMBER OF MOVIES .DUE TO LACK OF COMPUTATION POWER WE ARE NOT GENERATING THE USER USER SIMILARITY MATRIX BUT WE ARE GENEARATING THE MOVIE MOVIE SIMILARIY MATRIX. WE ARE USING THE COSINE SIMILARITY BASED ON THE DISTANCE BETWEEN THE EACH OF THE 3826 UNIQUE VECTORS TO THE ANOTHER UNIQUE VECTOR WE WILL CALCULATE THE COSINE SIMILARITY VALUES AND WE GENERATE THE MOVIE MOVIE SIMILARITY MATRIX.SO THE MOVIE MOVIE SIMILARITY MATRIX WILL BE OF THE SHAPE 3826,3826.SUPPOSE IF WE HAVE A USER WITH MOVIE RATINGS WE USE THE SIMILARITY MATRIX WE WILL FIND THE SIMILAR MOVIES TO HIS RATING VECTOR AND RECCOMEND HIM THE MOVIES WITH HIGHER VALUE OF COSINE SIMILARITY."
      ]
    },
    {
      "metadata": {
        "id": "QGVfjXKzQnzP",
        "colab_type": "code",
        "outputId": "6b1866da-db64-48b4-9b6f-36f7ebaa5fdd",
        "colab": {
          "base_uri": "https://localhost:8080/",
          "height": 34
        }
      },
      "cell_type": "code",
      "source": [
        "print(moviemoviesimilarity.shape)"
      ],
      "execution_count": 0,
      "outputs": [
        {
          "output_type": "stream",
          "text": [
            "(7058, 7058)\n"
          ],
          "name": "stdout"
        }
      ]
    },
    {
      "metadata": {
        "id": "TIwZ6eUhQnzT",
        "colab_type": "code",
        "colab": {}
      },
      "cell_type": "code",
      "source": [
        "movieids=np.unique(moviemoviesimilarity.nonzero()[1])"
      ],
      "execution_count": 0,
      "outputs": []
    },
    {
      "metadata": {
        "id": "P9xiWd4WQnzX",
        "colab_type": "code",
        "outputId": "33089883-e25f-49c3-edbf-45c633de4c4a",
        "colab": {
          "base_uri": "https://localhost:8080/",
          "height": 34
        }
      },
      "cell_type": "code",
      "source": [
        "print(movieids)"
      ],
      "execution_count": 0,
      "outputs": [
        {
          "output_type": "stream",
          "text": [
            "[   1    2    3 ... 7055 7056 7057]\n"
          ],
          "name": "stdout"
        }
      ]
    },
    {
      "metadata": {
        "id": "WV0BV9TPQnzc",
        "colab_type": "code",
        "colab": {}
      },
      "cell_type": "code",
      "source": [
        "#we know that nonzero() function gives us the non zero values present"
      ],
      "execution_count": 0,
      "outputs": []
    },
    {
      "metadata": {
        "id": "Vnd6jwsJZib-",
        "colab_type": "text"
      },
      "cell_type": "markdown",
      "source": [
        "###CONVERSION OF SPARSE MOVIEMOVIESIMILARIT MATRIX TO ARRAY"
      ]
    },
    {
      "metadata": {
        "id": "ec6e8VeEQnzj",
        "colab_type": "code",
        "outputId": "08ed3360-0961-44b1-f1fb-61cbadccc93e",
        "colab": {
          "base_uri": "https://localhost:8080/",
          "height": 153
        }
      },
      "cell_type": "code",
      "source": [
        "similarmovies=moviemoviesimilarity.toarray()\n",
        "print(similarmovies.shape)\n",
        "print(similarmovies)"
      ],
      "execution_count": 0,
      "outputs": [
        {
          "output_type": "stream",
          "text": [
            "(7058, 7058)\n",
            "[[0.         0.         0.         ... 0.         0.         0.        ]\n",
            " [0.         1.         0.         ... 0.         0.         0.        ]\n",
            " [0.         0.         1.         ... 0.         0.         0.        ]\n",
            " ...\n",
            " [0.         0.         0.         ... 1.         0.         0.00509544]\n",
            " [0.         0.         0.         ... 0.         1.         0.        ]\n",
            " [0.         0.         0.         ... 0.00509544 0.         1.        ]]\n"
          ],
          "name": "stdout"
        }
      ]
    },
    {
      "metadata": {
        "id": "JntCwnXfQnzo",
        "colab_type": "code",
        "outputId": "52cf82ab-8261-45ff-b05b-4e6e01af071e",
        "colab": {
          "base_uri": "https://localhost:8080/",
          "height": 34
        }
      },
      "cell_type": "code",
      "source": [
        "print(movieids)"
      ],
      "execution_count": 0,
      "outputs": [
        {
          "output_type": "stream",
          "text": [
            "[   1    2    3 ... 7055 7056 7057]\n"
          ],
          "name": "stdout"
        }
      ]
    },
    {
      "metadata": {
        "id": "qXOWc7jQQnzs",
        "colab_type": "raw"
      },
      "cell_type": "markdown",
      "source": [
        "####***this is the important step that we are performing***\n",
        "*taking the 20 most similar movies based ont their rating values\n",
        "* 1.taking the particular row of the matrix of movie id\n",
        "* 2.making it into sing le array using ravel function\n",
        "* 3.sorting the values based on their indices in the descending order\n",
        "* 4.taking top 20 of them storing them into a dict\n",
        "####** the advantage of doing so is  when you have a movie id with you\n",
        "if you want to find what are the similar movies to that particular movie\n",
        "we can find this using their indices that are sorted and print those movies\n",
        ".you can reccommend that movies to the user who liked the movie based on the \n",
        "movie ids we got above.**"
      ]
    },
    {
      "metadata": {
        "id": "hLWL27ZuaIrK",
        "colab_type": "text"
      },
      "cell_type": "markdown",
      "source": [
        "###WE HAVE GENERATED THE MOVIE MOVIE SIMILARITY MATRIX IF WE WNAT RECCOMEND TOP 20 MOVIES TO THE USER WHO HAS GIVE HIGHER VALUE OF RATING FOR THE PARTICULAR MOVIE WE WILL TAKE THE INDEX OF IT AND GET COSINE SIMILARITY OF THE PARTICULAR MOVIE. TAKE THE TOP HIGHER 20 VALUES OF COSINE SIMLARITY AND PRINT THE MOVIES BASED ON THE INDEXES OF THOSE MOVIES.\n"
      ]
    },
    {
      "metadata": {
        "id": "jxARqj7ta6C1",
        "colab_type": "text"
      },
      "cell_type": "markdown",
      "source": [
        "####GENERATING SIMILAR MOVIES F ALL THE MOVIE IDS"
      ]
    },
    {
      "metadata": {
        "id": "axX7x9F8Qnzt",
        "colab_type": "code",
        "colab": {}
      },
      "cell_type": "code",
      "source": [
        "similar_movies=dict()\n",
        "for movie in movieids:\n",
        "    sim_movies = moviemoviesimilarity[movie].toarray().ravel().argsort()[::-1][1:]\n",
        "    similar_movies[movie] = sim_movies[:20]\n",
        "    \n"
      ],
      "execution_count": 0,
      "outputs": []
    },
    {
      "metadata": {
        "id": "brC9nX3OS0EY",
        "colab_type": "code",
        "colab": {}
      },
      "cell_type": "code",
      "source": [
        "link1 = 'https://drive.google.com/open?id=1QGzuAaneSbr_PElQov6BxRrGRdgfxd8a' # The shareable link"
      ],
      "execution_count": 0,
      "outputs": []
    },
    {
      "metadata": {
        "id": "r3tSH268TN0D",
        "colab_type": "code",
        "outputId": "19a45145-63f4-44f9-9cd9-5fd069a1cd69",
        "colab": {
          "base_uri": "https://localhost:8080/",
          "height": 34
        }
      },
      "cell_type": "code",
      "source": [
        "fluff, id = link1.split('=')\n",
        "print (id) # Verify that you have everything after '='"
      ],
      "execution_count": 0,
      "outputs": [
        {
          "output_type": "stream",
          "text": [
            "1QGzuAaneSbr_PElQov6BxRrGRdgfxd8a\n"
          ],
          "name": "stdout"
        }
      ]
    },
    {
      "metadata": {
        "id": "c-W1viPKTQvV",
        "colab_type": "code",
        "colab": {}
      },
      "cell_type": "code",
      "source": [
        "import pandas as pd\n",
        "downloaded = drive.CreateFile({'id':id}) \n",
        "downloaded.GetContentFile('Copy of movie_titles.csv')  \n"
      ],
      "execution_count": 0,
      "outputs": []
    },
    {
      "metadata": {
        "id": "yFXUlJctQnz2",
        "colab_type": "code",
        "colab": {}
      },
      "cell_type": "code",
      "source": [
        "movietitle=pd.read_csv('Copy of movie_titles.csv',sep=',',names=['movieid','yearofrelease','titleofname'],index_col = 'movieid', encoding = \"ISO-8859-1\")"
      ],
      "execution_count": 0,
      "outputs": []
    },
    {
      "metadata": {
        "id": "zNhf0VpuQnz4",
        "colab_type": "code",
        "outputId": "c45bf849-7296-4055-a7e5-a5fcac3625d7",
        "colab": {
          "base_uri": "https://localhost:8080/",
          "height": 235
        }
      },
      "cell_type": "code",
      "source": [
        "movietitle[:5]"
      ],
      "execution_count": 0,
      "outputs": [
        {
          "output_type": "execute_result",
          "data": {
            "text/html": [
              "<div>\n",
              "<style scoped>\n",
              "    .dataframe tbody tr th:only-of-type {\n",
              "        vertical-align: middle;\n",
              "    }\n",
              "\n",
              "    .dataframe tbody tr th {\n",
              "        vertical-align: top;\n",
              "    }\n",
              "\n",
              "    .dataframe thead th {\n",
              "        text-align: right;\n",
              "    }\n",
              "</style>\n",
              "<table border=\"1\" class=\"dataframe\">\n",
              "  <thead>\n",
              "    <tr style=\"text-align: right;\">\n",
              "      <th></th>\n",
              "      <th>yearofrelease</th>\n",
              "      <th>titleofname</th>\n",
              "    </tr>\n",
              "    <tr>\n",
              "      <th>movieid</th>\n",
              "      <th></th>\n",
              "      <th></th>\n",
              "    </tr>\n",
              "  </thead>\n",
              "  <tbody>\n",
              "    <tr>\n",
              "      <th>1</th>\n",
              "      <td>2003.0</td>\n",
              "      <td>Dinosaur Planet</td>\n",
              "    </tr>\n",
              "    <tr>\n",
              "      <th>2</th>\n",
              "      <td>2004.0</td>\n",
              "      <td>Isle of Man TT 2004 Review</td>\n",
              "    </tr>\n",
              "    <tr>\n",
              "      <th>3</th>\n",
              "      <td>1997.0</td>\n",
              "      <td>Character</td>\n",
              "    </tr>\n",
              "    <tr>\n",
              "      <th>4</th>\n",
              "      <td>1994.0</td>\n",
              "      <td>Paula Abdul's Get Up &amp; Dance</td>\n",
              "    </tr>\n",
              "    <tr>\n",
              "      <th>5</th>\n",
              "      <td>2004.0</td>\n",
              "      <td>The Rise and Fall of ECW</td>\n",
              "    </tr>\n",
              "  </tbody>\n",
              "</table>\n",
              "</div>"
            ],
            "text/plain": [
              "         yearofrelease                   titleofname\n",
              "movieid                                             \n",
              "1               2003.0               Dinosaur Planet\n",
              "2               2004.0    Isle of Man TT 2004 Review\n",
              "3               1997.0                     Character\n",
              "4               1994.0  Paula Abdul's Get Up & Dance\n",
              "5               2004.0      The Rise and Fall of ECW"
            ]
          },
          "metadata": {
            "tags": []
          },
          "execution_count": 80
        }
      ]
    },
    {
      "metadata": {
        "id": "p_RnyhOcqB-f",
        "colab_type": "code",
        "outputId": "d2ba62c8-4f5d-4614-e328-7b7edba3c842",
        "colab": {
          "base_uri": "https://localhost:8080/",
          "height": 34
        }
      },
      "cell_type": "code",
      "source": [
        "movietitle.shape"
      ],
      "execution_count": 0,
      "outputs": [
        {
          "output_type": "execute_result",
          "data": {
            "text/plain": [
              "(17770, 2)"
            ]
          },
          "metadata": {
            "tags": []
          },
          "execution_count": 81
        }
      ]
    },
    {
      "metadata": {
        "id": "7fjcGipFbR2W",
        "colab_type": "text"
      },
      "cell_type": "markdown",
      "source": [
        "####scipy.sparse.csr_matrix.getnnz\n",
        "#####this is the function used to get the count explicitly\n",
        "####csr_matrix.getnnz(axis=None)[source]"
      ]
    },
    {
      "metadata": {
        "id": "oM7frDGrQnz-",
        "colab_type": "code",
        "colab": {}
      },
      "cell_type": "code",
      "source": [
        "#we use the function to get the count explicitly from csr csr matrix"
      ],
      "execution_count": 0,
      "outputs": []
    },
    {
      "metadata": {
        "id": "PEPyLGA2Qn0A",
        "colab_type": "code",
        "colab": {}
      },
      "cell_type": "code",
      "source": [
        "#for example i want the similar movies to the 27 movie\n",
        "movieid=67\n",
        "#i declared\n",
        "#i will  see in how many rows in my data have the title same as the id 27\n",
        "x=data.loc[data.movie==7]"
      ],
      "execution_count": 0,
      "outputs": []
    },
    {
      "metadata": {
        "id": "Mk4AgBjvQn0C",
        "colab_type": "code",
        "outputId": "dfd18b93-a242-4f84-bd80-1f5f359aaea9",
        "colab": {
          "base_uri": "https://localhost:8080/",
          "height": 102
        }
      },
      "cell_type": "code",
      "source": [
        "print(x)"
      ],
      "execution_count": 0,
      "outputs": [
        {
          "output_type": "stream",
          "text": [
            "     movie     user  rating        date\n",
            "274      7  1666693       1  2001-09-08\n",
            "273      7   752642       1  2001-10-18\n",
            "272      7  1623047       2  2005-06-27\n",
            "271      7  2496985       3  2005-09-16\n"
          ],
          "name": "stdout"
        }
      ]
    },
    {
      "metadata": {
        "id": "Njzv83S_Qn0G",
        "colab_type": "code",
        "outputId": "d37bc767-e54a-42ee-bcc8-0c91ca4d1548",
        "colab": {
          "base_uri": "https://localhost:8080/",
          "height": 34
        }
      },
      "cell_type": "code",
      "source": [
        "print(x.shape)"
      ],
      "execution_count": 0,
      "outputs": [
        {
          "output_type": "stream",
          "text": [
            "(4, 4)\n"
          ],
          "name": "stdout"
        }
      ]
    },
    {
      "metadata": {
        "id": "z2dWxKzpQn0J",
        "colab_type": "code",
        "outputId": "339970ee-d987-4b26-976d-60132bc64a2f",
        "colab": {
          "base_uri": "https://localhost:8080/",
          "height": 34
        }
      },
      "cell_type": "code",
      "source": [
        "#there are 273 number of users haivng 67 as movie\n",
        "similarities=moviemoviesimilarity[movieid].toarray().ravel()\n",
        "print(similarities)"
      ],
      "execution_count": 0,
      "outputs": [
        {
          "output_type": "stream",
          "text": [
            "[0.         0.         0.         ... 0.         0.         0.00397928]\n"
          ],
          "name": "stdout"
        }
      ]
    },
    {
      "metadata": {
        "id": "fruAmG8OQn0L",
        "colab_type": "code",
        "colab": {}
      },
      "cell_type": "code",
      "source": [
        "similarindices=similarities.argsort()[::-1]"
      ],
      "execution_count": 0,
      "outputs": []
    },
    {
      "metadata": {
        "id": "saQ40UUdQn0N",
        "colab_type": "code",
        "outputId": "bb33f8ef-32b0-4999-9028-401a7ccc35e3",
        "colab": {
          "base_uri": "https://localhost:8080/",
          "height": 34
        }
      },
      "cell_type": "code",
      "source": [
        "print(similarindices)"
      ],
      "execution_count": 0,
      "outputs": [
        {
          "output_type": "stream",
          "text": [
            "[  67  308 2812 ... 2519 2518    0]\n"
          ],
          "name": "stdout"
        }
      ]
    },
    {
      "metadata": {
        "id": "xqKmmscMQn0P",
        "colab_type": "raw"
      },
      "cell_type": "markdown",
      "source": [
        "**we got top similar movie ids of the movie id 67\n",
        "from csv file we print them using .loc**"
      ]
    },
    {
      "metadata": {
        "id": "3xZEgtpxufpC",
        "colab_type": "text"
      },
      "cell_type": "markdown",
      "source": [
        "# THIS IS THE BEST THING THAT HAPPEN IN THE MOVIE MOVIE SIMILARITY. WE HAVE JUST CONSTRUCTED THE MOVIE MOVIE SIMILARITY MATRIX USING THE COSINE SIMILARITY. AND TAKING THE MOVIES THAT HAVE HIGHER SIMILAR VALUE AND JUST PRINTING THE TITLES .\n",
        "#### THE KEY TAKE AWAYS ARE TITLE OF MOVIE 'GOLDEN VAMPIRES'\n",
        "#### TITLE OF MOVIE 'LAST VAMPIRE'\n",
        "##### ANOTHER MOVIE WITH SAME YEAR"
      ]
    },
    {
      "metadata": {
        "id": "s-L4to2SQn0Q",
        "colab_type": "code",
        "outputId": "ad6b0012-5b90-44e3-8f8d-1db6975796fb",
        "colab": {
          "base_uri": "https://localhost:8080/",
          "height": 354
        }
      },
      "cell_type": "code",
      "source": [
        "movietitle.loc[similarindices][:5]\n"
      ],
      "execution_count": 0,
      "outputs": [
        {
          "output_type": "stream",
          "text": [
            "/usr/local/lib/python3.6/dist-packages/ipykernel_launcher.py:1: FutureWarning: \n",
            "Passing list-likes to .loc or [] with any missing label will raise\n",
            "KeyError in the future, you can use .reindex() as an alternative.\n",
            "\n",
            "See the documentation here:\n",
            "https://pandas.pydata.org/pandas-docs/stable/indexing.html#deprecate-loc-reindex-listlike\n",
            "  \"\"\"Entry point for launching an IPython kernel.\n"
          ],
          "name": "stderr"
        },
        {
          "output_type": "execute_result",
          "data": {
            "text/html": [
              "<div>\n",
              "<style scoped>\n",
              "    .dataframe tbody tr th:only-of-type {\n",
              "        vertical-align: middle;\n",
              "    }\n",
              "\n",
              "    .dataframe tbody tr th {\n",
              "        vertical-align: top;\n",
              "    }\n",
              "\n",
              "    .dataframe thead th {\n",
              "        text-align: right;\n",
              "    }\n",
              "</style>\n",
              "<table border=\"1\" class=\"dataframe\">\n",
              "  <thead>\n",
              "    <tr style=\"text-align: right;\">\n",
              "      <th></th>\n",
              "      <th>yearofrelease</th>\n",
              "      <th>titleofname</th>\n",
              "    </tr>\n",
              "    <tr>\n",
              "      <th>movieid</th>\n",
              "      <th></th>\n",
              "      <th></th>\n",
              "    </tr>\n",
              "  </thead>\n",
              "  <tbody>\n",
              "    <tr>\n",
              "      <th>67</th>\n",
              "      <td>1997.0</td>\n",
              "      <td>Vampire Journals</td>\n",
              "    </tr>\n",
              "    <tr>\n",
              "      <th>308</th>\n",
              "      <td>1974.0</td>\n",
              "      <td>The Legend of the 7 Golden Vampires/7 Brothers...</td>\n",
              "    </tr>\n",
              "    <tr>\n",
              "      <th>2812</th>\n",
              "      <td>2000.0</td>\n",
              "      <td>Blood: The Last Vampire</td>\n",
              "    </tr>\n",
              "    <tr>\n",
              "      <th>1082</th>\n",
              "      <td>1997.0</td>\n",
              "      <td>Flood: A River's Rampage</td>\n",
              "    </tr>\n",
              "    <tr>\n",
              "      <th>2442</th>\n",
              "      <td>1972.0</td>\n",
              "      <td>Godzilla vs. Gigan</td>\n",
              "    </tr>\n",
              "  </tbody>\n",
              "</table>\n",
              "</div>"
            ],
            "text/plain": [
              "         yearofrelease                                        titleofname\n",
              "movieid                                                                  \n",
              "67              1997.0                                   Vampire Journals\n",
              "308             1974.0  The Legend of the 7 Golden Vampires/7 Brothers...\n",
              "2812            2000.0                            Blood: The Last Vampire\n",
              "1082            1997.0                           Flood: A River's Rampage\n",
              "2442            1972.0                                 Godzilla vs. Gigan"
            ]
          },
          "metadata": {
            "tags": []
          },
          "execution_count": 97
        }
      ]
    },
    {
      "metadata": {
        "id": "EASwN991Qn0T",
        "colab_type": "code",
        "outputId": "af625716-9afe-43dc-c9d3-d0e52d482433",
        "colab": {
          "base_uri": "https://localhost:8080/",
          "height": 68
        }
      },
      "cell_type": "code",
      "source": [
        "movietitle.loc[67]"
      ],
      "execution_count": 0,
      "outputs": [
        {
          "output_type": "execute_result",
          "data": {
            "text/plain": [
              "yearofrelease                1997\n",
              "titleofname      Vampire Journals\n",
              "Name: 67, dtype: object"
            ]
          },
          "metadata": {
            "tags": []
          },
          "execution_count": 98
        }
      ]
    },
    {
      "metadata": {
        "id": "IFzWNOM1vcN6",
        "colab_type": "text"
      },
      "cell_type": "markdown",
      "source": [
        "# WE CAN GENERATE THE SPARSE MATRIX BASED ON THE NUMBER OF USERS ,NUMBER OF MOVIES\n",
        "#BUT THE REASON OF SESSION IS GETTING CRASHED WE ARE DOING FOR 12000 USERS AND 1500 MOVIES INSTEAD OF 25K USERS AND 3KMOVIES"
      ]
    },
    {
      "metadata": {
        "id": "H4kgbUuowHsw",
        "colab_type": "text"
      },
      "cell_type": "markdown",
      "source": [
        "#JUST WHAT IT RETURNS AND HOW THIS WILL RETURN WE HAVE WRITTEN FOE SAMPLE"
      ]
    },
    {
      "metadata": {
        "id": "fbKxEOdrzIek",
        "colab_type": "text"
      },
      "cell_type": "markdown",
      "source": [
        "#FROM HERE THE TASK1 STARTS WE WILL BE USING THE STRATEGY FOR REDUCING THE RMSE WE WILL BE USING THE STACK TYOE OF MODELS WITH XGBOOST AND THE SURPRISE LIBRARY  "
      ]
    },
    {
      "metadata": {
        "id": "ynzC0wWO5Siq",
        "colab_type": "text"
      },
      "cell_type": "markdown",
      "source": [
        "* BEFORE APPLYING THE MODELS WE WILL SAMPLE THE NUMBER OF MOVIES AND THE NUMBER OF USERS THAT WE GONNA CONSIDER.\n",
        "* AS PART OF ASSIGNMENT WW WILL DO FOR 25K USERS AND 3000 MOVIES.\n",
        "* WE WILL GENERATE THE MSPARSE MATRIX OUT OF IT AND WE WILL DO THE FEATURISATION AND APPLY MODELS ON TOP OF THEM.\n",
        "* WE WILL GENERATE THE 13 HAND CRAFTED FEATURES+TH OUTPUT PREDICTION OF BASELINE SIMILARITY AS THE FEATURE+THE OUTPUT PREDICTION OF THE KNN BASED SIMILARITY AS THE FEATURE+THE OUTPUT PREDCITION OF THE MATRIX FACTORIZATION USING SVD AS A FEATURE."
      ]
    },
    {
      "metadata": {
        "id": "uE8v_AWHyzJU",
        "colab_type": "code",
        "colab": {}
      },
      "cell_type": "code",
      "source": [
        "def get_sample_sparse_matrix(sparse_matrix, no_users, no_movies,verbose = True):\n",
        "   \n",
        "    row_ind, col_ind, ratings = sparse.find(sparse_matrix)\n",
        "    users = np.unique(row_ind)\n",
        "    movies = np.unique(col_ind)\n",
        "\n",
        "    print(\"Original Matrix : (users, movies) -- ({} {})\".format(len(users), len(movies)))\n",
        "    print(\"Original Matrix : Ratings -- {}\\n\".format(len(ratings)))\n",
        "\n",
        "    # It just to make sure to get same sample everytime we run this program..\n",
        "    # and pick without replacement....\n",
        "    np.random.seed(15)\n",
        "    sample_users = np.random.choice(users, no_users, replace=False)\n",
        "    sample_movies = np.random.choice(movies, no_movies, replace=False)\n",
        "    # get the boolean mask or these sampled_items in originl row/col_inds..\n",
        "    mask = np.logical_and( np.isin(row_ind, sample_users),\n",
        "                      np.isin(col_ind, sample_movies) )\n",
        "    \n",
        "    sample_sparse_matrix = sparse.csr_matrix((ratings[mask], (row_ind[mask], col_ind[mask])),\n",
        "                                             shape=(max(sample_users)+1, max(sample_movies)+1))\n",
        "\n",
        "    if verbose:\n",
        "        print(\"Sampled Matrix : (users, movies) -- ({} {})\".format(len(sample_users), len(sample_movies)))\n",
        "        print(\"Sampled Matrix : Ratings --\", format(ratings[mask].shape[0]))\n",
        "\n",
        "     \n",
        "    return sample_sparse_matrix"
      ],
      "execution_count": 0,
      "outputs": []
    },
    {
      "metadata": {
        "id": "_zrsmoyzzOIY",
        "colab_type": "code",
        "outputId": "d68485ba-93a5-4ff4-cd78-b869db7c121d",
        "colab": {
          "base_uri": "https://localhost:8080/",
          "height": 102
        }
      },
      "cell_type": "code",
      "source": [
        "finaltrain_sparse_matrix = get_sample_sparse_matrix(trainsparsematrix, no_users=20000, no_movies=2500)"
      ],
      "execution_count": 0,
      "outputs": [
        {
          "output_type": "stream",
          "text": [
            "Original Matrix : (users, movies) -- (333670 7022)\n",
            "Original Matrix : Ratings -- 1600000\n",
            "\n",
            "Sampled Matrix : (users, movies) -- (20000 2500)\n",
            "Sampled Matrix : Ratings -- 37692\n"
          ],
          "name": "stdout"
        }
      ]
    },
    {
      "metadata": {
        "id": "TIyji4NPz-1-",
        "colab_type": "code",
        "outputId": "f4d63a01-1407-404a-b6d9-81d0a6beb24f",
        "colab": {
          "base_uri": "https://localhost:8080/",
          "height": 102
        }
      },
      "cell_type": "code",
      "source": [
        "finaltest_sparse_matrix = get_sample_sparse_matrix(testsparsematrix, no_users=17500, no_movies=1800)"
      ],
      "execution_count": 0,
      "outputs": [
        {
          "output_type": "stream",
          "text": [
            "Original Matrix : (users, movies) -- (193135 6441)\n",
            "Original Matrix : Ratings -- 400000\n",
            "\n",
            "Sampled Matrix : (users, movies) -- (17500 1800)\n",
            "Sampled Matrix : Ratings -- 9939\n"
          ],
          "name": "stdout"
        }
      ]
    },
    {
      "metadata": {
        "id": "GZ7FYSibxrqc",
        "colab_type": "text"
      },
      "cell_type": "markdown",
      "source": [
        "<h3> 4.3.1 Featurizing data for regression problem </h3>"
      ]
    },
    {
      "metadata": {
        "id": "jMTXqVR3xrqd",
        "colab_type": "code",
        "colab": {}
      },
      "cell_type": "code",
      "source": [
        "# get users, movies and ratings from our samples train sparse matrix\n",
        "sample_train_users, sample_train_movies, sample_train_ratings = sparse.find(finaltrain_sparse_matrix)"
      ],
      "execution_count": 0,
      "outputs": []
    },
    {
      "metadata": {
        "id": "xU7-YGOl0Yd2",
        "colab_type": "code",
        "colab": {}
      },
      "cell_type": "code",
      "source": [
        "\n",
        "sample_test_users, sample_test_movies, sample_test_ratings = sparse.find(finaltest_sparse_matrix)"
      ],
      "execution_count": 0,
      "outputs": []
    },
    {
      "metadata": {
        "id": "AUcRHDIRsik7",
        "colab_type": "code",
        "outputId": "c8004b2e-8144-48a1-9149-c59aa4b91866",
        "colab": {
          "base_uri": "https://localhost:8080/",
          "height": 51
        }
      },
      "cell_type": "code",
      "source": [
        "print(len(sample_train_users))\n",
        "print(len(sample_train_movies))"
      ],
      "execution_count": 0,
      "outputs": [
        {
          "output_type": "stream",
          "text": [
            "37692\n",
            "37692\n"
          ],
          "name": "stdout"
        }
      ]
    },
    {
      "metadata": {
        "id": "j4jnWgdtE2Lm",
        "colab_type": "code",
        "outputId": "bb278013-376f-473e-916d-f7304c2039e0",
        "colab": {
          "base_uri": "https://localhost:8080/",
          "height": 34
        }
      },
      "cell_type": "code",
      "source": [
        "print(len(sample_test_movies))"
      ],
      "execution_count": 0,
      "outputs": [
        {
          "output_type": "stream",
          "text": [
            "9939\n"
          ],
          "name": "stdout"
        }
      ]
    },
    {
      "metadata": {
        "id": "YKITuE0z3sa-",
        "colab_type": "code",
        "colab": {}
      },
      "cell_type": "code",
      "source": [
        "def get_average_ratings(sparse_matrix, of_users):\n",
        "    \n",
        "    # average ratings of user/axes\n",
        "    ax = 1 if of_users else 0 # 1 - User axes,0 - Movie axes\n",
        "\n",
        "    # \".A1\" is for converting Column_Matrix to 1-D numpy array \n",
        "    sum_of_ratings = sparse_matrix.sum(axis=ax).A1\n",
        "    # Boolean matrix of ratings ( whether a user rated that movie or not)\n",
        "    is_rated = sparse_matrix!=0\n",
        "    # no of ratings that each user OR movie..\n",
        "    no_of_ratings = is_rated.sum(axis=ax).A1\n",
        "    \n",
        "    # max_user  and max_movie ids in sparse matrix \n",
        "    u,m = sparse_matrix.shape\n",
        "    # creae a dictonary of users and their average ratigns..\n",
        "    average_ratings = { i : sum_of_ratings[i]/no_of_ratings[i]\n",
        "                                 for i in range(u if of_users else m) \n",
        "                                    if no_of_ratings[i] !=0}\n",
        "\n",
        "    # return that dictionary of average ratings\n",
        "    return average_ratings"
      ],
      "execution_count": 0,
      "outputs": []
    },
    {
      "metadata": {
        "id": "k9T1COaN3A-w",
        "colab_type": "code",
        "outputId": "a7ef6ba4-8448-422f-9c7f-e1a5b6bffe35",
        "colab": {
          "base_uri": "https://localhost:8080/",
          "height": 119
        }
      },
      "cell_type": "code",
      "source": [
        "sample_train_averages = dict()\n",
        "# get the global average of ratings in our train set.\n",
        "global_average = finaltrain_sparse_matrix.sum()/finaltrain_sparse_matrix.count_nonzero()\n",
        "sample_train_averages['global'] = global_average\n",
        "sample_train_averages['user'] = get_average_ratings(finaltrain_sparse_matrix, of_users=True)\n",
        "sample_train_averages['movie'] =  get_average_ratings(finaltrain_sparse_matrix, of_users=False)\n",
        "print('\\n No of ratings in Our Sampled train matrix is : {}\\n'.format(finaltrain_sparse_matrix.count_nonzero()))\n",
        "print('\\n No of ratings in Our Sampled test  matrix is : {}\\n'.format(finaltest_sparse_matrix.count_nonzero()))"
      ],
      "execution_count": 0,
      "outputs": [
        {
          "output_type": "stream",
          "text": [
            "\n",
            " No of ratings in Our Sampled train matrix is : 37692\n",
            "\n",
            "\n",
            " No of ratings in Our Sampled test  matrix is : 9939\n",
            "\n"
          ],
          "name": "stdout"
        }
      ]
    },
    {
      "metadata": {
        "scrolled": true,
        "id": "Hr_gXr0ixrqh",
        "colab_type": "code",
        "colab": {}
      },
      "cell_type": "code",
      "source": [
        "import tqdm\n",
        "count = 0\n",
        "l=[]\n",
        "l1=[]\n",
        "l2=[]\n",
        "for (user, movie, rating)  in zip(sample_train_users, sample_train_movies, sample_train_ratings):\n",
        "  \n",
        "  user_sim = cosine_similarity(finaltrain_sparse_matrix[user], finaltrain_sparse_matrix).ravel()\n",
        "  top_sim_users = user_sim.argsort()[::-1][1:] # we are ignoring 'The User' from its similar users.\n",
        "  # get the ratings of most similar users for this movie\n",
        "  top_ratings = finaltrain_sparse_matrix[top_sim_users, movie].toarray().ravel()\n",
        "  #we will make it's length \"5\" by adding movie averages to .\n",
        "  top_sim_users_ratings = list(top_ratings[top_ratings != 0][:5])\n",
        "  top_sim_users_ratings.extend([sample_train_averages['movie'][movie]]*(5 - len(top_sim_users_ratings)))\n",
        "  #     print(top_sim_users_ratings, end=\" \")    \n",
        "\n",
        "\n",
        "            #--------------------- Ratings by \"user\"  to similar movies of \"movie\" ---------------------\n",
        "            # compute the similar movies of the \"movie\"        \n",
        "  movie_sim = cosine_similarity(finaltrain_sparse_matrix[:,movie].T, finaltrain_sparse_matrix.T).ravel()\n",
        "  top_sim_movies = movie_sim.argsort()[::-1][1:] # we are ignoring 'The User' from its similar users.\n",
        "   # get the ratings of most similar movie rated by this user..\n",
        "  top_ratings = finaltrain_sparse_matrix[user, top_sim_movies].toarray().ravel()\n",
        "   # we will make it's length \"5\" by adding user averages to.\n",
        "  top_sim_movies_ratings = list(top_ratings[top_ratings != 0][:5])\n",
        "  top_sim_movies_ratings.extend([sample_train_averages['user'][user]]*(5-len(top_sim_movies_ratings))) \n",
        "  #     print(top_sim_movies_ratings, end=\" : -- \")\n",
        "  #-----------------prepare the row to be stores in a file-----------------# \n",
        "  row = list()\n",
        "  \n",
        "  row.append(user)\n",
        "  row.append(movie)\n",
        "            # Now add the other features to this data...\n",
        "  row.append(sample_train_averages['global']) # first feature\n",
        "            # next 5 features are similar_users \"movie\" ratings\n",
        "  row.extend(top_sim_users_ratings)\n",
        "           # next 5 features are \"user\" ratings for similar_movies\n",
        "  row.extend(top_sim_movies_ratings)\n",
        "        # Avg_user rating\n",
        "  row.append(sample_train_averages['user'][user])\n",
        "            # Avg_movie rating\n",
        "  row.append(sample_train_averages['movie'][movie])\n",
        "\n",
        "            # finalley, The actual Rating of this user-movie pair...\n",
        "  row.append(rating)\n",
        "  l.append(row)\n",
        "  if count%100==0:\n",
        "    print(count)\n",
        "  count = count + 1\n",
        " "
      ],
      "execution_count": 0,
      "outputs": []
    },
    {
      "metadata": {
        "id": "nn_pLEf46klq",
        "colab_type": "text"
      },
      "cell_type": "markdown",
      "source": [
        "#FROM HERE WE GET THE 13 HANDCRAFTED FEATURES FOR TRAIN DATA THAT WE CAN APPLY FOR THE XGBOOST REGRESSOR FOR OHTER FEATURES WE HAVE TO RELY ON THE SURPRISE MODESL."
      ]
    },
    {
      "metadata": {
        "id": "Y2F88TRj-A1G",
        "colab_type": "code",
        "colab": {}
      },
      "cell_type": "code",
      "source": [
        "dataframe=pd.DataFrame(l,columns=['user', 'movie', 'GAvg', 'sur1', 'sur2', 'sur3', 'sur4', 'sur5','smr1', 'smr2', 'smr3', 'smr4', 'smr5', 'UAvg', 'MAvg', 'rating'])"
      ],
      "execution_count": 0,
      "outputs": []
    },
    {
      "metadata": {
        "id": "YtiZqGxyGNw2",
        "colab_type": "code",
        "colab": {}
      },
      "cell_type": "code",
      "source": [
        "dataframe.to_csv('myworktrain.csv')"
      ],
      "execution_count": 0,
      "outputs": []
    },
    {
      "metadata": {
        "id": "XdngKyFoIFQj",
        "colab_type": "code",
        "outputId": "73be28ed-07ac-4133-b656-ed885267d199",
        "colab": {
          "base_uri": "https://localhost:8080/",
          "height": 34
        }
      },
      "cell_type": "code",
      "source": [
        "!pip install -U -q PyDrive\n",
        "from pydrive.auth import GoogleAuth\n",
        "from pydrive.drive import GoogleDrive\n",
        "from google.colab import auth\n",
        "from oauth2client.client import GoogleCredentials\n",
        "\n",
        "# Authenticate and create the PyDrive client.\n",
        "# This only needs to be done once in a notebook.\n",
        "auth.authenticate_user()\n",
        "gauth = GoogleAuth()\n",
        "gauth.credentials = GoogleCredentials.get_application_default()\n",
        "drive = GoogleDrive(gauth)\n",
        "\n",
        "# Create & upload a file.\n",
        "uploaded = drive.CreateFile({'title': 'myworktrain.csv'})\n",
        "uploaded.SetContentFile('myworktrain.csv')\n",
        "uploaded.Upload()\n",
        "print('Uploaded file with ID {}'.format(uploaded.get('id')))"
      ],
      "execution_count": 0,
      "outputs": [
        {
          "output_type": "stream",
          "text": [
            "Uploaded file with ID 1N6lvmdvkSrOXdsY0OGAslZggpHEfZhfy\n"
          ],
          "name": "stdout"
        }
      ]
    },
    {
      "metadata": {
        "id": "r9vMR-Edxrqm",
        "colab_type": "text"
      },
      "cell_type": "markdown",
      "source": [
        "<h4> 4.3.1.2 Featurizing test data </h4>"
      ]
    },
    {
      "metadata": {
        "id": "M2QBhCcMxrqm",
        "colab_type": "code",
        "colab": {}
      },
      "cell_type": "code",
      "source": [
        "# get users, movies and ratings from the Sampled Test \n",
        "sample_test_users, sample_test_movies, sample_test_ratings = sparse.find(finaltest_sparse_matrix)"
      ],
      "execution_count": 0,
      "outputs": []
    },
    {
      "metadata": {
        "scrolled": true,
        "id": "nDL4-uKcxrqo",
        "colab_type": "code",
        "outputId": "a03d5ab4-e43b-4e83-dc5a-4facc29e912e",
        "colab": {
          "base_uri": "https://localhost:8080/",
          "height": 34
        }
      },
      "cell_type": "code",
      "source": [
        "sample_train_averages['global']"
      ],
      "execution_count": 0,
      "outputs": [
        {
          "output_type": "execute_result",
          "data": {
            "text/plain": [
              "3.5968905868619334"
            ]
          },
          "metadata": {
            "tags": []
          },
          "execution_count": 60
        }
      ]
    },
    {
      "metadata": {
        "id": "w2k_67ZnJKjU",
        "colab_type": "code",
        "outputId": "d6bd5843-6291-4d53-a0d6-78dc250b64cb",
        "colab": {
          "base_uri": "https://localhost:8080/",
          "height": 119
        }
      },
      "cell_type": "code",
      "source": [
        "sample_test_averages = dict()\n",
        "# get the global average of ratings in our train set.\n",
        "global_average = finaltrain_sparse_matrix.sum()/finaltrain_sparse_matrix.count_nonzero()\n",
        "sample_test_averages['global'] = global_average\n",
        "sample_test_averages['user'] = get_average_ratings(finaltrain_sparse_matrix, of_users=True)\n",
        "sample_test_averages['movie'] =  get_average_ratings(finaltrain_sparse_matrix, of_users=False)\n",
        "print('\\n No of ratings in Our Sampled train matrix is : {}\\n'.format(finaltrain_sparse_matrix.count_nonzero()))\n",
        "print('\\n No of ratings in Our Sampled test  matrix is : {}\\n'.format(finaltest_sparse_matrix.count_nonzero()))"
      ],
      "execution_count": 0,
      "outputs": [
        {
          "output_type": "stream",
          "text": [
            "\n",
            " No of ratings in Our Sampled train matrix is : 37692\n",
            "\n",
            "\n",
            " No of ratings in Our Sampled test  matrix is : 6856\n",
            "\n"
          ],
          "name": "stdout"
        }
      ]
    },
    {
      "metadata": {
        "id": "CLVejZA3xrqs",
        "colab_type": "code",
        "colab": {}
      },
      "cell_type": "code",
      "source": [
        "lis=[]\n",
        "count=0\n",
        "count1=0\n",
        "for (user, movie, rating)  in zip(sample_test_users, sample_test_movies, sample_test_ratings):\n",
        " \n",
        "  user_sim = cosine_similarity(finaltrain_sparse_matrix[user], finaltrain_sparse_matrix).ravel()\n",
        "  top_sim_users = user_sim.argsort()[::-1][1:] # we are ignoring 'The User' from its similar users.\n",
        "  # get the ratings of most similar users for this movie\n",
        "  top_ratings = finaltrain_sparse_matrix[top_sim_users, movie].toarray().ravel()\n",
        "  #we will make it's length \"5\" by adding movie averages to .\n",
        "  row = list()\n",
        "  \n",
        "  row.append(user)\n",
        "  row.append(movie)\n",
        "  \n",
        "  row.append(sample_test_averages['global']) \n",
        "  try:\n",
        "    top_sim_users_ratings = list(top_ratings[top_ratings != 0][:5])\n",
        "    top_sim_users_ratings.extend([sample_test_averages['movie'][movie]]*(5 - len(top_sim_users_ratings)))\n",
        "    row.extend(top_sim_users_ratings)\n",
        "  except:\n",
        "    row.extend([3.5,3.5,3.5,3.5,3.5])    \n",
        "  movie_sim = cosine_similarity(finaltrain_sparse_matrix[:,movie].T, finaltrain_sparse_matrix.T).ravel()\n",
        "  top_sim_movies = movie_sim.argsort()[::-1][1:] # we are ignoring 'The User' from its similar users.\n",
        "   # get the ratings of most similar movie rated by this user..\n",
        "  top_ratings = finaltrain_sparse_matrix[user, top_sim_movies].toarray().ravel()\n",
        "  \n",
        "  try:\n",
        "    top_sim_movies_ratings = list(top_ratings[top_ratings != 0][:5])\n",
        "    top_sim_movies_ratings.extend([sample_test_averages['user'][user]]*(5-len(top_sim_movies_ratings))) \n",
        "    row.extend(top_sim_movies_ratings)\n",
        "  except:\n",
        "    row.extend([3.5,3.5,3.5,3.5,3.5])\n",
        "  try:\n",
        "    row.append(sample_test_averages['user'][user])\n",
        "  except:\n",
        "    row.append(3.5)\n",
        "  try:\n",
        "    row.append(sample_test_averages['movie'][movie])\n",
        "  except:\n",
        "    row.append(3)\n",
        "  row.append(rating)\n",
        "  lis.append(row)\n",
        "  if count%100==0:\n",
        "    print(count)\n",
        "  count = count + 1\n",
        " "
      ],
      "execution_count": 0,
      "outputs": []
    },
    {
      "metadata": {
        "id": "DKLrE4Vk6-4f",
        "colab_type": "text"
      },
      "cell_type": "markdown",
      "source": [
        "#FROM HERE WE CAN GET THE 13 HANDCRAFTED FEATURES FOR THE TEST DATA FOR OTHER FEATURES WE  HAVE TO USE THE SUPRISE MODELS"
      ]
    },
    {
      "metadata": {
        "colab_type": "code",
        "id": "tJYVAPfNWrdc",
        "colab": {}
      },
      "cell_type": "code",
      "source": [
        "dataframe2=pd.DataFrame(lis,columns=['user', 'movie', 'GAvg', 'sur1', 'sur2', 'sur3', 'sur4', 'sur5','smr1', 'smr2', 'smr3', 'smr4', 'smr5', 'UAvg', 'MAvg', 'rating'])"
      ],
      "execution_count": 0,
      "outputs": []
    },
    {
      "metadata": {
        "colab_type": "code",
        "id": "oGMqKq_TWrdw",
        "colab": {}
      },
      "cell_type": "code",
      "source": [
        "dataframe2.to_csv('myworktestfinal.csv')"
      ],
      "execution_count": 0,
      "outputs": []
    },
    {
      "metadata": {
        "colab_type": "code",
        "id": "EIEnSPYpWrd2",
        "outputId": "8545529d-b58e-428a-c56f-a826c58808c5",
        "colab": {
          "base_uri": "https://localhost:8080/",
          "height": 34
        }
      },
      "cell_type": "code",
      "source": [
        "!pip install -U -q PyDrive\n",
        "from pydrive.auth import GoogleAuth\n",
        "from pydrive.drive import GoogleDrive\n",
        "from google.colab import auth\n",
        "from oauth2client.client import GoogleCredentials\n",
        "\n",
        "# Authenticate and create the PyDrive client.\n",
        "# This only needs to be done once in a notebook.\n",
        "auth.authenticate_user()\n",
        "gauth = GoogleAuth()\n",
        "gauth.credentials = GoogleCredentials.get_application_default()\n",
        "drive = GoogleDrive(gauth)\n",
        "\n",
        "# Create & upload a file.\n",
        "uploaded = drive.CreateFile({'title1': 'myworktestfinal'})\n",
        "uploaded.SetContentFile('myworktestfinal.csv')\n",
        "uploaded.Upload()\n",
        "print('Uploaded file with ID {}'.format(uploaded.get('id')))"
      ],
      "execution_count": 150,
      "outputs": [
        {
          "output_type": "stream",
          "text": [
            "Uploaded file with ID 1bkq7ClEsQDmxsN4EiT9cAIiYP9PxdAIM\n"
          ],
          "name": "stdout"
        }
      ]
    },
    {
      "metadata": {
        "id": "881XxYFGQn05",
        "colab_type": "raw"
      },
      "cell_type": "markdown",
      "source": [
        "#THIS IS DONE FOR THE AS PART OF ASSIGNMENT"
      ]
    },
    {
      "metadata": {
        "id": "UXxnCDhoY5Al",
        "colab_type": "code",
        "outputId": "bde983ab-7f65-46fe-9fb1-7aa6d19f351c",
        "colab": {
          "base_uri": "https://localhost:8080/",
          "height": 272
        }
      },
      "cell_type": "code",
      "source": [
        "!pip install surprise"
      ],
      "execution_count": 0,
      "outputs": [
        {
          "output_type": "stream",
          "text": [
            "Collecting surprise\n",
            "  Downloading https://files.pythonhosted.org/packages/61/de/e5cba8682201fcf9c3719a6fdda95693468ed061945493dea2dd37c5618b/surprise-0.1-py2.py3-none-any.whl\n",
            "Collecting scikit-surprise (from surprise)\n",
            "\u001b[?25l  Downloading https://files.pythonhosted.org/packages/4d/fc/cd4210b247d1dca421c25994740cbbf03c5e980e31881f10eaddf45fdab0/scikit-surprise-1.0.6.tar.gz (3.3MB)\n",
            "\u001b[K    100% |████████████████████████████████| 3.3MB 6.5MB/s \n",
            "\u001b[?25hRequirement already satisfied: joblib>=0.11 in /usr/local/lib/python3.6/dist-packages (from scikit-surprise->surprise) (0.12.5)\n",
            "Requirement already satisfied: numpy>=1.11.2 in /usr/local/lib/python3.6/dist-packages (from scikit-surprise->surprise) (1.16.3)\n",
            "Requirement already satisfied: scipy>=1.0.0 in /usr/local/lib/python3.6/dist-packages (from scikit-surprise->surprise) (1.2.1)\n",
            "Requirement already satisfied: six>=1.10.0 in /usr/local/lib/python3.6/dist-packages (from scikit-surprise->surprise) (1.12.0)\n",
            "Building wheels for collected packages: scikit-surprise\n",
            "  Building wheel for scikit-surprise (setup.py) ... \u001b[?25ldone\n",
            "\u001b[?25h  Stored in directory: /root/.cache/pip/wheels/ec/c0/55/3a28eab06b53c220015063ebbdb81213cd3dcbb72c088251ec\n",
            "Successfully built scikit-surprise\n",
            "Installing collected packages: scikit-surprise, surprise\n",
            "Successfully installed scikit-surprise-1.0.6 surprise-0.1\n"
          ],
          "name": "stdout"
        }
      ]
    },
    {
      "metadata": {
        "id": "MSpvInKw7nko",
        "colab_type": "text"
      },
      "cell_type": "markdown",
      "source": [
        "#ASSIGNMENT STARTS FROM HERE"
      ]
    },
    {
      "metadata": {
        "id": "SVMVpHXDskrg",
        "colab_type": "code",
        "colab": {}
      },
      "cell_type": "code",
      "source": [
        "# this is just to know how much time will it take to run this entire ipython notebook \n",
        "from datetime import datetime\n",
        "# globalstart = datetime.now()\n",
        "import pandas as pd\n",
        "import numpy as np\n",
        "import matplotlib\n",
        "matplotlib.use('nbagg')\n",
        "\n",
        "import matplotlib.pyplot as plt\n",
        "plt.rcParams.update({'figure.max_open_warning': 0})\n",
        "\n",
        "import seaborn as sns\n",
        "sns.set_style('whitegrid')\n",
        "import os\n",
        "from scipy import sparse\n",
        "from scipy.sparse import csr_matrix\n",
        "\n",
        "from sklearn.decomposition import TruncatedSVD\n",
        "from sklearn.metrics.pairwise import cosine_similarity\n",
        "import random"
      ],
      "execution_count": 0,
      "outputs": []
    },
    {
      "metadata": {
        "id": "_nhSx1UtspMt",
        "colab_type": "code",
        "colab": {}
      },
      "cell_type": "code",
      "source": [
        "\n",
        "# Code to read csv file into Colaboratory:\n",
        "!pip install -U -q PyDrive\n",
        "from pydrive.auth import GoogleAuth\n",
        "from pydrive.drive import GoogleDrive\n",
        "from google.colab import auth\n",
        "from oauth2client.client import GoogleCredentials\n",
        "# Authenticate and create the PyDrive client.\n",
        "auth.authenticate_user()\n",
        "gauth = GoogleAuth()\n",
        "gauth.credentials = GoogleCredentials.get_application_default()\n",
        "drive = GoogleDrive(gauth)"
      ],
      "execution_count": 0,
      "outputs": []
    },
    {
      "metadata": {
        "colab_type": "code",
        "id": "W8YLmGDCX8sq",
        "colab": {}
      },
      "cell_type": "code",
      "source": [
        "linka = 'https://drive.google.com/open?id=1Ue5VKZcIMjlT5Iwiqqnp_Rh7ujVVRosX' # The shareable link"
      ],
      "execution_count": 0,
      "outputs": []
    },
    {
      "metadata": {
        "colab_type": "code",
        "outputId": "de65eb76-dbe2-4436-bf35-c5a327206a3a",
        "id": "_1FLp4NcX8s3",
        "colab": {
          "base_uri": "https://localhost:8080/",
          "height": 34
        }
      },
      "cell_type": "code",
      "source": [
        "fluff, id = linka.split('=')\n",
        "print (id) # Verify that you have everything after '='"
      ],
      "execution_count": 4,
      "outputs": [
        {
          "output_type": "stream",
          "text": [
            "1Ue5VKZcIMjlT5Iwiqqnp_Rh7ujVVRosX\n"
          ],
          "name": "stdout"
        }
      ]
    },
    {
      "metadata": {
        "colab_type": "code",
        "id": "WRtSf-_qX8tA",
        "colab": {}
      },
      "cell_type": "code",
      "source": [
        "import pandas as pd\n",
        "downloaded = drive.CreateFile({'id':id}) \n",
        "downloaded.GetContentFile('reg_train.csv')  \n"
      ],
      "execution_count": 0,
      "outputs": []
    },
    {
      "metadata": {
        "colab_type": "code",
        "id": "aBksMVL_XmOn",
        "colab": {}
      },
      "cell_type": "code",
      "source": [
        "import pandas as pd\n",
        "regtrain=pd.read_csv('reg_train.csv',names=['user','movie','GAvg','sur1','sur2','sur3','sur4','sur5','smr1','smr2','smr3','smr4','smr5','UAvg','MAvg','rating'])\n"
      ],
      "execution_count": 0,
      "outputs": []
    },
    {
      "metadata": {
        "id": "f9ZJqjVSrMT8",
        "colab_type": "code",
        "colab": {}
      },
      "cell_type": "code",
      "source": [
        "regtrain.head(5)\n",
        "reg_train=regtrain[['user','movie','GAvg','sur1','sur2','sur3','sur4','sur5','smr1','smr2','smr3','smr4','smr5','UAvg','MAvg','rating']]"
      ],
      "execution_count": 0,
      "outputs": []
    },
    {
      "metadata": {
        "id": "lC71tkL-UTuf",
        "colab_type": "code",
        "outputId": "bbcd78c6-7dd5-41cb-df71-95d14f511161",
        "colab": {
          "base_uri": "https://localhost:8080/",
          "height": 197
        }
      },
      "cell_type": "code",
      "source": [
        "reg_train.head(5)"
      ],
      "execution_count": 11,
      "outputs": [
        {
          "output_type": "execute_result",
          "data": {
            "text/html": [
              "<div>\n",
              "<style scoped>\n",
              "    .dataframe tbody tr th:only-of-type {\n",
              "        vertical-align: middle;\n",
              "    }\n",
              "\n",
              "    .dataframe tbody tr th {\n",
              "        vertical-align: top;\n",
              "    }\n",
              "\n",
              "    .dataframe thead th {\n",
              "        text-align: right;\n",
              "    }\n",
              "</style>\n",
              "<table border=\"1\" class=\"dataframe\">\n",
              "  <thead>\n",
              "    <tr style=\"text-align: right;\">\n",
              "      <th></th>\n",
              "      <th>user</th>\n",
              "      <th>movie</th>\n",
              "      <th>GAvg</th>\n",
              "      <th>sur1</th>\n",
              "      <th>sur2</th>\n",
              "      <th>sur3</th>\n",
              "      <th>sur4</th>\n",
              "      <th>sur5</th>\n",
              "      <th>smr1</th>\n",
              "      <th>smr2</th>\n",
              "      <th>smr3</th>\n",
              "      <th>smr4</th>\n",
              "      <th>smr5</th>\n",
              "      <th>UAvg</th>\n",
              "      <th>MAvg</th>\n",
              "      <th>rating</th>\n",
              "    </tr>\n",
              "  </thead>\n",
              "  <tbody>\n",
              "    <tr>\n",
              "      <th>0</th>\n",
              "      <td>53406</td>\n",
              "      <td>33</td>\n",
              "      <td>3.581679</td>\n",
              "      <td>4.0</td>\n",
              "      <td>5.0</td>\n",
              "      <td>5.0</td>\n",
              "      <td>4.0</td>\n",
              "      <td>1.0</td>\n",
              "      <td>5.0</td>\n",
              "      <td>2.0</td>\n",
              "      <td>5.0</td>\n",
              "      <td>3.0</td>\n",
              "      <td>1.0</td>\n",
              "      <td>3.370370</td>\n",
              "      <td>4.092437</td>\n",
              "      <td>4</td>\n",
              "    </tr>\n",
              "    <tr>\n",
              "      <th>1</th>\n",
              "      <td>99540</td>\n",
              "      <td>33</td>\n",
              "      <td>3.581679</td>\n",
              "      <td>5.0</td>\n",
              "      <td>5.0</td>\n",
              "      <td>5.0</td>\n",
              "      <td>4.0</td>\n",
              "      <td>5.0</td>\n",
              "      <td>3.0</td>\n",
              "      <td>4.0</td>\n",
              "      <td>4.0</td>\n",
              "      <td>3.0</td>\n",
              "      <td>5.0</td>\n",
              "      <td>3.555556</td>\n",
              "      <td>4.092437</td>\n",
              "      <td>3</td>\n",
              "    </tr>\n",
              "    <tr>\n",
              "      <th>2</th>\n",
              "      <td>99865</td>\n",
              "      <td>33</td>\n",
              "      <td>3.581679</td>\n",
              "      <td>5.0</td>\n",
              "      <td>5.0</td>\n",
              "      <td>4.0</td>\n",
              "      <td>5.0</td>\n",
              "      <td>3.0</td>\n",
              "      <td>5.0</td>\n",
              "      <td>4.0</td>\n",
              "      <td>4.0</td>\n",
              "      <td>5.0</td>\n",
              "      <td>4.0</td>\n",
              "      <td>3.714286</td>\n",
              "      <td>4.092437</td>\n",
              "      <td>5</td>\n",
              "    </tr>\n",
              "    <tr>\n",
              "      <th>3</th>\n",
              "      <td>101620</td>\n",
              "      <td>33</td>\n",
              "      <td>3.581679</td>\n",
              "      <td>2.0</td>\n",
              "      <td>3.0</td>\n",
              "      <td>5.0</td>\n",
              "      <td>5.0</td>\n",
              "      <td>4.0</td>\n",
              "      <td>4.0</td>\n",
              "      <td>3.0</td>\n",
              "      <td>3.0</td>\n",
              "      <td>4.0</td>\n",
              "      <td>5.0</td>\n",
              "      <td>3.584416</td>\n",
              "      <td>4.092437</td>\n",
              "      <td>5</td>\n",
              "    </tr>\n",
              "    <tr>\n",
              "      <th>4</th>\n",
              "      <td>112974</td>\n",
              "      <td>33</td>\n",
              "      <td>3.581679</td>\n",
              "      <td>5.0</td>\n",
              "      <td>5.0</td>\n",
              "      <td>5.0</td>\n",
              "      <td>5.0</td>\n",
              "      <td>5.0</td>\n",
              "      <td>3.0</td>\n",
              "      <td>5.0</td>\n",
              "      <td>5.0</td>\n",
              "      <td>5.0</td>\n",
              "      <td>3.0</td>\n",
              "      <td>3.750000</td>\n",
              "      <td>4.092437</td>\n",
              "      <td>5</td>\n",
              "    </tr>\n",
              "  </tbody>\n",
              "</table>\n",
              "</div>"
            ],
            "text/plain": [
              "     user  movie      GAvg  sur1  sur2  sur3  sur4  sur5  smr1  smr2  smr3  \\\n",
              "0   53406     33  3.581679   4.0   5.0   5.0   4.0   1.0   5.0   2.0   5.0   \n",
              "1   99540     33  3.581679   5.0   5.0   5.0   4.0   5.0   3.0   4.0   4.0   \n",
              "2   99865     33  3.581679   5.0   5.0   4.0   5.0   3.0   5.0   4.0   4.0   \n",
              "3  101620     33  3.581679   2.0   3.0   5.0   5.0   4.0   4.0   3.0   3.0   \n",
              "4  112974     33  3.581679   5.0   5.0   5.0   5.0   5.0   3.0   5.0   5.0   \n",
              "\n",
              "   smr4  smr5      UAvg      MAvg  rating  \n",
              "0   3.0   1.0  3.370370  4.092437       4  \n",
              "1   3.0   5.0  3.555556  4.092437       3  \n",
              "2   5.0   4.0  3.714286  4.092437       5  \n",
              "3   4.0   5.0  3.584416  4.092437       5  \n",
              "4   5.0   3.0  3.750000  4.092437       5  "
            ]
          },
          "metadata": {
            "tags": []
          },
          "execution_count": 11
        }
      ]
    },
    {
      "metadata": {
        "id": "p1_JVsN0lC4H",
        "colab_type": "code",
        "colab": {}
      },
      "cell_type": "code",
      "source": [
        "id='1bkq7ClEsQDmxsN4EiT9cAIiYP9PxdAIM'"
      ],
      "execution_count": 0,
      "outputs": []
    },
    {
      "metadata": {
        "colab_type": "code",
        "id": "rOdJzp1eYdgu",
        "colab": {}
      },
      "cell_type": "code",
      "source": [
        "import pandas as pd\n",
        "downloaded = drive.CreateFile({'id':id}) \n",
        "downloaded.GetContentFile('myworktestfinal.csv')  \n"
      ],
      "execution_count": 0,
      "outputs": []
    },
    {
      "metadata": {
        "id": "OHJHzhWPzh4H",
        "colab_type": "code",
        "outputId": "858f757c-cfd4-4343-af53-02df427c327a",
        "colab": {
          "base_uri": "https://localhost:8080/",
          "height": 197
        }
      },
      "cell_type": "code",
      "source": [
        "reg_train.head(5)"
      ],
      "execution_count": 14,
      "outputs": [
        {
          "output_type": "execute_result",
          "data": {
            "text/html": [
              "<div>\n",
              "<style scoped>\n",
              "    .dataframe tbody tr th:only-of-type {\n",
              "        vertical-align: middle;\n",
              "    }\n",
              "\n",
              "    .dataframe tbody tr th {\n",
              "        vertical-align: top;\n",
              "    }\n",
              "\n",
              "    .dataframe thead th {\n",
              "        text-align: right;\n",
              "    }\n",
              "</style>\n",
              "<table border=\"1\" class=\"dataframe\">\n",
              "  <thead>\n",
              "    <tr style=\"text-align: right;\">\n",
              "      <th></th>\n",
              "      <th>user</th>\n",
              "      <th>movie</th>\n",
              "      <th>GAvg</th>\n",
              "      <th>sur1</th>\n",
              "      <th>sur2</th>\n",
              "      <th>sur3</th>\n",
              "      <th>sur4</th>\n",
              "      <th>sur5</th>\n",
              "      <th>smr1</th>\n",
              "      <th>smr2</th>\n",
              "      <th>smr3</th>\n",
              "      <th>smr4</th>\n",
              "      <th>smr5</th>\n",
              "      <th>UAvg</th>\n",
              "      <th>MAvg</th>\n",
              "      <th>rating</th>\n",
              "    </tr>\n",
              "  </thead>\n",
              "  <tbody>\n",
              "    <tr>\n",
              "      <th>0</th>\n",
              "      <td>53406</td>\n",
              "      <td>33</td>\n",
              "      <td>3.581679</td>\n",
              "      <td>4.0</td>\n",
              "      <td>5.0</td>\n",
              "      <td>5.0</td>\n",
              "      <td>4.0</td>\n",
              "      <td>1.0</td>\n",
              "      <td>5.0</td>\n",
              "      <td>2.0</td>\n",
              "      <td>5.0</td>\n",
              "      <td>3.0</td>\n",
              "      <td>1.0</td>\n",
              "      <td>3.370370</td>\n",
              "      <td>4.092437</td>\n",
              "      <td>4</td>\n",
              "    </tr>\n",
              "    <tr>\n",
              "      <th>1</th>\n",
              "      <td>99540</td>\n",
              "      <td>33</td>\n",
              "      <td>3.581679</td>\n",
              "      <td>5.0</td>\n",
              "      <td>5.0</td>\n",
              "      <td>5.0</td>\n",
              "      <td>4.0</td>\n",
              "      <td>5.0</td>\n",
              "      <td>3.0</td>\n",
              "      <td>4.0</td>\n",
              "      <td>4.0</td>\n",
              "      <td>3.0</td>\n",
              "      <td>5.0</td>\n",
              "      <td>3.555556</td>\n",
              "      <td>4.092437</td>\n",
              "      <td>3</td>\n",
              "    </tr>\n",
              "    <tr>\n",
              "      <th>2</th>\n",
              "      <td>99865</td>\n",
              "      <td>33</td>\n",
              "      <td>3.581679</td>\n",
              "      <td>5.0</td>\n",
              "      <td>5.0</td>\n",
              "      <td>4.0</td>\n",
              "      <td>5.0</td>\n",
              "      <td>3.0</td>\n",
              "      <td>5.0</td>\n",
              "      <td>4.0</td>\n",
              "      <td>4.0</td>\n",
              "      <td>5.0</td>\n",
              "      <td>4.0</td>\n",
              "      <td>3.714286</td>\n",
              "      <td>4.092437</td>\n",
              "      <td>5</td>\n",
              "    </tr>\n",
              "    <tr>\n",
              "      <th>3</th>\n",
              "      <td>101620</td>\n",
              "      <td>33</td>\n",
              "      <td>3.581679</td>\n",
              "      <td>2.0</td>\n",
              "      <td>3.0</td>\n",
              "      <td>5.0</td>\n",
              "      <td>5.0</td>\n",
              "      <td>4.0</td>\n",
              "      <td>4.0</td>\n",
              "      <td>3.0</td>\n",
              "      <td>3.0</td>\n",
              "      <td>4.0</td>\n",
              "      <td>5.0</td>\n",
              "      <td>3.584416</td>\n",
              "      <td>4.092437</td>\n",
              "      <td>5</td>\n",
              "    </tr>\n",
              "    <tr>\n",
              "      <th>4</th>\n",
              "      <td>112974</td>\n",
              "      <td>33</td>\n",
              "      <td>3.581679</td>\n",
              "      <td>5.0</td>\n",
              "      <td>5.0</td>\n",
              "      <td>5.0</td>\n",
              "      <td>5.0</td>\n",
              "      <td>5.0</td>\n",
              "      <td>3.0</td>\n",
              "      <td>5.0</td>\n",
              "      <td>5.0</td>\n",
              "      <td>5.0</td>\n",
              "      <td>3.0</td>\n",
              "      <td>3.750000</td>\n",
              "      <td>4.092437</td>\n",
              "      <td>5</td>\n",
              "    </tr>\n",
              "  </tbody>\n",
              "</table>\n",
              "</div>"
            ],
            "text/plain": [
              "     user  movie      GAvg  sur1  sur2  sur3  sur4  sur5  smr1  smr2  smr3  \\\n",
              "0   53406     33  3.581679   4.0   5.0   5.0   4.0   1.0   5.0   2.0   5.0   \n",
              "1   99540     33  3.581679   5.0   5.0   5.0   4.0   5.0   3.0   4.0   4.0   \n",
              "2   99865     33  3.581679   5.0   5.0   4.0   5.0   3.0   5.0   4.0   4.0   \n",
              "3  101620     33  3.581679   2.0   3.0   5.0   5.0   4.0   4.0   3.0   3.0   \n",
              "4  112974     33  3.581679   5.0   5.0   5.0   5.0   5.0   3.0   5.0   5.0   \n",
              "\n",
              "   smr4  smr5      UAvg      MAvg  rating  \n",
              "0   3.0   1.0  3.370370  4.092437       4  \n",
              "1   3.0   5.0  3.555556  4.092437       3  \n",
              "2   5.0   4.0  3.714286  4.092437       5  \n",
              "3   4.0   5.0  3.584416  4.092437       5  \n",
              "4   5.0   3.0  3.750000  4.092437       5  "
            ]
          },
          "metadata": {
            "tags": []
          },
          "execution_count": 14
        }
      ]
    },
    {
      "metadata": {
        "id": "zIBv4JC_YVFD",
        "colab_type": "code",
        "colab": {}
      },
      "cell_type": "code",
      "source": [
        "regtest_df=pd.read_csv('myworktestfinal.csv')\n",
        "#regtest_df=dataframe2\n",
        "reg_test_df=regtest_df[['user','movie','GAvg','sur1','sur2','sur3','sur4','sur5','smr1','smr2','smr3','smr4','smr5','UAvg','MAvg','rating']]"
      ],
      "execution_count": 0,
      "outputs": []
    },
    {
      "metadata": {
        "id": "gah2EJtn7TmB",
        "colab_type": "code",
        "outputId": "69a1938a-a9e3-4342-e464-a8d582900c55",
        "colab": {
          "base_uri": "https://localhost:8080/",
          "height": 68
        }
      },
      "cell_type": "code",
      "source": [
        "\n",
        "reg_test_df.columns"
      ],
      "execution_count": 16,
      "outputs": [
        {
          "output_type": "execute_result",
          "data": {
            "text/plain": [
              "Index(['user', 'movie', 'GAvg', 'sur1', 'sur2', 'sur3', 'sur4', 'sur5', 'smr1',\n",
              "       'smr2', 'smr3', 'smr4', 'smr5', 'UAvg', 'MAvg', 'rating'],\n",
              "      dtype='object')"
            ]
          },
          "metadata": {
            "tags": []
          },
          "execution_count": 16
        }
      ]
    },
    {
      "metadata": {
        "id": "ctDLc_yTpPdA",
        "colab_type": "code",
        "outputId": "3a5a39c9-68a9-4034-d698-cc5fb72e4bdd",
        "colab": {
          "base_uri": "https://localhost:8080/",
          "height": 645
        }
      },
      "cell_type": "code",
      "source": [
        "\n",
        "reg_test_df.head(20)"
      ],
      "execution_count": 17,
      "outputs": [
        {
          "output_type": "execute_result",
          "data": {
            "text/html": [
              "<div>\n",
              "<style scoped>\n",
              "    .dataframe tbody tr th:only-of-type {\n",
              "        vertical-align: middle;\n",
              "    }\n",
              "\n",
              "    .dataframe tbody tr th {\n",
              "        vertical-align: top;\n",
              "    }\n",
              "\n",
              "    .dataframe thead th {\n",
              "        text-align: right;\n",
              "    }\n",
              "</style>\n",
              "<table border=\"1\" class=\"dataframe\">\n",
              "  <thead>\n",
              "    <tr style=\"text-align: right;\">\n",
              "      <th></th>\n",
              "      <th>user</th>\n",
              "      <th>movie</th>\n",
              "      <th>GAvg</th>\n",
              "      <th>sur1</th>\n",
              "      <th>sur2</th>\n",
              "      <th>sur3</th>\n",
              "      <th>sur4</th>\n",
              "      <th>sur5</th>\n",
              "      <th>smr1</th>\n",
              "      <th>smr2</th>\n",
              "      <th>smr3</th>\n",
              "      <th>smr4</th>\n",
              "      <th>smr5</th>\n",
              "      <th>UAvg</th>\n",
              "      <th>MAvg</th>\n",
              "      <th>rating</th>\n",
              "    </tr>\n",
              "  </thead>\n",
              "  <tbody>\n",
              "    <tr>\n",
              "      <th>0</th>\n",
              "      <td>62741</td>\n",
              "      <td>8</td>\n",
              "      <td>3.596891</td>\n",
              "      <td>3.5</td>\n",
              "      <td>3.5</td>\n",
              "      <td>3.5</td>\n",
              "      <td>3.5</td>\n",
              "      <td>3.5</td>\n",
              "      <td>5.0</td>\n",
              "      <td>5.0</td>\n",
              "      <td>5.0</td>\n",
              "      <td>5.000000</td>\n",
              "      <td>5.000000</td>\n",
              "      <td>5.000000</td>\n",
              "      <td>3.0</td>\n",
              "      <td>4</td>\n",
              "    </tr>\n",
              "    <tr>\n",
              "      <th>1</th>\n",
              "      <td>205094</td>\n",
              "      <td>8</td>\n",
              "      <td>3.596891</td>\n",
              "      <td>3.5</td>\n",
              "      <td>3.5</td>\n",
              "      <td>3.5</td>\n",
              "      <td>3.5</td>\n",
              "      <td>3.5</td>\n",
              "      <td>3.5</td>\n",
              "      <td>3.5</td>\n",
              "      <td>3.5</td>\n",
              "      <td>3.500000</td>\n",
              "      <td>3.500000</td>\n",
              "      <td>3.500000</td>\n",
              "      <td>3.0</td>\n",
              "      <td>3</td>\n",
              "    </tr>\n",
              "    <tr>\n",
              "      <th>2</th>\n",
              "      <td>228048</td>\n",
              "      <td>8</td>\n",
              "      <td>3.596891</td>\n",
              "      <td>3.5</td>\n",
              "      <td>3.5</td>\n",
              "      <td>3.5</td>\n",
              "      <td>3.5</td>\n",
              "      <td>3.5</td>\n",
              "      <td>3.5</td>\n",
              "      <td>3.5</td>\n",
              "      <td>3.5</td>\n",
              "      <td>3.500000</td>\n",
              "      <td>3.500000</td>\n",
              "      <td>3.500000</td>\n",
              "      <td>3.0</td>\n",
              "      <td>4</td>\n",
              "    </tr>\n",
              "    <tr>\n",
              "      <th>3</th>\n",
              "      <td>254671</td>\n",
              "      <td>8</td>\n",
              "      <td>3.596891</td>\n",
              "      <td>3.5</td>\n",
              "      <td>3.5</td>\n",
              "      <td>3.5</td>\n",
              "      <td>3.5</td>\n",
              "      <td>3.5</td>\n",
              "      <td>4.0</td>\n",
              "      <td>5.0</td>\n",
              "      <td>5.0</td>\n",
              "      <td>4.666667</td>\n",
              "      <td>4.666667</td>\n",
              "      <td>4.666667</td>\n",
              "      <td>3.0</td>\n",
              "      <td>4</td>\n",
              "    </tr>\n",
              "    <tr>\n",
              "      <th>4</th>\n",
              "      <td>272190</td>\n",
              "      <td>8</td>\n",
              "      <td>3.596891</td>\n",
              "      <td>3.5</td>\n",
              "      <td>3.5</td>\n",
              "      <td>3.5</td>\n",
              "      <td>3.5</td>\n",
              "      <td>3.5</td>\n",
              "      <td>3.5</td>\n",
              "      <td>3.5</td>\n",
              "      <td>3.5</td>\n",
              "      <td>3.500000</td>\n",
              "      <td>3.500000</td>\n",
              "      <td>3.500000</td>\n",
              "      <td>3.0</td>\n",
              "      <td>3</td>\n",
              "    </tr>\n",
              "    <tr>\n",
              "      <th>5</th>\n",
              "      <td>278713</td>\n",
              "      <td>8</td>\n",
              "      <td>3.596891</td>\n",
              "      <td>3.5</td>\n",
              "      <td>3.5</td>\n",
              "      <td>3.5</td>\n",
              "      <td>3.5</td>\n",
              "      <td>3.5</td>\n",
              "      <td>3.5</td>\n",
              "      <td>3.5</td>\n",
              "      <td>3.5</td>\n",
              "      <td>3.500000</td>\n",
              "      <td>3.500000</td>\n",
              "      <td>3.500000</td>\n",
              "      <td>3.0</td>\n",
              "      <td>5</td>\n",
              "    </tr>\n",
              "    <tr>\n",
              "      <th>6</th>\n",
              "      <td>378657</td>\n",
              "      <td>8</td>\n",
              "      <td>3.596891</td>\n",
              "      <td>3.5</td>\n",
              "      <td>3.5</td>\n",
              "      <td>3.5</td>\n",
              "      <td>3.5</td>\n",
              "      <td>3.5</td>\n",
              "      <td>3.5</td>\n",
              "      <td>3.5</td>\n",
              "      <td>3.5</td>\n",
              "      <td>3.500000</td>\n",
              "      <td>3.500000</td>\n",
              "      <td>3.500000</td>\n",
              "      <td>3.0</td>\n",
              "      <td>5</td>\n",
              "    </tr>\n",
              "    <tr>\n",
              "      <th>7</th>\n",
              "      <td>446078</td>\n",
              "      <td>8</td>\n",
              "      <td>3.596891</td>\n",
              "      <td>3.5</td>\n",
              "      <td>3.5</td>\n",
              "      <td>3.5</td>\n",
              "      <td>3.5</td>\n",
              "      <td>3.5</td>\n",
              "      <td>3.5</td>\n",
              "      <td>3.5</td>\n",
              "      <td>3.5</td>\n",
              "      <td>3.500000</td>\n",
              "      <td>3.500000</td>\n",
              "      <td>3.500000</td>\n",
              "      <td>3.0</td>\n",
              "      <td>5</td>\n",
              "    </tr>\n",
              "    <tr>\n",
              "      <th>8</th>\n",
              "      <td>898996</td>\n",
              "      <td>8</td>\n",
              "      <td>3.596891</td>\n",
              "      <td>3.5</td>\n",
              "      <td>3.5</td>\n",
              "      <td>3.5</td>\n",
              "      <td>3.5</td>\n",
              "      <td>3.5</td>\n",
              "      <td>3.5</td>\n",
              "      <td>3.5</td>\n",
              "      <td>3.5</td>\n",
              "      <td>3.500000</td>\n",
              "      <td>3.500000</td>\n",
              "      <td>3.500000</td>\n",
              "      <td>3.0</td>\n",
              "      <td>2</td>\n",
              "    </tr>\n",
              "    <tr>\n",
              "      <th>9</th>\n",
              "      <td>981808</td>\n",
              "      <td>8</td>\n",
              "      <td>3.596891</td>\n",
              "      <td>3.5</td>\n",
              "      <td>3.5</td>\n",
              "      <td>3.5</td>\n",
              "      <td>3.5</td>\n",
              "      <td>3.5</td>\n",
              "      <td>3.5</td>\n",
              "      <td>3.5</td>\n",
              "      <td>3.5</td>\n",
              "      <td>3.500000</td>\n",
              "      <td>3.500000</td>\n",
              "      <td>3.500000</td>\n",
              "      <td>3.0</td>\n",
              "      <td>4</td>\n",
              "    </tr>\n",
              "    <tr>\n",
              "      <th>10</th>\n",
              "      <td>1017112</td>\n",
              "      <td>8</td>\n",
              "      <td>3.596891</td>\n",
              "      <td>3.5</td>\n",
              "      <td>3.5</td>\n",
              "      <td>3.5</td>\n",
              "      <td>3.5</td>\n",
              "      <td>3.5</td>\n",
              "      <td>3.5</td>\n",
              "      <td>3.5</td>\n",
              "      <td>3.5</td>\n",
              "      <td>3.500000</td>\n",
              "      <td>3.500000</td>\n",
              "      <td>3.500000</td>\n",
              "      <td>3.0</td>\n",
              "      <td>5</td>\n",
              "    </tr>\n",
              "    <tr>\n",
              "      <th>11</th>\n",
              "      <td>1034623</td>\n",
              "      <td>8</td>\n",
              "      <td>3.596891</td>\n",
              "      <td>3.5</td>\n",
              "      <td>3.5</td>\n",
              "      <td>3.5</td>\n",
              "      <td>3.5</td>\n",
              "      <td>3.5</td>\n",
              "      <td>3.5</td>\n",
              "      <td>3.5</td>\n",
              "      <td>3.5</td>\n",
              "      <td>3.500000</td>\n",
              "      <td>3.500000</td>\n",
              "      <td>3.500000</td>\n",
              "      <td>3.0</td>\n",
              "      <td>5</td>\n",
              "    </tr>\n",
              "    <tr>\n",
              "      <th>12</th>\n",
              "      <td>1575139</td>\n",
              "      <td>8</td>\n",
              "      <td>3.596891</td>\n",
              "      <td>3.5</td>\n",
              "      <td>3.5</td>\n",
              "      <td>3.5</td>\n",
              "      <td>3.5</td>\n",
              "      <td>3.5</td>\n",
              "      <td>3.5</td>\n",
              "      <td>3.5</td>\n",
              "      <td>3.5</td>\n",
              "      <td>3.500000</td>\n",
              "      <td>3.500000</td>\n",
              "      <td>3.500000</td>\n",
              "      <td>3.0</td>\n",
              "      <td>2</td>\n",
              "    </tr>\n",
              "    <tr>\n",
              "      <th>13</th>\n",
              "      <td>1708664</td>\n",
              "      <td>8</td>\n",
              "      <td>3.596891</td>\n",
              "      <td>3.5</td>\n",
              "      <td>3.5</td>\n",
              "      <td>3.5</td>\n",
              "      <td>3.5</td>\n",
              "      <td>3.5</td>\n",
              "      <td>3.5</td>\n",
              "      <td>3.5</td>\n",
              "      <td>3.5</td>\n",
              "      <td>3.500000</td>\n",
              "      <td>3.500000</td>\n",
              "      <td>3.500000</td>\n",
              "      <td>3.0</td>\n",
              "      <td>4</td>\n",
              "    </tr>\n",
              "    <tr>\n",
              "      <th>14</th>\n",
              "      <td>1768270</td>\n",
              "      <td>8</td>\n",
              "      <td>3.596891</td>\n",
              "      <td>3.5</td>\n",
              "      <td>3.5</td>\n",
              "      <td>3.5</td>\n",
              "      <td>3.5</td>\n",
              "      <td>3.5</td>\n",
              "      <td>3.5</td>\n",
              "      <td>3.5</td>\n",
              "      <td>3.5</td>\n",
              "      <td>3.500000</td>\n",
              "      <td>3.500000</td>\n",
              "      <td>3.500000</td>\n",
              "      <td>3.0</td>\n",
              "      <td>2</td>\n",
              "    </tr>\n",
              "    <tr>\n",
              "      <th>15</th>\n",
              "      <td>1770466</td>\n",
              "      <td>8</td>\n",
              "      <td>3.596891</td>\n",
              "      <td>3.5</td>\n",
              "      <td>3.5</td>\n",
              "      <td>3.5</td>\n",
              "      <td>3.5</td>\n",
              "      <td>3.5</td>\n",
              "      <td>3.5</td>\n",
              "      <td>3.5</td>\n",
              "      <td>3.5</td>\n",
              "      <td>3.500000</td>\n",
              "      <td>3.500000</td>\n",
              "      <td>3.500000</td>\n",
              "      <td>3.0</td>\n",
              "      <td>5</td>\n",
              "    </tr>\n",
              "    <tr>\n",
              "      <th>16</th>\n",
              "      <td>2013490</td>\n",
              "      <td>8</td>\n",
              "      <td>3.596891</td>\n",
              "      <td>3.5</td>\n",
              "      <td>3.5</td>\n",
              "      <td>3.5</td>\n",
              "      <td>3.5</td>\n",
              "      <td>3.5</td>\n",
              "      <td>3.5</td>\n",
              "      <td>3.5</td>\n",
              "      <td>3.5</td>\n",
              "      <td>3.500000</td>\n",
              "      <td>3.500000</td>\n",
              "      <td>3.500000</td>\n",
              "      <td>3.0</td>\n",
              "      <td>4</td>\n",
              "    </tr>\n",
              "    <tr>\n",
              "      <th>17</th>\n",
              "      <td>2549184</td>\n",
              "      <td>8</td>\n",
              "      <td>3.596891</td>\n",
              "      <td>3.5</td>\n",
              "      <td>3.5</td>\n",
              "      <td>3.5</td>\n",
              "      <td>3.5</td>\n",
              "      <td>3.5</td>\n",
              "      <td>3.5</td>\n",
              "      <td>3.5</td>\n",
              "      <td>3.5</td>\n",
              "      <td>3.500000</td>\n",
              "      <td>3.500000</td>\n",
              "      <td>3.500000</td>\n",
              "      <td>3.0</td>\n",
              "      <td>5</td>\n",
              "    </tr>\n",
              "    <tr>\n",
              "      <th>18</th>\n",
              "      <td>2587190</td>\n",
              "      <td>8</td>\n",
              "      <td>3.596891</td>\n",
              "      <td>3.5</td>\n",
              "      <td>3.5</td>\n",
              "      <td>3.5</td>\n",
              "      <td>3.5</td>\n",
              "      <td>3.5</td>\n",
              "      <td>3.5</td>\n",
              "      <td>3.5</td>\n",
              "      <td>3.5</td>\n",
              "      <td>3.500000</td>\n",
              "      <td>3.500000</td>\n",
              "      <td>3.500000</td>\n",
              "      <td>3.0</td>\n",
              "      <td>4</td>\n",
              "    </tr>\n",
              "    <tr>\n",
              "      <th>19</th>\n",
              "      <td>94396</td>\n",
              "      <td>17</td>\n",
              "      <td>3.596891</td>\n",
              "      <td>3.5</td>\n",
              "      <td>3.5</td>\n",
              "      <td>3.5</td>\n",
              "      <td>3.5</td>\n",
              "      <td>3.5</td>\n",
              "      <td>3.5</td>\n",
              "      <td>3.5</td>\n",
              "      <td>3.5</td>\n",
              "      <td>3.500000</td>\n",
              "      <td>3.500000</td>\n",
              "      <td>3.500000</td>\n",
              "      <td>3.0</td>\n",
              "      <td>1</td>\n",
              "    </tr>\n",
              "  </tbody>\n",
              "</table>\n",
              "</div>"
            ],
            "text/plain": [
              "       user  movie      GAvg  sur1  sur2  sur3  sur4  sur5  smr1  smr2  smr3  \\\n",
              "0     62741      8  3.596891   3.5   3.5   3.5   3.5   3.5   5.0   5.0   5.0   \n",
              "1    205094      8  3.596891   3.5   3.5   3.5   3.5   3.5   3.5   3.5   3.5   \n",
              "2    228048      8  3.596891   3.5   3.5   3.5   3.5   3.5   3.5   3.5   3.5   \n",
              "3    254671      8  3.596891   3.5   3.5   3.5   3.5   3.5   4.0   5.0   5.0   \n",
              "4    272190      8  3.596891   3.5   3.5   3.5   3.5   3.5   3.5   3.5   3.5   \n",
              "5    278713      8  3.596891   3.5   3.5   3.5   3.5   3.5   3.5   3.5   3.5   \n",
              "6    378657      8  3.596891   3.5   3.5   3.5   3.5   3.5   3.5   3.5   3.5   \n",
              "7    446078      8  3.596891   3.5   3.5   3.5   3.5   3.5   3.5   3.5   3.5   \n",
              "8    898996      8  3.596891   3.5   3.5   3.5   3.5   3.5   3.5   3.5   3.5   \n",
              "9    981808      8  3.596891   3.5   3.5   3.5   3.5   3.5   3.5   3.5   3.5   \n",
              "10  1017112      8  3.596891   3.5   3.5   3.5   3.5   3.5   3.5   3.5   3.5   \n",
              "11  1034623      8  3.596891   3.5   3.5   3.5   3.5   3.5   3.5   3.5   3.5   \n",
              "12  1575139      8  3.596891   3.5   3.5   3.5   3.5   3.5   3.5   3.5   3.5   \n",
              "13  1708664      8  3.596891   3.5   3.5   3.5   3.5   3.5   3.5   3.5   3.5   \n",
              "14  1768270      8  3.596891   3.5   3.5   3.5   3.5   3.5   3.5   3.5   3.5   \n",
              "15  1770466      8  3.596891   3.5   3.5   3.5   3.5   3.5   3.5   3.5   3.5   \n",
              "16  2013490      8  3.596891   3.5   3.5   3.5   3.5   3.5   3.5   3.5   3.5   \n",
              "17  2549184      8  3.596891   3.5   3.5   3.5   3.5   3.5   3.5   3.5   3.5   \n",
              "18  2587190      8  3.596891   3.5   3.5   3.5   3.5   3.5   3.5   3.5   3.5   \n",
              "19    94396     17  3.596891   3.5   3.5   3.5   3.5   3.5   3.5   3.5   3.5   \n",
              "\n",
              "        smr4      smr5      UAvg  MAvg  rating  \n",
              "0   5.000000  5.000000  5.000000   3.0       4  \n",
              "1   3.500000  3.500000  3.500000   3.0       3  \n",
              "2   3.500000  3.500000  3.500000   3.0       4  \n",
              "3   4.666667  4.666667  4.666667   3.0       4  \n",
              "4   3.500000  3.500000  3.500000   3.0       3  \n",
              "5   3.500000  3.500000  3.500000   3.0       5  \n",
              "6   3.500000  3.500000  3.500000   3.0       5  \n",
              "7   3.500000  3.500000  3.500000   3.0       5  \n",
              "8   3.500000  3.500000  3.500000   3.0       2  \n",
              "9   3.500000  3.500000  3.500000   3.0       4  \n",
              "10  3.500000  3.500000  3.500000   3.0       5  \n",
              "11  3.500000  3.500000  3.500000   3.0       5  \n",
              "12  3.500000  3.500000  3.500000   3.0       2  \n",
              "13  3.500000  3.500000  3.500000   3.0       4  \n",
              "14  3.500000  3.500000  3.500000   3.0       2  \n",
              "15  3.500000  3.500000  3.500000   3.0       5  \n",
              "16  3.500000  3.500000  3.500000   3.0       4  \n",
              "17  3.500000  3.500000  3.500000   3.0       5  \n",
              "18  3.500000  3.500000  3.500000   3.0       4  \n",
              "19  3.500000  3.500000  3.500000   3.0       1  "
            ]
          },
          "metadata": {
            "tags": []
          },
          "execution_count": 17
        }
      ]
    },
    {
      "metadata": {
        "colab_type": "code",
        "id": "9A3WW2C7XmOv",
        "colab": {}
      },
      "cell_type": "code",
      "source": [
        "#from now we start using surprise libraries to build various models opn our data\n",
        "#We can't give raw data (movie, user, rating) to train the model in Surprise library.\n",
        "#They have a saperate format for TRAIN and TEST data, which will be useful for training the models like SVD, KNNBaseLineOnly....etc..,in Surprise.\n",
        "#We can form the trainset from a file, or from a Pandas DataFrame. http://surprise.readthedocs.io/en/stable/getting_started.html#load-dom-dataframe-py"
      ],
      "execution_count": 0,
      "outputs": []
    },
    {
      "metadata": {
        "id": "Apv1fyS4pmmg",
        "colab_type": "code",
        "outputId": "d8a01aef-87b3-4210-c0e9-bd50783abf56",
        "colab": {
          "base_uri": "https://localhost:8080/",
          "height": 119
        }
      },
      "cell_type": "code",
      "source": [
        "!pip install surprise"
      ],
      "execution_count": 19,
      "outputs": [
        {
          "output_type": "stream",
          "text": [
            "Requirement already satisfied: surprise in /usr/local/lib/python3.6/dist-packages (0.1)\n",
            "Requirement already satisfied: scikit-surprise in /usr/local/lib/python3.6/dist-packages (from surprise) (1.0.6)\n",
            "Requirement already satisfied: scipy>=1.0.0 in /usr/local/lib/python3.6/dist-packages (from scikit-surprise->surprise) (1.2.1)\n",
            "Requirement already satisfied: numpy>=1.11.2 in /usr/local/lib/python3.6/dist-packages (from scikit-surprise->surprise) (1.16.3)\n",
            "Requirement already satisfied: joblib>=0.11 in /usr/local/lib/python3.6/dist-packages (from scikit-surprise->surprise) (0.12.5)\n",
            "Requirement already satisfied: six>=1.10.0 in /usr/local/lib/python3.6/dist-packages (from scikit-surprise->surprise) (1.12.0)\n"
          ],
          "name": "stdout"
        }
      ]
    },
    {
      "metadata": {
        "colab_type": "code",
        "id": "x4Nd4tMnXmO2",
        "colab": {}
      },
      "cell_type": "code",
      "source": [
        "from surprise import Reader, Dataset"
      ],
      "execution_count": 0,
      "outputs": []
    },
    {
      "metadata": {
        "id": "iNclUnEWrlRl",
        "colab_type": "code",
        "colab": {}
      },
      "cell_type": "code",
      "source": [
        "# It is to specify how to read the dataframe.\n",
        "# for our dataframe, we don't have to specify anything extra..\n",
        "reader = Reader(rating_scale=(1,5))\n",
        "\n",
        "# create the traindata from the dataframe...\n",
        "train_data = Dataset.load_from_df(reg_train[['user', 'movie', 'rating']], reader)\n",
        "\n",
        "# build the trainset from traindata.., It is of dataset format from surprise library..\n",
        "trainset = train_data.build_full_trainset() "
      ],
      "execution_count": 0,
      "outputs": []
    },
    {
      "metadata": {
        "id": "tREgbz8_rmdk",
        "colab_type": "code",
        "outputId": "4c37bafe-db92-4cd9-ff18-cfb660611298",
        "colab": {
          "base_uri": "https://localhost:8080/",
          "height": 34
        }
      },
      "cell_type": "code",
      "source": [
        "testset = list(zip(reg_test_df.user.values, reg_test_df.movie.values, reg_test_df.rating.values))\n",
        "testset[:3]"
      ],
      "execution_count": 22,
      "outputs": [
        {
          "output_type": "execute_result",
          "data": {
            "text/plain": [
              "[(62741, 8, 4), (205094, 8, 3), (228048, 8, 4)]"
            ]
          },
          "metadata": {
            "tags": []
          },
          "execution_count": 22
        }
      ]
    },
    {
      "metadata": {
        "id": "mPsw8SfRr6TQ",
        "colab_type": "code",
        "outputId": "49226c88-10e6-476f-984a-98bd24c6abc2",
        "colab": {
          "base_uri": "https://localhost:8080/",
          "height": 34
        }
      },
      "cell_type": "code",
      "source": [
        "models_evaluation_train = dict()\n",
        "models_evaluation_test = dict()\n",
        "\n",
        "models_evaluation_train, models_evaluation_test"
      ],
      "execution_count": 23,
      "outputs": [
        {
          "output_type": "execute_result",
          "data": {
            "text/plain": [
              "({}, {})"
            ]
          },
          "metadata": {
            "tags": []
          },
          "execution_count": 23
        }
      ]
    },
    {
      "metadata": {
        "id": "VktcQZ2iJf1j",
        "colab_type": "text"
      },
      "cell_type": "markdown",
      "source": [
        "## IMPORTING THE FILES AND CONVERTING THE DATA SO THAT IT CAN FIT INTO THE SURPRISE MODELS. WE GONNA APPLY THE REGRESSION MODELS ON TOP OF THESE MODELS. WE WILL USE THESE TECHNIQUES AND FORM THE SURPRISE MODELS WE GONNA GET THE PREDICTED VALUES,. WE WILL USE THESE PREDICTED VALUES AS THE FEATURES FOR THE NEXT MODELS."
      ]
    },
    {
      "metadata": {
        "id": "CXQoYutCKYUL",
        "colab_type": "text"
      },
      "cell_type": "markdown",
      "source": [
        "## WE WIRTE THE UTILTY FUNCTIONS FOR THE MODELS THAT WE ARE RUNNING. WE IMPORT THE MODELS FROM SURPRISE AND PASS THROUGH THE UTILTIY FUNCTIONS AND OBTAIN THE RESULTS. IN CASE OF  XGBOOST WE WILL HYPERPARAMETER TUNE USING THE TRAIN DATA. IN CASE IF XGBOOST WE DO FOT THE NUMBER OF ESTIMATORS AND THE DEPTH OF TREE."
      ]
    },
    {
      "metadata": {
        "id": "-TrHiOE6r8qu",
        "colab_type": "code",
        "colab": {}
      },
      "cell_type": "code",
      "source": [
        "# to get rmse and mape given actual and predicted ratings..\n",
        "from sklearn.metrics import mean_squared_error\n",
        "from sklearn.metrics import mean_absolute_error\n",
        "def get_error_metrics(y_true, y_pred):\n",
        "    rmse = np.sqrt(np.mean([ (y_true[i] - y_pred[i])**2 for i in range(len(y_pred)) ]))\n",
        "    mape = np.mean(np.abs( (y_true - y_pred)/y_true )) * 100\n",
        "    return rmse, mape\n",
        "\n",
        "\n",
        "def run_xgboost(algo,  x_train, y_train, x_test, y_test, verbose=True):\n",
        "    \n",
        "    train_results = dict()\n",
        "    test_results = dict()\n",
        "    \n",
        "    \n",
        "    algo.fit(x_train, y_train, eval_metric = 'rmse')\n",
        "    \n",
        "    print('Evaluating the model with TRAIN data...')\n",
        "    start =datetime.now()\n",
        "    y_train_pred = algo.predict(x_train)\n",
        "    # get the rmse and mape of train data...\n",
        "    rmse_train, mape_train = get_error_metrics(y_train.values, y_train_pred)\n",
        "    \n",
        "    # store the results in train_results dictionary..\n",
        "    train_results = {'rmse': rmse_train,\n",
        "                    'mape' : mape_train,\n",
        "                    'predictions' : y_train_pred}\n",
        "    \n",
        "   \n",
        "    # get the test data predictions and compute rmse and mape\n",
        "    print('Evaluating Test data')\n",
        "    y_test_pred = algo.predict(x_test) \n",
        "    rmse_test, mape_test = get_error_metrics(y_true=y_test.values, y_pred=y_test_pred)\n",
        "    # store them in our test results dictionary.\n",
        "    test_results = {'rmse': rmse_test,\n",
        "                    'mape' : mape_test,\n",
        "                    'predictions':y_test_pred}\n",
        "    print(y_test_pred)\n",
        "    print(np.array(y_test))\n",
        "    if verbose:\n",
        "        print('\\nTEST DATA')\n",
        "        print('-'*30)\n",
        "        print('RMSE : ', rmse_test)\n",
        "        print('MAPE : ', mape_test)\n",
        "       \n",
        "    # return these train and test results...\n",
        "    return train_results, test_results\n",
        "    "
      ],
      "execution_count": 0,
      "outputs": []
    },
    {
      "metadata": {
        "id": "4oOpzp3sLDvw",
        "colab_type": "text"
      },
      "cell_type": "markdown",
      "source": [
        "## UTILITY FUNCTIONS FOR THE RUNNING SURPRISE MODELS"
      ]
    },
    {
      "metadata": {
        "id": "KCirYbLGr-79",
        "colab_type": "code",
        "colab": {}
      },
      "cell_type": "code",
      "source": [
        "# it is just to makesure that all of our algorithms should produce same results\n",
        "# everytime they run...\n",
        "\n",
        "my_seed = 15\n",
        "np.random.seed(my_seed)\n",
        "\n",
        "##########################################################\n",
        "# get  (actual_list , predicted_list) ratings given list \n",
        "# of predictions (prediction is a class in Surprise).    \n",
        "##########################################################\n",
        "def get_ratings(predictions):\n",
        "    actual = np.array([pred.r_ui for pred in predictions])\n",
        "    pred = np.array([pred.est for pred in predictions])\n",
        "    \n",
        "    return actual, pred\n",
        "\n",
        "################################################################\n",
        "# get ''rmse'' and ''mape'' , given list of prediction objecs \n",
        "################################################################\n",
        "def get_errors(predictions, print_them=False):\n",
        "\n",
        "    actual, pred = get_ratings(predictions)\n",
        "    rmse = np.sqrt(np.mean((pred - actual)**2))\n",
        "    mape = np.mean(np.abs(pred - actual)/actual)\n",
        "\n",
        "    return rmse, mape*100\n",
        "##################################################################################\n",
        "# It will return predicted ratings, rmse and mape of both train and test data   #\n",
        "##################################################################################\n",
        "def run_surprise(algo, trainset, testset, verbose=True): \n",
        "    '''\n",
        "        return train_dict, test_dict\n",
        "    \n",
        "        It returns two dictionaries, one for train and the other is for test\n",
        "        Each of them have 3 key-value pairs, which specify ''rmse'', ''mape'', and ''predicted ratings''.\n",
        "    '''\n",
        "    start = datetime.now()\n",
        "    # dictionaries that stores metrics for train and test..\n",
        "    train = dict()\n",
        "    test = dict()\n",
        "    \n",
        "    # train the algorithm with the trainset\n",
        "    st = datetime.now()\n",
        "    print('Training the model...')\n",
        "    algo.fit(trainset)\n",
        "    print('Done. time taken : {} \\n'.format(datetime.now()-st))\n",
        "    \n",
        "    # ---------------- Evaluating train data--------------------#\n",
        "    st = datetime.now()\n",
        "    print('Evaluating the model with train data..')\n",
        "    # get the train predictions (list of prediction class inside Surprise)\n",
        "    train_preds = algo.test(trainset.build_testset())\n",
        "    # get predicted ratings from the train predictions..\n",
        "    train_actual_ratings, train_pred_ratings = get_ratings(train_preds)\n",
        "    \n",
        "    # get ''rmse'' and ''mape'' from the train predictions.\n",
        "    train_rmse, train_mape = get_errors(train_preds)\n",
        "    print('time taken : {}'.format(datetime.now()-st))\n",
        "    \n",
        "    if verbose:\n",
        "        print('-'*15)\n",
        "        print('Train Data')\n",
        "        print('-'*15)\n",
        "        print(\"RMSE : {}\\n\\nMAPE : {}\\n\".format(train_rmse, train_mape))\n",
        "    \n",
        "    #store them in the train dictionary\n",
        "    if verbose:\n",
        "        print('adding train results in the dictionary..')\n",
        "    train['rmse'] = train_rmse\n",
        "    train['mape'] = train_mape\n",
        "    train['predictions'] = train_pred_ratings\n",
        "    \n",
        "    #------------ Evaluating Test data---------------#\n",
        "    st = datetime.now()\n",
        "    print('\\nEvaluating for test data...')\n",
        "    # get the predictions( list of prediction classes) of test data\n",
        "    test_preds = algo.test(testset)\n",
        "    # get the predicted ratings from the list of predictions\n",
        "    test_actual_ratings, test_pred_ratings = get_ratings(test_preds)\n",
        "    # get error metrics from the predicted and actual ratings\n",
        "    test_rmse, test_mape = get_errors(test_preds)\n",
        "    print('time taken : {}'.format(datetime.now()-st))\n",
        "    \n",
        "    if verbose:\n",
        "        print('-'*15)\n",
        "        print('Test Data')\n",
        "        print('-'*15)\n",
        "        print(\"RMSE : {}\\n\\nMAPE : {}\\n\".format(test_rmse, test_mape))\n",
        "    # store them in test dictionary\n",
        "    if verbose:\n",
        "        print('storing the test results in test dictionary...')\n",
        "    test['rmse'] = test_rmse\n",
        "    test['mape'] = test_mape\n",
        "    test['predictions'] = test_pred_ratings\n",
        "    \n",
        "    \n",
        "    \n",
        "    # return two dictionaries train and test\n",
        "    return train, test"
      ],
      "execution_count": 0,
      "outputs": []
    },
    {
      "metadata": {
        "id": "uktk74IMLO2S",
        "colab_type": "text"
      },
      "cell_type": "markdown",
      "source": [
        "## MODELLING STRATEGY\n",
        "* APPLYING THE XGBOOST REGRESSOR ON TOP OF ALREADY GENERATED 13 FEATURES LIKE GLOBAL AVERAGE, RATINGS GIVEN BY THE 5 SIMILAR USERS ,RATINGS GIVEN TO THE 5 SIMILAR  MOVIES,AVERAGE OF THE RATINGS 5 SIMILAR USERS,AVERAGE  OF RATINGS OF 5 SIMILAR MOVIES.\n",
        "* APPLY THE SURPRISE BASE LINE MODEL WITH 13 FEATURES AND OBTAIN THE PREDICTED VALUES.\n",
        "* APPLY THE XG BOOST REGRESSION MODELS BY HYPERPARAMETER TUNING WITH 13 FEATURES AND THE PREDICTED VALUES GENERATED BY THE SURPRISE BASELINE MODEL.\n",
        "* APPLY THE KNN MODEL WITH USER USER SIMILARITY WITH 13 FEATURES AND OBTAIN THE PREDICTED VALUES.\n",
        "* APPLY THE KNN MODEL WITH MOVIE MOVIE SIMILARITY WITH 13 FEATURES AND OBTAIN THE PREDICTED VALUES\n",
        "* APPLY THE MATRIX FACTORIZATION SVD USING SURPRISE OVER THE TRAIN DATA WITH 13 FEATURES OBTAIN PREDICTED VALUES\n",
        "* APPLY THE MATRIX FACTORIZATION SVD++ WITH SURPRISE AND OBTAIN THE PREDUICTED VALUES\n",
        "* APPLY THE XG BOOST REGRESSOR ON TOP OF KNN MODELLED FEATURES AND MATRIX FACTORISED FEATURES AND KNN FEATURES + 13 FEATURES "
      ]
    },
    {
      "metadata": {
        "id": "q5wEbSujNgmm",
        "colab_type": "text"
      },
      "cell_type": "markdown",
      "source": [
        "## COMAPRE THE ERROR OBTAINED FROM THE MODELS RMSE AND MAPE AND HOW THE MODELS PERFORMED."
      ]
    },
    {
      "metadata": {
        "id": "Jh6CNDb1xrrI",
        "colab_type": "text"
      },
      "cell_type": "markdown",
      "source": [
        "<h3> 4.4.1 XGBoost with initial 13 features </h3>"
      ]
    },
    {
      "metadata": {
        "id": "GDMZ35MNxrrJ",
        "colab_type": "code",
        "colab": {}
      },
      "cell_type": "code",
      "source": [
        "import xgboost as xgb"
      ],
      "execution_count": 0,
      "outputs": []
    },
    {
      "metadata": {
        "id": "KeZX2IvdbigB",
        "colab_type": "code",
        "outputId": "b79f421d-9a62-49d3-875d-40b4da3d9474",
        "colab": {
          "base_uri": "https://localhost:8080/",
          "height": 197
        }
      },
      "cell_type": "code",
      "source": [
        "x_train = reg_train.drop(['user','movie','rating'], axis=1)\n",
        "y_train = reg_train['rating']\n",
        "x_test = reg_test_df.drop(['user','movie','rating'], axis=1)\n",
        "y_test = reg_test_df['rating']\n",
        "x_train.head(5)\n"
      ],
      "execution_count": 27,
      "outputs": [
        {
          "output_type": "execute_result",
          "data": {
            "text/html": [
              "<div>\n",
              "<style scoped>\n",
              "    .dataframe tbody tr th:only-of-type {\n",
              "        vertical-align: middle;\n",
              "    }\n",
              "\n",
              "    .dataframe tbody tr th {\n",
              "        vertical-align: top;\n",
              "    }\n",
              "\n",
              "    .dataframe thead th {\n",
              "        text-align: right;\n",
              "    }\n",
              "</style>\n",
              "<table border=\"1\" class=\"dataframe\">\n",
              "  <thead>\n",
              "    <tr style=\"text-align: right;\">\n",
              "      <th></th>\n",
              "      <th>GAvg</th>\n",
              "      <th>sur1</th>\n",
              "      <th>sur2</th>\n",
              "      <th>sur3</th>\n",
              "      <th>sur4</th>\n",
              "      <th>sur5</th>\n",
              "      <th>smr1</th>\n",
              "      <th>smr2</th>\n",
              "      <th>smr3</th>\n",
              "      <th>smr4</th>\n",
              "      <th>smr5</th>\n",
              "      <th>UAvg</th>\n",
              "      <th>MAvg</th>\n",
              "    </tr>\n",
              "  </thead>\n",
              "  <tbody>\n",
              "    <tr>\n",
              "      <th>0</th>\n",
              "      <td>3.581679</td>\n",
              "      <td>4.0</td>\n",
              "      <td>5.0</td>\n",
              "      <td>5.0</td>\n",
              "      <td>4.0</td>\n",
              "      <td>1.0</td>\n",
              "      <td>5.0</td>\n",
              "      <td>2.0</td>\n",
              "      <td>5.0</td>\n",
              "      <td>3.0</td>\n",
              "      <td>1.0</td>\n",
              "      <td>3.370370</td>\n",
              "      <td>4.092437</td>\n",
              "    </tr>\n",
              "    <tr>\n",
              "      <th>1</th>\n",
              "      <td>3.581679</td>\n",
              "      <td>5.0</td>\n",
              "      <td>5.0</td>\n",
              "      <td>5.0</td>\n",
              "      <td>4.0</td>\n",
              "      <td>5.0</td>\n",
              "      <td>3.0</td>\n",
              "      <td>4.0</td>\n",
              "      <td>4.0</td>\n",
              "      <td>3.0</td>\n",
              "      <td>5.0</td>\n",
              "      <td>3.555556</td>\n",
              "      <td>4.092437</td>\n",
              "    </tr>\n",
              "    <tr>\n",
              "      <th>2</th>\n",
              "      <td>3.581679</td>\n",
              "      <td>5.0</td>\n",
              "      <td>5.0</td>\n",
              "      <td>4.0</td>\n",
              "      <td>5.0</td>\n",
              "      <td>3.0</td>\n",
              "      <td>5.0</td>\n",
              "      <td>4.0</td>\n",
              "      <td>4.0</td>\n",
              "      <td>5.0</td>\n",
              "      <td>4.0</td>\n",
              "      <td>3.714286</td>\n",
              "      <td>4.092437</td>\n",
              "    </tr>\n",
              "    <tr>\n",
              "      <th>3</th>\n",
              "      <td>3.581679</td>\n",
              "      <td>2.0</td>\n",
              "      <td>3.0</td>\n",
              "      <td>5.0</td>\n",
              "      <td>5.0</td>\n",
              "      <td>4.0</td>\n",
              "      <td>4.0</td>\n",
              "      <td>3.0</td>\n",
              "      <td>3.0</td>\n",
              "      <td>4.0</td>\n",
              "      <td>5.0</td>\n",
              "      <td>3.584416</td>\n",
              "      <td>4.092437</td>\n",
              "    </tr>\n",
              "    <tr>\n",
              "      <th>4</th>\n",
              "      <td>3.581679</td>\n",
              "      <td>5.0</td>\n",
              "      <td>5.0</td>\n",
              "      <td>5.0</td>\n",
              "      <td>5.0</td>\n",
              "      <td>5.0</td>\n",
              "      <td>3.0</td>\n",
              "      <td>5.0</td>\n",
              "      <td>5.0</td>\n",
              "      <td>5.0</td>\n",
              "      <td>3.0</td>\n",
              "      <td>3.750000</td>\n",
              "      <td>4.092437</td>\n",
              "    </tr>\n",
              "  </tbody>\n",
              "</table>\n",
              "</div>"
            ],
            "text/plain": [
              "       GAvg  sur1  sur2  sur3  sur4  sur5  smr1  smr2  smr3  smr4  smr5  \\\n",
              "0  3.581679   4.0   5.0   5.0   4.0   1.0   5.0   2.0   5.0   3.0   1.0   \n",
              "1  3.581679   5.0   5.0   5.0   4.0   5.0   3.0   4.0   4.0   3.0   5.0   \n",
              "2  3.581679   5.0   5.0   4.0   5.0   3.0   5.0   4.0   4.0   5.0   4.0   \n",
              "3  3.581679   2.0   3.0   5.0   5.0   4.0   4.0   3.0   3.0   4.0   5.0   \n",
              "4  3.581679   5.0   5.0   5.0   5.0   5.0   3.0   5.0   5.0   5.0   3.0   \n",
              "\n",
              "       UAvg      MAvg  \n",
              "0  3.370370  4.092437  \n",
              "1  3.555556  4.092437  \n",
              "2  3.714286  4.092437  \n",
              "3  3.584416  4.092437  \n",
              "4  3.750000  4.092437  "
            ]
          },
          "metadata": {
            "tags": []
          },
          "execution_count": 27
        }
      ]
    },
    {
      "metadata": {
        "id": "Btg6nrqTbwvE",
        "colab_type": "code",
        "outputId": "6e9b4f58-6045-451f-e410-ff37a3e0a13d",
        "colab": {
          "base_uri": "https://localhost:8080/",
          "height": 197
        }
      },
      "cell_type": "code",
      "source": [
        "x_test.head(5)"
      ],
      "execution_count": 28,
      "outputs": [
        {
          "output_type": "execute_result",
          "data": {
            "text/html": [
              "<div>\n",
              "<style scoped>\n",
              "    .dataframe tbody tr th:only-of-type {\n",
              "        vertical-align: middle;\n",
              "    }\n",
              "\n",
              "    .dataframe tbody tr th {\n",
              "        vertical-align: top;\n",
              "    }\n",
              "\n",
              "    .dataframe thead th {\n",
              "        text-align: right;\n",
              "    }\n",
              "</style>\n",
              "<table border=\"1\" class=\"dataframe\">\n",
              "  <thead>\n",
              "    <tr style=\"text-align: right;\">\n",
              "      <th></th>\n",
              "      <th>GAvg</th>\n",
              "      <th>sur1</th>\n",
              "      <th>sur2</th>\n",
              "      <th>sur3</th>\n",
              "      <th>sur4</th>\n",
              "      <th>sur5</th>\n",
              "      <th>smr1</th>\n",
              "      <th>smr2</th>\n",
              "      <th>smr3</th>\n",
              "      <th>smr4</th>\n",
              "      <th>smr5</th>\n",
              "      <th>UAvg</th>\n",
              "      <th>MAvg</th>\n",
              "    </tr>\n",
              "  </thead>\n",
              "  <tbody>\n",
              "    <tr>\n",
              "      <th>0</th>\n",
              "      <td>3.596891</td>\n",
              "      <td>3.5</td>\n",
              "      <td>3.5</td>\n",
              "      <td>3.5</td>\n",
              "      <td>3.5</td>\n",
              "      <td>3.5</td>\n",
              "      <td>5.0</td>\n",
              "      <td>5.0</td>\n",
              "      <td>5.0</td>\n",
              "      <td>5.000000</td>\n",
              "      <td>5.000000</td>\n",
              "      <td>5.000000</td>\n",
              "      <td>3.0</td>\n",
              "    </tr>\n",
              "    <tr>\n",
              "      <th>1</th>\n",
              "      <td>3.596891</td>\n",
              "      <td>3.5</td>\n",
              "      <td>3.5</td>\n",
              "      <td>3.5</td>\n",
              "      <td>3.5</td>\n",
              "      <td>3.5</td>\n",
              "      <td>3.5</td>\n",
              "      <td>3.5</td>\n",
              "      <td>3.5</td>\n",
              "      <td>3.500000</td>\n",
              "      <td>3.500000</td>\n",
              "      <td>3.500000</td>\n",
              "      <td>3.0</td>\n",
              "    </tr>\n",
              "    <tr>\n",
              "      <th>2</th>\n",
              "      <td>3.596891</td>\n",
              "      <td>3.5</td>\n",
              "      <td>3.5</td>\n",
              "      <td>3.5</td>\n",
              "      <td>3.5</td>\n",
              "      <td>3.5</td>\n",
              "      <td>3.5</td>\n",
              "      <td>3.5</td>\n",
              "      <td>3.5</td>\n",
              "      <td>3.500000</td>\n",
              "      <td>3.500000</td>\n",
              "      <td>3.500000</td>\n",
              "      <td>3.0</td>\n",
              "    </tr>\n",
              "    <tr>\n",
              "      <th>3</th>\n",
              "      <td>3.596891</td>\n",
              "      <td>3.5</td>\n",
              "      <td>3.5</td>\n",
              "      <td>3.5</td>\n",
              "      <td>3.5</td>\n",
              "      <td>3.5</td>\n",
              "      <td>4.0</td>\n",
              "      <td>5.0</td>\n",
              "      <td>5.0</td>\n",
              "      <td>4.666667</td>\n",
              "      <td>4.666667</td>\n",
              "      <td>4.666667</td>\n",
              "      <td>3.0</td>\n",
              "    </tr>\n",
              "    <tr>\n",
              "      <th>4</th>\n",
              "      <td>3.596891</td>\n",
              "      <td>3.5</td>\n",
              "      <td>3.5</td>\n",
              "      <td>3.5</td>\n",
              "      <td>3.5</td>\n",
              "      <td>3.5</td>\n",
              "      <td>3.5</td>\n",
              "      <td>3.5</td>\n",
              "      <td>3.5</td>\n",
              "      <td>3.500000</td>\n",
              "      <td>3.500000</td>\n",
              "      <td>3.500000</td>\n",
              "      <td>3.0</td>\n",
              "    </tr>\n",
              "  </tbody>\n",
              "</table>\n",
              "</div>"
            ],
            "text/plain": [
              "       GAvg  sur1  sur2  sur3  sur4  sur5  smr1  smr2  smr3      smr4  \\\n",
              "0  3.596891   3.5   3.5   3.5   3.5   3.5   5.0   5.0   5.0  5.000000   \n",
              "1  3.596891   3.5   3.5   3.5   3.5   3.5   3.5   3.5   3.5  3.500000   \n",
              "2  3.596891   3.5   3.5   3.5   3.5   3.5   3.5   3.5   3.5  3.500000   \n",
              "3  3.596891   3.5   3.5   3.5   3.5   3.5   4.0   5.0   5.0  4.666667   \n",
              "4  3.596891   3.5   3.5   3.5   3.5   3.5   3.5   3.5   3.5  3.500000   \n",
              "\n",
              "       smr5      UAvg  MAvg  \n",
              "0  5.000000  5.000000   3.0  \n",
              "1  3.500000  3.500000   3.0  \n",
              "2  3.500000  3.500000   3.0  \n",
              "3  4.666667  4.666667   3.0  \n",
              "4  3.500000  3.500000   3.0  "
            ]
          },
          "metadata": {
            "tags": []
          },
          "execution_count": 28
        }
      ]
    },
    {
      "metadata": {
        "id": "HcArS-3yb7JY",
        "colab_type": "code",
        "outputId": "4b820734-52f2-4661-9ec9-514bb484debe",
        "colab": {
          "base_uri": "https://localhost:8080/",
          "height": 119
        }
      },
      "cell_type": "code",
      "source": [
        "y_train.head(5)"
      ],
      "execution_count": 29,
      "outputs": [
        {
          "output_type": "execute_result",
          "data": {
            "text/plain": [
              "0    4\n",
              "1    3\n",
              "2    5\n",
              "3    5\n",
              "4    5\n",
              "Name: rating, dtype: int64"
            ]
          },
          "metadata": {
            "tags": []
          },
          "execution_count": 29
        }
      ]
    },
    {
      "metadata": {
        "id": "w6MeaB0gcKSW",
        "colab_type": "code",
        "outputId": "e2f77386-821f-4da5-9705-0392ce15c4cc",
        "colab": {
          "base_uri": "https://localhost:8080/",
          "height": 119
        }
      },
      "cell_type": "code",
      "source": [
        "y_test.head(5)"
      ],
      "execution_count": 30,
      "outputs": [
        {
          "output_type": "execute_result",
          "data": {
            "text/plain": [
              "0    4\n",
              "1    3\n",
              "2    4\n",
              "3    4\n",
              "4    3\n",
              "Name: rating, dtype: int64"
            ]
          },
          "metadata": {
            "tags": []
          },
          "execution_count": 30
        }
      ]
    },
    {
      "metadata": {
        "id": "tQDqqCLE0RJz",
        "colab_type": "text"
      },
      "cell_type": "markdown",
      "source": [
        "## WE HAVE USED THE XGBOOST REGRESSOR AND PERFORMED THE HYPERPARAMETER TUNING AND OBTAINED THE BEST PARAMETERS. USING THIS BEST PARAMETERS WE WILL TRAIN THE XGB MODEL AND OBTAIN THE MSE AND MAPE VALUES."
      ]
    },
    {
      "metadata": {
        "id": "DoxUdAnFxrrK",
        "colab_type": "code",
        "outputId": "4be96cb9-b68f-4081-a6f2-bb5c8990fe32",
        "colab": {
          "base_uri": "https://localhost:8080/",
          "height": 34
        }
      },
      "cell_type": "code",
      "source": [
        "%matplotlib inline\n",
        "\n",
        "import warnings\n",
        "warnings.filterwarnings(\"ignore\")\n",
        "import xgboost as xgb\n",
        "from sklearn.model_selection import RandomizedSearchCV\n",
        "hyper_parameter = {\"max_depth\":[1,5,10,20], \"n_estimators\":[40, 80, 150,200]}\n",
        "firstxgb=xgb.XGBRegressor()\n",
        "best_parameter = RandomizedSearchCV(firstxgb, hyper_parameter, scoring = \"neg_mean_absolute_error\", cv = 3)\n",
        "best_parameter.fit(x_train,y_train)\n",
        "estimators = best_parameter.best_params_[\"n_estimators\"]\n",
        "depth = best_parameter.best_params_[\"max_depth\"]\n",
        "print(best_parameter.best_params_)\n"
      ],
      "execution_count": 125,
      "outputs": [
        {
          "output_type": "stream",
          "text": [
            "{'n_estimators': 150, 'max_depth': 5}\n"
          ],
          "name": "stdout"
        }
      ]
    },
    {
      "metadata": {
        "id": "gTqak5fCsjQQ",
        "colab_type": "code",
        "outputId": "3957d90f-a4b3-4d51-abd7-982f15d56f39",
        "colab": {
          "base_uri": "https://localhost:8080/",
          "height": 449
        }
      },
      "cell_type": "code",
      "source": [
        "# initialize Our first XGBoost model...\n",
        "%matplotlib inline\n",
        "import matplotlib.pyplot as plt\n",
        "x_train = reg_train.drop(['user','movie','rating'], axis=1)\n",
        "y_train = reg_train['rating']\n",
        "\n",
        "# Prepare Test data\n",
        "x_test = reg_test_df.drop(['user','movie','rating'], axis=1)\n",
        "y_test = reg_test_df['rating']\n",
        "\n",
        "first_xgb = xgb.XGBRegressor(max_depth=5,n_estimators=150)\n",
        "train_results, test_results = run_xgboost(first_xgb, x_train, y_train, x_test, y_test)\n",
        "\n",
        "# store the results in models_evaluations dictionaries\n",
        "models_evaluation_train['first_algo'] = train_results\n",
        "\n",
        "models_evaluation_test['first_algo'] = test_results\n",
        "\n",
        "xgb.plot_importance(first_xgb)\n",
        "plt.show()"
      ],
      "execution_count": 127,
      "outputs": [
        {
          "output_type": "stream",
          "text": [
            "Evaluating the model with TRAIN data...\n",
            "Evaluating Test data\n",
            "[4.9839535 3.2801645 3.2801645 ... 3.7214463 3.2801645 3.2801645]\n",
            "[4 3 4 ... 3 3 3]\n",
            "\n",
            "TEST DATA\n",
            "------------------------------\n",
            "RMSE :  1.096898490464984\n",
            "MAPE :  32.66595668281339\n"
          ],
          "name": "stdout"
        },
        {
          "output_type": "display_data",
          "data": {
            "image/png": "[encoded data removed]",
            "text/plain": [
              "<Figure size 432x288 with 1 Axes>"
            ]
          },
          "metadata": {
            "tags": []
          }
        }
      ]
    },
    {
      "metadata": {
        "id": "PeKAFV97txH9",
        "colab_type": "text"
      },
      "cell_type": "markdown",
      "source": [
        "## WE HAVE USED SURPRISE BASELEARN MODEL AFTER USING THE XGBOOST REGRESSOR AS A PART OF OUR MODELLING STRATEGY.THE GENERATED OUTPUT IS FED AS A OUTPUT TO THE NEXT MODEL THAT IS XG BOOST REGRESSOR."
      ]
    },
    {
      "metadata": {
        "id": "W8hufY5DqSbF",
        "colab_type": "code",
        "outputId": "b89d629d-e62b-4590-af23-5f9d17db1b8f",
        "colab": {
          "base_uri": "https://localhost:8080/",
          "height": 34
        }
      },
      "cell_type": "code",
      "source": [
        "print(trainset)"
      ],
      "execution_count": 54,
      "outputs": [
        {
          "output_type": "stream",
          "text": [
            "<surprise.trainset.Trainset object at 0x7f75c05dde48>\n"
          ],
          "name": "stdout"
        }
      ]
    },
    {
      "metadata": {
        "id": "BTzuJt35tfD8",
        "colab_type": "code",
        "outputId": "3d48f0b8-edcc-4416-8a2a-74591ca4459d",
        "colab": {
          "base_uri": "https://localhost:8080/",
          "height": 443
        }
      },
      "cell_type": "code",
      "source": [
        "from surprise import BaselineOnly \n",
        "# options are to specify.., how to compute those user and item biases\n",
        "bsl_options = {'method': 'sgd',\n",
        "               'learning_rate': .001\n",
        "               }\n",
        "bsl_algo = BaselineOnly(bsl_options=bsl_options)\n",
        "# run this algorithm.., It will return the train and test results..\n",
        "bsl_train_results, bsl_test_results = run_surprise(bsl_algo, trainset, testset, verbose=True)\n",
        "\n",
        "\n",
        "# Just store these error metrics in our models_evaluation datastructure\n",
        "models_evaluation_train['bsl_algo'] = bsl_train_results \n",
        "models_evaluation_test['bsl_algo'] = bsl_test_results"
      ],
      "execution_count": 31,
      "outputs": [
        {
          "output_type": "stream",
          "text": [
            "Training the model...\n",
            "Estimating biases using sgd...\n",
            "Done. time taken : 0:00:00.641308 \n",
            "\n",
            "Evaluating the model with train data..\n",
            "time taken : 0:00:01.221677\n",
            "---------------\n",
            "Train Data\n",
            "---------------\n",
            "RMSE : 0.9347153928678286\n",
            "\n",
            "MAPE : 29.389572652358183\n",
            "\n",
            "adding train results in the dictionary..\n",
            "\n",
            "Evaluating for test data...\n",
            "time taken : 0:00:00.248501\n",
            "---------------\n",
            "Test Data\n",
            "---------------\n",
            "RMSE : 1.0849691787617808\n",
            "\n",
            "MAPE : 35.43509593097902\n",
            "\n",
            "storing the test results in test dictionary...\n"
          ],
          "name": "stdout"
        }
      ]
    },
    {
      "metadata": {
        "id": "oGMcJz48tmfP",
        "colab_type": "code",
        "outputId": "58557e88-cc79-43f2-9a6f-a47182baedc0",
        "colab": {
          "base_uri": "https://localhost:8080/",
          "height": 107
        }
      },
      "cell_type": "code",
      "source": [
        "# add our baseline_predicted value as our feature..\n",
        "reg_train['bslpr'] = models_evaluation_train['bsl_algo']['predictions']\n",
        "reg_train.head(2) "
      ],
      "execution_count": 56,
      "outputs": [
        {
          "output_type": "execute_result",
          "data": {
            "text/html": [
              "<div>\n",
              "<style scoped>\n",
              "    .dataframe tbody tr th:only-of-type {\n",
              "        vertical-align: middle;\n",
              "    }\n",
              "\n",
              "    .dataframe tbody tr th {\n",
              "        vertical-align: top;\n",
              "    }\n",
              "\n",
              "    .dataframe thead th {\n",
              "        text-align: right;\n",
              "    }\n",
              "</style>\n",
              "<table border=\"1\" class=\"dataframe\">\n",
              "  <thead>\n",
              "    <tr style=\"text-align: right;\">\n",
              "      <th></th>\n",
              "      <th>user</th>\n",
              "      <th>movie</th>\n",
              "      <th>GAvg</th>\n",
              "      <th>sur1</th>\n",
              "      <th>sur2</th>\n",
              "      <th>sur3</th>\n",
              "      <th>sur4</th>\n",
              "      <th>sur5</th>\n",
              "      <th>smr1</th>\n",
              "      <th>smr2</th>\n",
              "      <th>smr3</th>\n",
              "      <th>smr4</th>\n",
              "      <th>smr5</th>\n",
              "      <th>UAvg</th>\n",
              "      <th>MAvg</th>\n",
              "      <th>rating</th>\n",
              "      <th>bslpr</th>\n",
              "    </tr>\n",
              "  </thead>\n",
              "  <tbody>\n",
              "    <tr>\n",
              "      <th>0</th>\n",
              "      <td>62741</td>\n",
              "      <td>8</td>\n",
              "      <td>3.596891</td>\n",
              "      <td>3.5</td>\n",
              "      <td>3.5</td>\n",
              "      <td>3.5</td>\n",
              "      <td>3.5</td>\n",
              "      <td>3.5</td>\n",
              "      <td>5.0</td>\n",
              "      <td>5.0</td>\n",
              "      <td>5.0</td>\n",
              "      <td>5.0</td>\n",
              "      <td>5.0</td>\n",
              "      <td>5.0</td>\n",
              "      <td>3.0</td>\n",
              "      <td>4</td>\n",
              "      <td>3.718377</td>\n",
              "    </tr>\n",
              "    <tr>\n",
              "      <th>1</th>\n",
              "      <td>205094</td>\n",
              "      <td>8</td>\n",
              "      <td>3.596891</td>\n",
              "      <td>3.5</td>\n",
              "      <td>3.5</td>\n",
              "      <td>3.5</td>\n",
              "      <td>3.5</td>\n",
              "      <td>3.5</td>\n",
              "      <td>3.5</td>\n",
              "      <td>3.5</td>\n",
              "      <td>3.5</td>\n",
              "      <td>3.5</td>\n",
              "      <td>3.5</td>\n",
              "      <td>3.5</td>\n",
              "      <td>3.0</td>\n",
              "      <td>3</td>\n",
              "      <td>3.704770</td>\n",
              "    </tr>\n",
              "  </tbody>\n",
              "</table>\n",
              "</div>"
            ],
            "text/plain": [
              "     user  movie      GAvg  sur1  sur2  sur3  sur4  sur5  smr1  smr2  smr3  \\\n",
              "0   62741      8  3.596891   3.5   3.5   3.5   3.5   3.5   5.0   5.0   5.0   \n",
              "1  205094      8  3.596891   3.5   3.5   3.5   3.5   3.5   3.5   3.5   3.5   \n",
              "\n",
              "   smr4  smr5  UAvg  MAvg  rating     bslpr  \n",
              "0   5.0   5.0   5.0   3.0       4  3.718377  \n",
              "1   3.5   3.5   3.5   3.0       3  3.704770  "
            ]
          },
          "metadata": {
            "tags": []
          },
          "execution_count": 56
        }
      ]
    },
    {
      "metadata": {
        "id": "TTDU8HRo02Si",
        "colab_type": "code",
        "outputId": "608e30da-c66e-43c3-96b9-b35ff49a3de7",
        "colab": {
          "base_uri": "https://localhost:8080/",
          "height": 107
        }
      },
      "cell_type": "code",
      "source": [
        "# add that baseline predicted ratings with Surprise to the test data as well\n",
        "reg_test_df['bslpr']  = models_evaluation_test['bsl_algo']['predictions']\n",
        "\n",
        "reg_test_df.head(2)"
      ],
      "execution_count": 57,
      "outputs": [
        {
          "output_type": "execute_result",
          "data": {
            "text/html": [
              "<div>\n",
              "<style scoped>\n",
              "    .dataframe tbody tr th:only-of-type {\n",
              "        vertical-align: middle;\n",
              "    }\n",
              "\n",
              "    .dataframe tbody tr th {\n",
              "        vertical-align: top;\n",
              "    }\n",
              "\n",
              "    .dataframe thead th {\n",
              "        text-align: right;\n",
              "    }\n",
              "</style>\n",
              "<table border=\"1\" class=\"dataframe\">\n",
              "  <thead>\n",
              "    <tr style=\"text-align: right;\">\n",
              "      <th></th>\n",
              "      <th>user</th>\n",
              "      <th>movie</th>\n",
              "      <th>GAvg</th>\n",
              "      <th>sur1</th>\n",
              "      <th>sur2</th>\n",
              "      <th>sur3</th>\n",
              "      <th>sur4</th>\n",
              "      <th>sur5</th>\n",
              "      <th>smr1</th>\n",
              "      <th>smr2</th>\n",
              "      <th>smr3</th>\n",
              "      <th>smr4</th>\n",
              "      <th>smr5</th>\n",
              "      <th>UAvg</th>\n",
              "      <th>MAvg</th>\n",
              "      <th>rating</th>\n",
              "      <th>bslpr</th>\n",
              "    </tr>\n",
              "  </thead>\n",
              "  <tbody>\n",
              "    <tr>\n",
              "      <th>0</th>\n",
              "      <td>62741</td>\n",
              "      <td>8</td>\n",
              "      <td>3.596891</td>\n",
              "      <td>3.5</td>\n",
              "      <td>3.5</td>\n",
              "      <td>3.5</td>\n",
              "      <td>3.5</td>\n",
              "      <td>3.5</td>\n",
              "      <td>5.0</td>\n",
              "      <td>5.0</td>\n",
              "      <td>5.0</td>\n",
              "      <td>5.0</td>\n",
              "      <td>5.0</td>\n",
              "      <td>5.0</td>\n",
              "      <td>3.0</td>\n",
              "      <td>4</td>\n",
              "      <td>3.718377</td>\n",
              "    </tr>\n",
              "    <tr>\n",
              "      <th>1</th>\n",
              "      <td>205094</td>\n",
              "      <td>8</td>\n",
              "      <td>3.596891</td>\n",
              "      <td>3.5</td>\n",
              "      <td>3.5</td>\n",
              "      <td>3.5</td>\n",
              "      <td>3.5</td>\n",
              "      <td>3.5</td>\n",
              "      <td>3.5</td>\n",
              "      <td>3.5</td>\n",
              "      <td>3.5</td>\n",
              "      <td>3.5</td>\n",
              "      <td>3.5</td>\n",
              "      <td>3.5</td>\n",
              "      <td>3.0</td>\n",
              "      <td>3</td>\n",
              "      <td>3.704770</td>\n",
              "    </tr>\n",
              "  </tbody>\n",
              "</table>\n",
              "</div>"
            ],
            "text/plain": [
              "     user  movie      GAvg  sur1  sur2  sur3  sur4  sur5  smr1  smr2  smr3  \\\n",
              "0   62741      8  3.596891   3.5   3.5   3.5   3.5   3.5   5.0   5.0   5.0   \n",
              "1  205094      8  3.596891   3.5   3.5   3.5   3.5   3.5   3.5   3.5   3.5   \n",
              "\n",
              "   smr4  smr5  UAvg  MAvg  rating     bslpr  \n",
              "0   5.0   5.0   5.0   3.0       4  3.718377  \n",
              "1   3.5   3.5   3.5   3.0       3  3.704770  "
            ]
          },
          "metadata": {
            "tags": []
          },
          "execution_count": 57
        }
      ]
    },
    {
      "metadata": {
        "id": "wBmzKPFO05US",
        "colab_type": "text"
      },
      "cell_type": "markdown",
      "source": [
        "##WE WILL UPDATE THE DATAFRAMES WITH THE FEATURES OUTPUT OBTAINED FROM THE BASELINEONLY MODEL."
      ]
    },
    {
      "metadata": {
        "id": "d1YqrM0v04WD",
        "colab_type": "code",
        "outputId": "6a214f65-9fb8-4b90-e119-f6236abc251d",
        "colab": {
          "base_uri": "https://localhost:8080/",
          "height": 34
        }
      },
      "cell_type": "code",
      "source": [
        "# prepare train data\n",
        "x_train = reg_train.drop(['user', 'movie','rating'], axis=1)\n",
        "y_train = reg_train['rating']\n",
        "\n",
        "# Prepare Test data\n",
        "x_test = reg_test_df.drop(['user','movie','rating'], axis=1)\n",
        "y_test = reg_test_df['rating']\n",
        "import warnings\n",
        "warnings.filterwarnings(\"ignore\")\n",
        "import xgboost as xgb\n",
        "from sklearn.model_selection import RandomizedSearchCV\n",
        "hyper_parameter = {\"max_depth\":[1,5,10,20], \"n_estimators\":[40, 80,100,120,130, 150,200]}\n",
        "firstxgb=xgb.XGBRegressor()\n",
        "best_parameter = RandomizedSearchCV(firstxgb, hyper_parameter, scoring = \"neg_mean_absolute_error\", cv = 3)\n",
        "best_parameter.fit(x_train,y_train)\n",
        "estimators = best_parameter.best_params_[\"n_estimators\"]\n",
        "depth = best_parameter.best_params_[\"max_depth\"]\n",
        "print(best_parameter.best_params_)\n",
        "\n"
      ],
      "execution_count": 161,
      "outputs": [
        {
          "output_type": "stream",
          "text": [
            "{'n_estimators': 120, 'max_depth': 5}\n"
          ],
          "name": "stdout"
        }
      ]
    },
    {
      "metadata": {
        "id": "LGLp7oY442nU",
        "colab_type": "code",
        "outputId": "c17c7fef-b8bd-483a-a2ce-d99e3f450e87",
        "colab": {
          "base_uri": "https://localhost:8080/",
          "height": 197
        }
      },
      "cell_type": "code",
      "source": [
        "x_train.head(5)"
      ],
      "execution_count": 162,
      "outputs": [
        {
          "output_type": "execute_result",
          "data": {
            "text/html": [
              "<div>\n",
              "<style scoped>\n",
              "    .dataframe tbody tr th:only-of-type {\n",
              "        vertical-align: middle;\n",
              "    }\n",
              "\n",
              "    .dataframe tbody tr th {\n",
              "        vertical-align: top;\n",
              "    }\n",
              "\n",
              "    .dataframe thead th {\n",
              "        text-align: right;\n",
              "    }\n",
              "</style>\n",
              "<table border=\"1\" class=\"dataframe\">\n",
              "  <thead>\n",
              "    <tr style=\"text-align: right;\">\n",
              "      <th></th>\n",
              "      <th>GAvg</th>\n",
              "      <th>sur1</th>\n",
              "      <th>sur2</th>\n",
              "      <th>sur3</th>\n",
              "      <th>sur4</th>\n",
              "      <th>sur5</th>\n",
              "      <th>smr1</th>\n",
              "      <th>smr2</th>\n",
              "      <th>smr3</th>\n",
              "      <th>smr4</th>\n",
              "      <th>smr5</th>\n",
              "      <th>UAvg</th>\n",
              "      <th>MAvg</th>\n",
              "      <th>bslpr</th>\n",
              "    </tr>\n",
              "  </thead>\n",
              "  <tbody>\n",
              "    <tr>\n",
              "      <th>0</th>\n",
              "      <td>3.581679</td>\n",
              "      <td>4.0</td>\n",
              "      <td>5.0</td>\n",
              "      <td>5.0</td>\n",
              "      <td>4.0</td>\n",
              "      <td>1.0</td>\n",
              "      <td>5.0</td>\n",
              "      <td>2.0</td>\n",
              "      <td>5.0</td>\n",
              "      <td>3.0</td>\n",
              "      <td>1.0</td>\n",
              "      <td>3.370370</td>\n",
              "      <td>4.092437</td>\n",
              "      <td>3.898982</td>\n",
              "    </tr>\n",
              "    <tr>\n",
              "      <th>1</th>\n",
              "      <td>3.581679</td>\n",
              "      <td>5.0</td>\n",
              "      <td>5.0</td>\n",
              "      <td>5.0</td>\n",
              "      <td>4.0</td>\n",
              "      <td>5.0</td>\n",
              "      <td>3.0</td>\n",
              "      <td>4.0</td>\n",
              "      <td>4.0</td>\n",
              "      <td>3.0</td>\n",
              "      <td>5.0</td>\n",
              "      <td>3.555556</td>\n",
              "      <td>4.092437</td>\n",
              "      <td>3.371403</td>\n",
              "    </tr>\n",
              "    <tr>\n",
              "      <th>2</th>\n",
              "      <td>3.581679</td>\n",
              "      <td>5.0</td>\n",
              "      <td>5.0</td>\n",
              "      <td>4.0</td>\n",
              "      <td>5.0</td>\n",
              "      <td>3.0</td>\n",
              "      <td>5.0</td>\n",
              "      <td>4.0</td>\n",
              "      <td>4.0</td>\n",
              "      <td>5.0</td>\n",
              "      <td>4.0</td>\n",
              "      <td>3.714286</td>\n",
              "      <td>4.092437</td>\n",
              "      <td>3.323708</td>\n",
              "    </tr>\n",
              "    <tr>\n",
              "      <th>3</th>\n",
              "      <td>3.581679</td>\n",
              "      <td>2.0</td>\n",
              "      <td>3.0</td>\n",
              "      <td>5.0</td>\n",
              "      <td>5.0</td>\n",
              "      <td>4.0</td>\n",
              "      <td>4.0</td>\n",
              "      <td>3.0</td>\n",
              "      <td>3.0</td>\n",
              "      <td>4.0</td>\n",
              "      <td>5.0</td>\n",
              "      <td>3.584416</td>\n",
              "      <td>4.092437</td>\n",
              "      <td>3.378411</td>\n",
              "    </tr>\n",
              "    <tr>\n",
              "      <th>4</th>\n",
              "      <td>3.581679</td>\n",
              "      <td>5.0</td>\n",
              "      <td>5.0</td>\n",
              "      <td>5.0</td>\n",
              "      <td>5.0</td>\n",
              "      <td>5.0</td>\n",
              "      <td>3.0</td>\n",
              "      <td>5.0</td>\n",
              "      <td>5.0</td>\n",
              "      <td>5.0</td>\n",
              "      <td>3.0</td>\n",
              "      <td>3.750000</td>\n",
              "      <td>4.092437</td>\n",
              "      <td>3.691637</td>\n",
              "    </tr>\n",
              "  </tbody>\n",
              "</table>\n",
              "</div>"
            ],
            "text/plain": [
              "       GAvg  sur1  sur2  sur3  sur4  sur5  smr1  smr2  smr3  smr4  smr5  \\\n",
              "0  3.581679   4.0   5.0   5.0   4.0   1.0   5.0   2.0   5.0   3.0   1.0   \n",
              "1  3.581679   5.0   5.0   5.0   4.0   5.0   3.0   4.0   4.0   3.0   5.0   \n",
              "2  3.581679   5.0   5.0   4.0   5.0   3.0   5.0   4.0   4.0   5.0   4.0   \n",
              "3  3.581679   2.0   3.0   5.0   5.0   4.0   4.0   3.0   3.0   4.0   5.0   \n",
              "4  3.581679   5.0   5.0   5.0   5.0   5.0   3.0   5.0   5.0   5.0   3.0   \n",
              "\n",
              "       UAvg      MAvg     bslpr  \n",
              "0  3.370370  4.092437  3.898982  \n",
              "1  3.555556  4.092437  3.371403  \n",
              "2  3.714286  4.092437  3.323708  \n",
              "3  3.584416  4.092437  3.378411  \n",
              "4  3.750000  4.092437  3.691637  "
            ]
          },
          "metadata": {
            "tags": []
          },
          "execution_count": 162
        }
      ]
    },
    {
      "metadata": {
        "id": "DGKhlYaq1HQu",
        "colab_type": "code",
        "outputId": "63fd86ff-2ada-4b4e-b7db-1cfedc30ec4c",
        "colab": {
          "base_uri": "https://localhost:8080/",
          "height": 449
        }
      },
      "cell_type": "code",
      "source": [
        "# initialize Our first XGBoost model...\n",
        "xgb_bsl = xgb.XGBRegressor(max_depth=5,estimators=120)\n",
        "train_results, test_results = run_xgboost(xgb_bsl, x_train, y_train, x_test, y_test)\n",
        "\n",
        "# store the results in models_evaluations dictionaries\n",
        "models_evaluation_train['xgb_bsl'] = train_results\n",
        "models_evaluation_test['xgb_bsl'] = test_results\n",
        "\n",
        "xgb.plot_importance(xgb_bsl)\n",
        "plt.show()\n"
      ],
      "execution_count": 164,
      "outputs": [
        {
          "output_type": "stream",
          "text": [
            "Evaluating the model with TRAIN data...\n",
            "Evaluating Test data\n",
            "[4.945638  3.2851849 3.2851849 ... 3.7260194 3.2851849 3.2851849]\n",
            "[4 3 4 ... 3 3 3]\n",
            "\n",
            "TEST DATA\n",
            "------------------------------\n",
            "RMSE :  1.0927473054727812\n",
            "MAPE :  32.68783853932028\n"
          ],
          "name": "stdout"
        },
        {
          "output_type": "display_data",
          "data": {
            "image/png": "[encoded data removed]",
            "text/plain": [
              "<Figure size 432x288 with 1 Axes>"
            ]
          },
          "metadata": {
            "tags": []
          }
        }
      ]
    },
    {
      "metadata": {
        "id": "U64Vhezr3RRK",
        "colab_type": "text"
      },
      "cell_type": "markdown",
      "source": [
        "## WE HAVE RUN THE XGBOOST REGRESSOR AFTER RUNNING THE BASE LINE MODEL AFTER THIS WE GONNA RUN SURPRISE KNN MODEL WITH USER-USER SIMILARITY.AND WE TAKE THE OUTPUT AS A FEATUREAND PROCEED WITH MODELLING STRATEGY."
      ]
    },
    {
      "metadata": {
        "id": "cWGHGBRe29R_",
        "colab_type": "text"
      },
      "cell_type": "markdown",
      "source": [
        "##IF U OBSERVE THE PREDICTED VALUE OF THE BASELINE MODEL HAS HIGHEST FEATURE IMPORTANCE"
      ]
    },
    {
      "metadata": {
        "id": "FVcoWeCy25Qr",
        "colab_type": "code",
        "outputId": "ed18f465-7b50-4d33-a281-02f83ddc6ae5",
        "colab": {
          "base_uri": "https://localhost:8080/",
          "height": 477
        }
      },
      "cell_type": "code",
      "source": [
        "from surprise import KNNBaseline\n",
        "# we specify , how to compute similarities and what to consider with sim_options to our algorithm\n",
        "sim_options = {'user_based' : True,\n",
        "               'name': 'pearson_baseline',\n",
        "               'shrinkage': 100,\n",
        "               'min_support': 2\n",
        "              } \n",
        "# we keep other parameters like regularization parameter and learning_rate as default values.\n",
        "bsl_options = {'method': 'sgd'} \n",
        "\n",
        "knn_bsl_u = KNNBaseline(k=40, sim_options = sim_options, bsl_options = bsl_options)\n",
        "knn_bsl_u_train_results, knn_bsl_u_test_results = run_surprise(knn_bsl_u, trainset, testset, verbose=True)\n",
        "\n",
        "# Just store these error metrics in our models_evaluation datastructure\n",
        "models_evaluation_train['knn_bsl_u'] = knn_bsl_u_train_results \n",
        "models_evaluation_test['knn_bsl_u'] = knn_bsl_u_test_results\n"
      ],
      "execution_count": 32,
      "outputs": [
        {
          "output_type": "stream",
          "text": [
            "Training the model...\n",
            "Estimating biases using sgd...\n",
            "Computing the pearson_baseline similarity matrix...\n",
            "Done computing similarity matrix.\n",
            "Done. time taken : 0:00:34.331387 \n",
            "\n",
            "Evaluating the model with train data..\n",
            "time taken : 0:01:55.969315\n",
            "---------------\n",
            "Train Data\n",
            "---------------\n",
            "RMSE : 0.33642097416508826\n",
            "\n",
            "MAPE : 9.145093375416348\n",
            "\n",
            "adding train results in the dictionary..\n",
            "\n",
            "Evaluating for test data...\n",
            "time taken : 0:00:00.123278\n",
            "---------------\n",
            "Test Data\n",
            "---------------\n",
            "RMSE : 1.0850672215502424\n",
            "\n",
            "MAPE : 35.41803706931065\n",
            "\n",
            "storing the test results in test dictionary...\n"
          ],
          "name": "stdout"
        }
      ]
    },
    {
      "metadata": {
        "id": "OwBxLXtc4N2v",
        "colab_type": "text"
      },
      "cell_type": "markdown",
      "source": [
        "## AFTER RUNNING THE KNN BASED ON USER-USER SIMILARITY WE WILL RUN ON THE KNN BASEON IN THE MOVIE-MOVIE SILARITY ND OBTAIN THE FEATURE."
      ]
    },
    {
      "metadata": {
        "id": "mcUuyMUM35SS",
        "colab_type": "code",
        "outputId": "c974ee83-0202-4e90-8ce9-7924357ea081",
        "colab": {
          "base_uri": "https://localhost:8080/",
          "height": 477
        }
      },
      "cell_type": "code",
      "source": [
        "# we specify , how to compute similarities and what to consider with sim_options to our algorithm\n",
        "\n",
        "# 'user_based' : Fals => this considers the similarities of movies instead of users\n",
        "\n",
        "sim_options = {'user_based' : False,\n",
        "               'name': 'pearson_baseline',\n",
        "               'shrinkage': 100,\n",
        "               'min_support': 2\n",
        "              } \n",
        "# we keep other parameters like regularization parameter and learning_rate as default values.\n",
        "bsl_options = {'method': 'sgd'}\n",
        "\n",
        "\n",
        "knn_bsl_m = KNNBaseline(k=40, sim_options = sim_options, bsl_options = bsl_options)\n",
        "\n",
        "knn_bsl_m_train_results, knn_bsl_m_test_results = run_surprise(knn_bsl_m, trainset, testset, verbose=True)\n",
        "\n",
        "# Just store these error metrics in our models_evaluation datastructure\n",
        "models_evaluation_train['knn_bsl_m'] = knn_bsl_m_train_results \n",
        "models_evaluation_test['knn_bsl_m'] = knn_bsl_m_test_results\n"
      ],
      "execution_count": 33,
      "outputs": [
        {
          "output_type": "stream",
          "text": [
            "Training the model...\n",
            "Estimating biases using sgd...\n",
            "Computing the pearson_baseline similarity matrix...\n",
            "Done computing similarity matrix.\n",
            "Done. time taken : 0:00:00.918143 \n",
            "\n",
            "Evaluating the model with train data..\n",
            "time taken : 0:00:09.390551\n",
            "---------------\n",
            "Train Data\n",
            "---------------\n",
            "RMSE : 0.32584796251610554\n",
            "\n",
            "MAPE : 8.447062581998374\n",
            "\n",
            "adding train results in the dictionary..\n",
            "\n",
            "Evaluating for test data...\n",
            "time taken : 0:00:00.104315\n",
            "---------------\n",
            "Test Data\n",
            "---------------\n",
            "RMSE : 1.0850939542806968\n",
            "\n",
            "MAPE : 35.41841575346227\n",
            "\n",
            "storing the test results in test dictionary...\n"
          ],
          "name": "stdout"
        }
      ]
    },
    {
      "metadata": {
        "id": "fokpBXi44rwq",
        "colab_type": "text"
      },
      "cell_type": "markdown",
      "source": [
        "## WE GONNA APPEND THE FEATURES ONTAINED FROM THE KNN MODELS."
      ]
    },
    {
      "metadata": {
        "id": "oCeOe16M4jX-",
        "colab_type": "code",
        "outputId": "da814819-4228-414f-84f0-6fe57c2e4bd4",
        "colab": {
          "base_uri": "https://localhost:8080/",
          "height": 107
        }
      },
      "cell_type": "code",
      "source": [
        "# add the predicted values from both knns to this dataframe\n",
        "reg_train['knn_bsl_u'] = models_evaluation_train['knn_bsl_u']['predictions']\n",
        "reg_train['knn_bsl_m'] = models_evaluation_train['knn_bsl_m']['predictions']\n",
        "\n",
        "reg_train.head(2)"
      ],
      "execution_count": 34,
      "outputs": [
        {
          "output_type": "execute_result",
          "data": {
            "text/html": [
              "<div>\n",
              "<style scoped>\n",
              "    .dataframe tbody tr th:only-of-type {\n",
              "        vertical-align: middle;\n",
              "    }\n",
              "\n",
              "    .dataframe tbody tr th {\n",
              "        vertical-align: top;\n",
              "    }\n",
              "\n",
              "    .dataframe thead th {\n",
              "        text-align: right;\n",
              "    }\n",
              "</style>\n",
              "<table border=\"1\" class=\"dataframe\">\n",
              "  <thead>\n",
              "    <tr style=\"text-align: right;\">\n",
              "      <th></th>\n",
              "      <th>user</th>\n",
              "      <th>movie</th>\n",
              "      <th>GAvg</th>\n",
              "      <th>sur1</th>\n",
              "      <th>sur2</th>\n",
              "      <th>sur3</th>\n",
              "      <th>sur4</th>\n",
              "      <th>sur5</th>\n",
              "      <th>smr1</th>\n",
              "      <th>smr2</th>\n",
              "      <th>smr3</th>\n",
              "      <th>smr4</th>\n",
              "      <th>smr5</th>\n",
              "      <th>UAvg</th>\n",
              "      <th>MAvg</th>\n",
              "      <th>rating</th>\n",
              "      <th>knn_bsl_u</th>\n",
              "      <th>knn_bsl_m</th>\n",
              "    </tr>\n",
              "  </thead>\n",
              "  <tbody>\n",
              "    <tr>\n",
              "      <th>0</th>\n",
              "      <td>53406</td>\n",
              "      <td>33</td>\n",
              "      <td>3.581679</td>\n",
              "      <td>4.0</td>\n",
              "      <td>5.0</td>\n",
              "      <td>5.0</td>\n",
              "      <td>4.0</td>\n",
              "      <td>1.0</td>\n",
              "      <td>5.0</td>\n",
              "      <td>2.0</td>\n",
              "      <td>5.0</td>\n",
              "      <td>3.0</td>\n",
              "      <td>1.0</td>\n",
              "      <td>3.370370</td>\n",
              "      <td>4.092437</td>\n",
              "      <td>4</td>\n",
              "      <td>3.93002</td>\n",
              "      <td>3.867958</td>\n",
              "    </tr>\n",
              "    <tr>\n",
              "      <th>1</th>\n",
              "      <td>99540</td>\n",
              "      <td>33</td>\n",
              "      <td>3.581679</td>\n",
              "      <td>5.0</td>\n",
              "      <td>5.0</td>\n",
              "      <td>5.0</td>\n",
              "      <td>4.0</td>\n",
              "      <td>5.0</td>\n",
              "      <td>3.0</td>\n",
              "      <td>4.0</td>\n",
              "      <td>4.0</td>\n",
              "      <td>3.0</td>\n",
              "      <td>5.0</td>\n",
              "      <td>3.555556</td>\n",
              "      <td>4.092437</td>\n",
              "      <td>3</td>\n",
              "      <td>3.17733</td>\n",
              "      <td>3.076302</td>\n",
              "    </tr>\n",
              "  </tbody>\n",
              "</table>\n",
              "</div>"
            ],
            "text/plain": [
              "    user  movie      GAvg  sur1  sur2  sur3  sur4  sur5  smr1  smr2  smr3  \\\n",
              "0  53406     33  3.581679   4.0   5.0   5.0   4.0   1.0   5.0   2.0   5.0   \n",
              "1  99540     33  3.581679   5.0   5.0   5.0   4.0   5.0   3.0   4.0   4.0   \n",
              "\n",
              "   smr4  smr5      UAvg      MAvg  rating  knn_bsl_u  knn_bsl_m  \n",
              "0   3.0   1.0  3.370370  4.092437       4    3.93002   3.867958  \n",
              "1   3.0   5.0  3.555556  4.092437       3    3.17733   3.076302  "
            ]
          },
          "metadata": {
            "tags": []
          },
          "execution_count": 34
        }
      ]
    },
    {
      "metadata": {
        "id": "_wQPT3zi4ylh",
        "colab_type": "code",
        "outputId": "b66a629b-3c21-4601-a0c7-176a674926cb",
        "colab": {
          "base_uri": "https://localhost:8080/",
          "height": 107
        }
      },
      "cell_type": "code",
      "source": [
        "reg_test_df['knn_bsl_u'] = models_evaluation_test['knn_bsl_u']['predictions']\n",
        "reg_test_df['knn_bsl_m'] = models_evaluation_test['knn_bsl_m']['predictions']\n",
        "\n",
        "reg_test_df.head(2)"
      ],
      "execution_count": 35,
      "outputs": [
        {
          "output_type": "execute_result",
          "data": {
            "text/html": [
              "<div>\n",
              "<style scoped>\n",
              "    .dataframe tbody tr th:only-of-type {\n",
              "        vertical-align: middle;\n",
              "    }\n",
              "\n",
              "    .dataframe tbody tr th {\n",
              "        vertical-align: top;\n",
              "    }\n",
              "\n",
              "    .dataframe thead th {\n",
              "        text-align: right;\n",
              "    }\n",
              "</style>\n",
              "<table border=\"1\" class=\"dataframe\">\n",
              "  <thead>\n",
              "    <tr style=\"text-align: right;\">\n",
              "      <th></th>\n",
              "      <th>user</th>\n",
              "      <th>movie</th>\n",
              "      <th>GAvg</th>\n",
              "      <th>sur1</th>\n",
              "      <th>sur2</th>\n",
              "      <th>sur3</th>\n",
              "      <th>sur4</th>\n",
              "      <th>sur5</th>\n",
              "      <th>smr1</th>\n",
              "      <th>smr2</th>\n",
              "      <th>smr3</th>\n",
              "      <th>smr4</th>\n",
              "      <th>smr5</th>\n",
              "      <th>UAvg</th>\n",
              "      <th>MAvg</th>\n",
              "      <th>rating</th>\n",
              "      <th>knn_bsl_u</th>\n",
              "      <th>knn_bsl_m</th>\n",
              "    </tr>\n",
              "  </thead>\n",
              "  <tbody>\n",
              "    <tr>\n",
              "      <th>0</th>\n",
              "      <td>62741</td>\n",
              "      <td>8</td>\n",
              "      <td>3.596891</td>\n",
              "      <td>3.5</td>\n",
              "      <td>3.5</td>\n",
              "      <td>3.5</td>\n",
              "      <td>3.5</td>\n",
              "      <td>3.5</td>\n",
              "      <td>5.0</td>\n",
              "      <td>5.0</td>\n",
              "      <td>5.0</td>\n",
              "      <td>5.0</td>\n",
              "      <td>5.0</td>\n",
              "      <td>5.0</td>\n",
              "      <td>3.0</td>\n",
              "      <td>4</td>\n",
              "      <td>3.581679</td>\n",
              "      <td>3.581679</td>\n",
              "    </tr>\n",
              "    <tr>\n",
              "      <th>1</th>\n",
              "      <td>205094</td>\n",
              "      <td>8</td>\n",
              "      <td>3.596891</td>\n",
              "      <td>3.5</td>\n",
              "      <td>3.5</td>\n",
              "      <td>3.5</td>\n",
              "      <td>3.5</td>\n",
              "      <td>3.5</td>\n",
              "      <td>3.5</td>\n",
              "      <td>3.5</td>\n",
              "      <td>3.5</td>\n",
              "      <td>3.5</td>\n",
              "      <td>3.5</td>\n",
              "      <td>3.5</td>\n",
              "      <td>3.0</td>\n",
              "      <td>3</td>\n",
              "      <td>3.581679</td>\n",
              "      <td>3.581679</td>\n",
              "    </tr>\n",
              "  </tbody>\n",
              "</table>\n",
              "</div>"
            ],
            "text/plain": [
              "     user  movie      GAvg  sur1  sur2  sur3  sur4  sur5  smr1  smr2  smr3  \\\n",
              "0   62741      8  3.596891   3.5   3.5   3.5   3.5   3.5   5.0   5.0   5.0   \n",
              "1  205094      8  3.596891   3.5   3.5   3.5   3.5   3.5   3.5   3.5   3.5   \n",
              "\n",
              "   smr4  smr5  UAvg  MAvg  rating  knn_bsl_u  knn_bsl_m  \n",
              "0   5.0   5.0   5.0   3.0       4   3.581679   3.581679  \n",
              "1   3.5   3.5   3.5   3.0       3   3.581679   3.581679  "
            ]
          },
          "metadata": {
            "tags": []
          },
          "execution_count": 35
        }
      ]
    },
    {
      "metadata": {
        "id": "mO7fTCzs447v",
        "colab_type": "code",
        "outputId": "8f9bf97f-eda3-4ae4-bf2b-f87c1b165fd8",
        "colab": {
          "base_uri": "https://localhost:8080/",
          "height": 34
        }
      },
      "cell_type": "code",
      "source": [
        "# prepare the train data....\n",
        "x_train = reg_train.drop(['user', 'movie', 'rating'], axis=1)\n",
        "y_train = reg_train['rating']\n",
        "\n",
        "# prepare the train data....\n",
        "x_test = reg_test_df.drop(['user','movie','rating'], axis=1)\n",
        "y_test = reg_test_df['rating']\n",
        "import warnings\n",
        "warnings.filterwarnings(\"ignore\")\n",
        "import xgboost as xgb\n",
        "from sklearn.model_selection import RandomizedSearchCV\n",
        "hyper_parameter = {\"max_depth\":[1,5,10,20], \"n_estimators\":[40, 80, 150,200]}\n",
        "firstxgb=xgb.XGBRegressor()\n",
        "best_parameter = RandomizedSearchCV(firstxgb, hyper_parameter, scoring = \"neg_mean_absolute_error\", cv = 3)\n",
        "best_parameter.fit(x_train,y_train)\n",
        "estimators = best_parameter.best_params_[\"n_estimators\"]\n",
        "depth = best_parameter.best_params_[\"max_depth\"]\n",
        "print(best_parameter.best_params_)\n",
        "\n",
        "\n"
      ],
      "execution_count": 137,
      "outputs": [
        {
          "output_type": "stream",
          "text": [
            "{'n_estimators': 200, 'max_depth': 5}\n"
          ],
          "name": "stdout"
        }
      ]
    },
    {
      "metadata": {
        "id": "bFSL1HzK6AkV",
        "colab_type": "code",
        "outputId": "01809ffc-0ccf-474c-9bff-ccdda82d639e",
        "colab": {
          "base_uri": "https://localhost:8080/",
          "height": 449
        }
      },
      "cell_type": "code",
      "source": [
        "# declare the model\n",
        "%matplotlib inline\n",
        "xgb_knn_bsl = xgb.XGBRegressor(n_estimators=200,max_depth=5)\n",
        "train_results, test_results = run_xgboost(xgb_knn_bsl, x_train, y_train, x_test, y_test)\n",
        "\n",
        "# store the results in models_evaluations dictionaries\n",
        "models_evaluation_train['xgb_knn_bsl'] = train_results\n",
        "models_evaluation_test['xgb_knn_bsl'] = test_results\n",
        "\n",
        "\n",
        "xgb.plot_importance(xgb_knn_bsl)\n",
        "plt.show()"
      ],
      "execution_count": 61,
      "outputs": [
        {
          "output_type": "stream",
          "text": [
            "Evaluating the model with TRAIN data...\n",
            "Evaluating Test data\n",
            "[4.98754   3.2646291 3.2646291 ... 3.7356312 3.2646291 3.2646291]\n",
            "[4 3 4 ... 3 3 3]\n",
            "\n",
            "TEST DATA\n",
            "------------------------------\n",
            "RMSE :  1.0978831518435863\n",
            "MAPE :  32.56725182130872\n"
          ],
          "name": "stdout"
        },
        {
          "output_type": "display_data",
          "data": {
            "image/png": "[encoded data removed]",
            "text/plain": [
              "<Figure size 432x288 with 1 Axes>"
            ]
          },
          "metadata": {
            "tags": []
          }
        }
      ]
    },
    {
      "metadata": {
        "id": "jBFF2s0_48qu",
        "colab_type": "code",
        "outputId": "010492d9-564c-4be4-8dcb-7475da7703d6",
        "colab": {
          "base_uri": "https://localhost:8080/",
          "height": 768
        }
      },
      "cell_type": "code",
      "source": [
        "from surprise import SVD\n",
        "# initiallize the model\n",
        "svd = SVD(n_factors=100, biased=True, random_state=15, verbose=True)\n",
        "svd_train_results, svd_test_results = run_surprise(svd, trainset, testset, verbose=True)\n",
        "\n",
        "# Just store these error metrics in our models_evaluation datastructure\n",
        "models_evaluation_train['svd'] = svd_train_results \n",
        "models_evaluation_test['svd'] = svd_test_results"
      ],
      "execution_count": 37,
      "outputs": [
        {
          "output_type": "stream",
          "text": [
            "Training the model...\n",
            "Processing epoch 0\n",
            "Processing epoch 1\n",
            "Processing epoch 2\n",
            "Processing epoch 3\n",
            "Processing epoch 4\n",
            "Processing epoch 5\n",
            "Processing epoch 6\n",
            "Processing epoch 7\n",
            "Processing epoch 8\n",
            "Processing epoch 9\n",
            "Processing epoch 10\n",
            "Processing epoch 11\n",
            "Processing epoch 12\n",
            "Processing epoch 13\n",
            "Processing epoch 14\n",
            "Processing epoch 15\n",
            "Processing epoch 16\n",
            "Processing epoch 17\n",
            "Processing epoch 18\n",
            "Processing epoch 19\n",
            "Done. time taken : 0:00:08.647266 \n",
            "\n",
            "Evaluating the model with train data..\n",
            "time taken : 0:00:01.439870\n",
            "---------------\n",
            "Train Data\n",
            "---------------\n",
            "RMSE : 0.6574721240954099\n",
            "\n",
            "MAPE : 19.704901088660474\n",
            "\n",
            "adding train results in the dictionary..\n",
            "\n",
            "Evaluating for test data...\n",
            "time taken : 0:00:00.093904\n",
            "---------------\n",
            "Test Data\n",
            "---------------\n",
            "RMSE : 1.0849674582896671\n",
            "\n",
            "MAPE : 35.412522956841286\n",
            "\n",
            "storing the test results in test dictionary...\n"
          ],
          "name": "stdout"
        }
      ]
    },
    {
      "metadata": {
        "id": "xyk5m_O45gIA",
        "colab_type": "code",
        "outputId": "7cbe7884-ca0a-423f-a723-9a4fb39c1796",
        "colab": {
          "base_uri": "https://localhost:8080/",
          "height": 768
        }
      },
      "cell_type": "code",
      "source": [
        "from surprise import SVDpp\n",
        "# initiallize the model\n",
        "svdpp = SVDpp(n_factors=50, random_state=15, verbose=True)\n",
        "svdpp_train_results, svdpp_test_results = run_surprise(svdpp, trainset, testset, verbose=True)\n",
        "\n",
        "# Just store these error metrics in our models_evaluation datastructure\n",
        "models_evaluation_train['svdpp'] = svdpp_train_results \n",
        "models_evaluation_test['svdpp'] = svdpp_test_results\n"
      ],
      "execution_count": 38,
      "outputs": [
        {
          "output_type": "stream",
          "text": [
            "Training the model...\n",
            " processing epoch 0\n",
            " processing epoch 1\n",
            " processing epoch 2\n",
            " processing epoch 3\n",
            " processing epoch 4\n",
            " processing epoch 5\n",
            " processing epoch 6\n",
            " processing epoch 7\n",
            " processing epoch 8\n",
            " processing epoch 9\n",
            " processing epoch 10\n",
            " processing epoch 11\n",
            " processing epoch 12\n",
            " processing epoch 13\n",
            " processing epoch 14\n",
            " processing epoch 15\n",
            " processing epoch 16\n",
            " processing epoch 17\n",
            " processing epoch 18\n",
            " processing epoch 19\n",
            "Done. time taken : 0:02:32.994617 \n",
            "\n",
            "Evaluating the model with train data..\n",
            "time taken : 0:00:05.864721\n",
            "---------------\n",
            "Train Data\n",
            "---------------\n",
            "RMSE : 0.6032438403305899\n",
            "\n",
            "MAPE : 17.49285063490268\n",
            "\n",
            "adding train results in the dictionary..\n",
            "\n",
            "Evaluating for test data...\n",
            "time taken : 0:00:00.094583\n",
            "---------------\n",
            "Test Data\n",
            "---------------\n",
            "RMSE : 1.0843031487781873\n",
            "\n",
            "MAPE : 35.336796913355\n",
            "\n",
            "storing the test results in test dictionary...\n"
          ],
          "name": "stdout"
        }
      ]
    },
    {
      "metadata": {
        "id": "LjpFxjMv5luX",
        "colab_type": "code",
        "outputId": "53165c32-2775-49a7-9e81-e88bfedd7fdf",
        "colab": {
          "base_uri": "https://localhost:8080/",
          "height": 107
        }
      },
      "cell_type": "code",
      "source": [
        "# add the predicted values from both knns to this dataframe\n",
        "reg_train['svd'] = models_evaluation_train['svd']['predictions']\n",
        "reg_train['svdpp'] = models_evaluation_train['svdpp']['predictions']\n",
        "\n",
        "reg_train.head(2) "
      ],
      "execution_count": 39,
      "outputs": [
        {
          "output_type": "execute_result",
          "data": {
            "text/html": [
              "<div>\n",
              "<style scoped>\n",
              "    .dataframe tbody tr th:only-of-type {\n",
              "        vertical-align: middle;\n",
              "    }\n",
              "\n",
              "    .dataframe tbody tr th {\n",
              "        vertical-align: top;\n",
              "    }\n",
              "\n",
              "    .dataframe thead th {\n",
              "        text-align: right;\n",
              "    }\n",
              "</style>\n",
              "<table border=\"1\" class=\"dataframe\">\n",
              "  <thead>\n",
              "    <tr style=\"text-align: right;\">\n",
              "      <th></th>\n",
              "      <th>user</th>\n",
              "      <th>movie</th>\n",
              "      <th>GAvg</th>\n",
              "      <th>sur1</th>\n",
              "      <th>sur2</th>\n",
              "      <th>sur3</th>\n",
              "      <th>sur4</th>\n",
              "      <th>sur5</th>\n",
              "      <th>smr1</th>\n",
              "      <th>smr2</th>\n",
              "      <th>smr3</th>\n",
              "      <th>smr4</th>\n",
              "      <th>smr5</th>\n",
              "      <th>UAvg</th>\n",
              "      <th>MAvg</th>\n",
              "      <th>rating</th>\n",
              "      <th>knn_bsl_u</th>\n",
              "      <th>knn_bsl_m</th>\n",
              "      <th>svd</th>\n",
              "      <th>svdpp</th>\n",
              "    </tr>\n",
              "  </thead>\n",
              "  <tbody>\n",
              "    <tr>\n",
              "      <th>0</th>\n",
              "      <td>53406</td>\n",
              "      <td>33</td>\n",
              "      <td>3.581679</td>\n",
              "      <td>4.0</td>\n",
              "      <td>5.0</td>\n",
              "      <td>5.0</td>\n",
              "      <td>4.0</td>\n",
              "      <td>1.0</td>\n",
              "      <td>5.0</td>\n",
              "      <td>2.0</td>\n",
              "      <td>5.0</td>\n",
              "      <td>3.0</td>\n",
              "      <td>1.0</td>\n",
              "      <td>3.370370</td>\n",
              "      <td>4.092437</td>\n",
              "      <td>4</td>\n",
              "      <td>3.93002</td>\n",
              "      <td>3.867958</td>\n",
              "      <td>4.303764</td>\n",
              "      <td>3.621664</td>\n",
              "    </tr>\n",
              "    <tr>\n",
              "      <th>1</th>\n",
              "      <td>99540</td>\n",
              "      <td>33</td>\n",
              "      <td>3.581679</td>\n",
              "      <td>5.0</td>\n",
              "      <td>5.0</td>\n",
              "      <td>5.0</td>\n",
              "      <td>4.0</td>\n",
              "      <td>5.0</td>\n",
              "      <td>3.0</td>\n",
              "      <td>4.0</td>\n",
              "      <td>4.0</td>\n",
              "      <td>3.0</td>\n",
              "      <td>5.0</td>\n",
              "      <td>3.555556</td>\n",
              "      <td>4.092437</td>\n",
              "      <td>3</td>\n",
              "      <td>3.17733</td>\n",
              "      <td>3.076302</td>\n",
              "      <td>3.278967</td>\n",
              "      <td>3.538247</td>\n",
              "    </tr>\n",
              "  </tbody>\n",
              "</table>\n",
              "</div>"
            ],
            "text/plain": [
              "    user  movie      GAvg  sur1  sur2  sur3  sur4  sur5  smr1  smr2  smr3  \\\n",
              "0  53406     33  3.581679   4.0   5.0   5.0   4.0   1.0   5.0   2.0   5.0   \n",
              "1  99540     33  3.581679   5.0   5.0   5.0   4.0   5.0   3.0   4.0   4.0   \n",
              "\n",
              "   smr4  smr5      UAvg      MAvg  rating  knn_bsl_u  knn_bsl_m       svd  \\\n",
              "0   3.0   1.0  3.370370  4.092437       4    3.93002   3.867958  4.303764   \n",
              "1   3.0   5.0  3.555556  4.092437       3    3.17733   3.076302  3.278967   \n",
              "\n",
              "      svdpp  \n",
              "0  3.621664  \n",
              "1  3.538247  "
            ]
          },
          "metadata": {
            "tags": []
          },
          "execution_count": 39
        }
      ]
    },
    {
      "metadata": {
        "id": "i_AM0lAy5pr-",
        "colab_type": "code",
        "outputId": "1ba687eb-09aa-4233-878b-b4be6580b242",
        "colab": {
          "base_uri": "https://localhost:8080/",
          "height": 107
        }
      },
      "cell_type": "code",
      "source": [
        "reg_test_df['svd'] = models_evaluation_test['svd']['predictions']\n",
        "reg_test_df['svdpp'] = models_evaluation_test['svdpp']['predictions']\n",
        "\n",
        "reg_test_df.head(2) "
      ],
      "execution_count": 40,
      "outputs": [
        {
          "output_type": "execute_result",
          "data": {
            "text/html": [
              "<div>\n",
              "<style scoped>\n",
              "    .dataframe tbody tr th:only-of-type {\n",
              "        vertical-align: middle;\n",
              "    }\n",
              "\n",
              "    .dataframe tbody tr th {\n",
              "        vertical-align: top;\n",
              "    }\n",
              "\n",
              "    .dataframe thead th {\n",
              "        text-align: right;\n",
              "    }\n",
              "</style>\n",
              "<table border=\"1\" class=\"dataframe\">\n",
              "  <thead>\n",
              "    <tr style=\"text-align: right;\">\n",
              "      <th></th>\n",
              "      <th>user</th>\n",
              "      <th>movie</th>\n",
              "      <th>GAvg</th>\n",
              "      <th>sur1</th>\n",
              "      <th>sur2</th>\n",
              "      <th>sur3</th>\n",
              "      <th>sur4</th>\n",
              "      <th>sur5</th>\n",
              "      <th>smr1</th>\n",
              "      <th>smr2</th>\n",
              "      <th>smr3</th>\n",
              "      <th>smr4</th>\n",
              "      <th>smr5</th>\n",
              "      <th>UAvg</th>\n",
              "      <th>MAvg</th>\n",
              "      <th>rating</th>\n",
              "      <th>knn_bsl_u</th>\n",
              "      <th>knn_bsl_m</th>\n",
              "      <th>svd</th>\n",
              "      <th>svdpp</th>\n",
              "    </tr>\n",
              "  </thead>\n",
              "  <tbody>\n",
              "    <tr>\n",
              "      <th>0</th>\n",
              "      <td>62741</td>\n",
              "      <td>8</td>\n",
              "      <td>3.596891</td>\n",
              "      <td>3.5</td>\n",
              "      <td>3.5</td>\n",
              "      <td>3.5</td>\n",
              "      <td>3.5</td>\n",
              "      <td>3.5</td>\n",
              "      <td>5.0</td>\n",
              "      <td>5.0</td>\n",
              "      <td>5.0</td>\n",
              "      <td>5.0</td>\n",
              "      <td>5.0</td>\n",
              "      <td>5.0</td>\n",
              "      <td>3.0</td>\n",
              "      <td>4</td>\n",
              "      <td>3.581679</td>\n",
              "      <td>3.581679</td>\n",
              "      <td>3.581679</td>\n",
              "      <td>3.581679</td>\n",
              "    </tr>\n",
              "    <tr>\n",
              "      <th>1</th>\n",
              "      <td>205094</td>\n",
              "      <td>8</td>\n",
              "      <td>3.596891</td>\n",
              "      <td>3.5</td>\n",
              "      <td>3.5</td>\n",
              "      <td>3.5</td>\n",
              "      <td>3.5</td>\n",
              "      <td>3.5</td>\n",
              "      <td>3.5</td>\n",
              "      <td>3.5</td>\n",
              "      <td>3.5</td>\n",
              "      <td>3.5</td>\n",
              "      <td>3.5</td>\n",
              "      <td>3.5</td>\n",
              "      <td>3.0</td>\n",
              "      <td>3</td>\n",
              "      <td>3.581679</td>\n",
              "      <td>3.581679</td>\n",
              "      <td>3.581679</td>\n",
              "      <td>3.581679</td>\n",
              "    </tr>\n",
              "  </tbody>\n",
              "</table>\n",
              "</div>"
            ],
            "text/plain": [
              "     user  movie      GAvg  sur1  sur2  sur3  sur4  sur5  smr1  smr2  smr3  \\\n",
              "0   62741      8  3.596891   3.5   3.5   3.5   3.5   3.5   5.0   5.0   5.0   \n",
              "1  205094      8  3.596891   3.5   3.5   3.5   3.5   3.5   3.5   3.5   3.5   \n",
              "\n",
              "   smr4  smr5  UAvg  MAvg  rating  knn_bsl_u  knn_bsl_m       svd     svdpp  \n",
              "0   5.0   5.0   5.0   3.0       4   3.581679   3.581679  3.581679  3.581679  \n",
              "1   3.5   3.5   3.5   3.0       3   3.581679   3.581679  3.581679  3.581679  "
            ]
          },
          "metadata": {
            "tags": []
          },
          "execution_count": 40
        }
      ]
    },
    {
      "metadata": {
        "id": "9lQ5HTI6v8KQ",
        "colab_type": "code",
        "colab": {
          "base_uri": "https://localhost:8080/",
          "height": 107
        },
        "outputId": "94fd608a-fd7f-4f1a-a543-c45e66add85f"
      },
      "cell_type": "code",
      "source": [
        "reg_test_df.head(2) \n"
      ],
      "execution_count": 43,
      "outputs": [
        {
          "output_type": "execute_result",
          "data": {
            "text/html": [
              "<div>\n",
              "<style scoped>\n",
              "    .dataframe tbody tr th:only-of-type {\n",
              "        vertical-align: middle;\n",
              "    }\n",
              "\n",
              "    .dataframe tbody tr th {\n",
              "        vertical-align: top;\n",
              "    }\n",
              "\n",
              "    .dataframe thead th {\n",
              "        text-align: right;\n",
              "    }\n",
              "</style>\n",
              "<table border=\"1\" class=\"dataframe\">\n",
              "  <thead>\n",
              "    <tr style=\"text-align: right;\">\n",
              "      <th></th>\n",
              "      <th>user</th>\n",
              "      <th>movie</th>\n",
              "      <th>GAvg</th>\n",
              "      <th>sur1</th>\n",
              "      <th>sur2</th>\n",
              "      <th>sur3</th>\n",
              "      <th>sur4</th>\n",
              "      <th>sur5</th>\n",
              "      <th>smr1</th>\n",
              "      <th>smr2</th>\n",
              "      <th>smr3</th>\n",
              "      <th>smr4</th>\n",
              "      <th>smr5</th>\n",
              "      <th>UAvg</th>\n",
              "      <th>MAvg</th>\n",
              "      <th>rating</th>\n",
              "      <th>knn_bsl_u</th>\n",
              "      <th>knn_bsl_m</th>\n",
              "      <th>svd</th>\n",
              "      <th>svdpp</th>\n",
              "    </tr>\n",
              "  </thead>\n",
              "  <tbody>\n",
              "    <tr>\n",
              "      <th>0</th>\n",
              "      <td>62741</td>\n",
              "      <td>8</td>\n",
              "      <td>3.596891</td>\n",
              "      <td>3.5</td>\n",
              "      <td>3.5</td>\n",
              "      <td>3.5</td>\n",
              "      <td>3.5</td>\n",
              "      <td>3.5</td>\n",
              "      <td>5.0</td>\n",
              "      <td>5.0</td>\n",
              "      <td>5.0</td>\n",
              "      <td>5.0</td>\n",
              "      <td>5.0</td>\n",
              "      <td>5.0</td>\n",
              "      <td>3.0</td>\n",
              "      <td>4</td>\n",
              "      <td>3.581679</td>\n",
              "      <td>3.581679</td>\n",
              "      <td>3.581679</td>\n",
              "      <td>3.581679</td>\n",
              "    </tr>\n",
              "    <tr>\n",
              "      <th>1</th>\n",
              "      <td>205094</td>\n",
              "      <td>8</td>\n",
              "      <td>3.596891</td>\n",
              "      <td>3.5</td>\n",
              "      <td>3.5</td>\n",
              "      <td>3.5</td>\n",
              "      <td>3.5</td>\n",
              "      <td>3.5</td>\n",
              "      <td>3.5</td>\n",
              "      <td>3.5</td>\n",
              "      <td>3.5</td>\n",
              "      <td>3.5</td>\n",
              "      <td>3.5</td>\n",
              "      <td>3.5</td>\n",
              "      <td>3.0</td>\n",
              "      <td>3</td>\n",
              "      <td>3.581679</td>\n",
              "      <td>3.581679</td>\n",
              "      <td>3.581679</td>\n",
              "      <td>3.581679</td>\n",
              "    </tr>\n",
              "  </tbody>\n",
              "</table>\n",
              "</div>"
            ],
            "text/plain": [
              "     user  movie      GAvg  sur1  sur2  sur3  sur4  sur5  smr1  smr2  smr3  \\\n",
              "0   62741      8  3.596891   3.5   3.5   3.5   3.5   3.5   5.0   5.0   5.0   \n",
              "1  205094      8  3.596891   3.5   3.5   3.5   3.5   3.5   3.5   3.5   3.5   \n",
              "\n",
              "   smr4  smr5  UAvg  MAvg  rating  knn_bsl_u  knn_bsl_m       svd     svdpp  \n",
              "0   5.0   5.0   5.0   3.0       4   3.581679   3.581679  3.581679  3.581679  \n",
              "1   3.5   3.5   3.5   3.0       3   3.581679   3.581679  3.581679  3.581679  "
            ]
          },
          "metadata": {
            "tags": []
          },
          "execution_count": 43
        }
      ]
    },
    {
      "metadata": {
        "id": "_mNItKPl5sS2",
        "colab_type": "code",
        "outputId": "f81cb91d-54bb-4eec-b8fd-15ce2e432070",
        "colab": {
          "base_uri": "https://localhost:8080/",
          "height": 34
        }
      },
      "cell_type": "code",
      "source": [
        "from sklearn.model_selection import GridSearchCV\n",
        "# prepare x_train and y_train\n",
        "x_train = reg_train.drop(['user', 'movie', 'rating',], axis=1)\n",
        "y_train = reg_train['rating']\n",
        "\n",
        "# prepare test data\n",
        "x_test = reg_test_df.drop(['user', 'movie', 'rating'], axis=1)\n",
        "y_test = reg_test_df['rating']\n",
        "\n",
        "\n",
        "import warnings\n",
        "warnings.filterwarnings(\"ignore\")\n",
        "import xgboost as xgb\n",
        "from sklearn.model_selection import RandomizedSearchCV\n",
        "hyper_parameter = {\"max_depth\":[1,5,10,20], \"n_estimators\":[40, 80,90,100,120,130,140,150,200]}\n",
        "firstxgb=xgb.XGBRegressor()\n",
        "best_parameter = GridSearchCV(firstxgb, hyper_parameter, scoring = \"neg_mean_absolute_error\", cv = 3)\n",
        "best_parameter.fit(x_train,y_train)\n",
        "estimators = best_parameter.best_params_[\"n_estimators\"]\n",
        "depth = best_parameter.best_params_[\"max_depth\"]\n",
        "print(best_parameter.best_params_)\n",
        "\n",
        "\n",
        "\n"
      ],
      "execution_count": 49,
      "outputs": [
        {
          "output_type": "stream",
          "text": [
            "{'max_depth': 5, 'n_estimators': 150}\n"
          ],
          "name": "stdout"
        }
      ]
    },
    {
      "metadata": {
        "id": "sc11s2l-5z-F",
        "colab_type": "code",
        "outputId": "b76d64fd-05af-479c-d159-61a207559331",
        "colab": {
          "base_uri": "https://localhost:8080/",
          "height": 449
        }
      },
      "cell_type": "code",
      "source": [
        "xgb_final = xgb.XGBRegressor(n_estimators=150,max_depth=5)\n",
        "train_results, test_results = run_xgboost(gb_final, x_train, y_train, x_test, y_test)\n",
        "\n",
        "# store the results in models_evaluations dictionaries\n",
        "models_evaluation_train['xgb_final'] = train_results\n",
        "models_evaluation_test['xgb_final'] = test_results\n",
        "\n",
        "\n",
        "xgb.plot_importance(xgb_final)\n",
        "plt.show()"
      ],
      "execution_count": 63,
      "outputs": [
        {
          "output_type": "stream",
          "text": [
            "Evaluating the model with TRAIN data...\n",
            "Evaluating Test data\n",
            "[4.933049  3.2822075 3.2822075 ... 3.7644398 3.2822075 3.2822075]\n",
            "[4 3 4 ... 3 3 3]\n",
            "\n",
            "TEST DATA\n",
            "------------------------------\n",
            "RMSE :  1.0966580952095322\n",
            "MAPE :  32.68756940363631\n"
          ],
          "name": "stdout"
        },
        {
          "output_type": "display_data",
          "data": {
            "image/png": "[encoded data removed]",
            "text/plain": [
              "<Figure size 432x288 with 1 Axes>"
            ]
          },
          "metadata": {
            "tags": []
          }
        }
      ]
    },
    {
      "metadata": {
        "id": "7UVNsIeu7Yul",
        "colab_type": "code",
        "outputId": "c4e0671d-210a-4fe9-def1-21c57447bbcb",
        "colab": {
          "base_uri": "https://localhost:8080/",
          "height": 34
        }
      },
      "cell_type": "code",
      "source": [
        "# prepare train data\n",
        "x_train = reg_train[['knn_bsl_u', 'knn_bsl_m', 'svd', 'svdpp']]\n",
        "y_train = reg_train['rating']\n",
        "\n",
        "# test data\n",
        "x_test = reg_test_df[['knn_bsl_u', 'knn_bsl_m', 'svd', 'svdpp']]\n",
        "y_test = reg_test_df['rating']\n",
        "\n",
        "\n",
        "import warnings\n",
        "warnings.filterwarnings(\"ignore\")\n",
        "import xgboost as xgb\n",
        "from sklearn.model_selection import RandomizedSearchCV\n",
        "hyper_parameter = {\"max_depth\":[1,5,10,20], \"n_estimators\":[40, 80, 150,200]}\n",
        "firstxgb=xgb.XGBRegressor()\n",
        "best_parameter = RandomizedSearchCV(firstxgb, hyper_parameter, scoring = \"neg_mean_absolute_error\", cv = 3)\n",
        "best_parameter.fit(x_train,y_train)\n",
        "estimators = best_parameter.best_params_[\"n_estimators\"]\n",
        "depth = best_parameter.best_params_[\"max_depth\"]\n",
        "print(best_parameter.best_params_)\n",
        "\n",
        "\n"
      ],
      "execution_count": 147,
      "outputs": [
        {
          "output_type": "stream",
          "text": [
            "{'n_estimators': 80, 'max_depth': 5}\n"
          ],
          "name": "stdout"
        }
      ]
    },
    {
      "metadata": {
        "id": "mcMIus8l7k_S",
        "colab_type": "code",
        "outputId": "480041b8-c7b5-4748-950b-7961bd4369e9",
        "colab": {
          "base_uri": "https://localhost:8080/",
          "height": 449
        }
      },
      "cell_type": "code",
      "source": [
        "xgb_all_models = xgb.XGBRegressor(n_estimators=80,max_depth=5)\n",
        "train_results, test_results = run_xgboost(xgb_all_models, x_train, y_train, x_test, y_test)\n",
        "\n",
        "# store the results in models_evaluations dictionaries\n",
        "models_evaluation_train['xgb_all_models'] = train_results\n",
        "models_evaluation_test['xgb_all_models'] = test_results\n",
        "\n",
        "xgb.plot_importance(xgb_all_models)\n",
        "plt.show()"
      ],
      "execution_count": 148,
      "outputs": [
        {
          "output_type": "stream",
          "text": [
            "Evaluating the model with TRAIN data...\n",
            "Evaluating Test data\n",
            "[3.5575871 3.5575871 3.5575871 ... 3.5575871 3.5575871 3.5575871]\n",
            "[4 3 4 ... 3 3 3]\n",
            "\n",
            "TEST DATA\n",
            "------------------------------\n",
            "RMSE :  1.0877042279509206\n",
            "MAPE :  35.45806501393537\n"
          ],
          "name": "stdout"
        },
        {
          "output_type": "display_data",
          "data": {
            "image/png": "[encoded data removed]",
            "text/plain": [
              "<Figure size 432x288 with 1 Axes>"
            ]
          },
          "metadata": {
            "tags": []
          }
        }
      ]
    },
    {
      "metadata": {
        "id": "hX8Qc5GU8DQ-",
        "colab_type": "code",
        "outputId": "a5bc1fd1-ed74-482f-f64d-76942bc199a8",
        "colab": {
          "base_uri": "https://localhost:8080/",
          "height": 346
        }
      },
      "cell_type": "code",
      "source": [
        "data=[['xgboost with initial 13 features',1.096,32.6],['surprise baseline model',1.084,35],['xgboost with 13features+baseline',1.092,32.6],['surprisemodel with knn user user similarity',1.085,35.4],['surprise model with knn itemitem similartiy',1.085,35.4],['xgboost with added knn features',1.087,32.7],['surprise on svd',1.084,35.4],['surprise on svdpp',1.084,35.4],['xgboost on total features',1.09,32.6],['xgboost only on svd+knn features',1.08,35.4] ]\n",
        "pd.DataFrame(data,columns=['model','rmse','mape'])"
      ],
      "execution_count": 58,
      "outputs": [
        {
          "output_type": "execute_result",
          "data": {
            "text/html": [
              "<div>\n",
              "<style scoped>\n",
              "    .dataframe tbody tr th:only-of-type {\n",
              "        vertical-align: middle;\n",
              "    }\n",
              "\n",
              "    .dataframe tbody tr th {\n",
              "        vertical-align: top;\n",
              "    }\n",
              "\n",
              "    .dataframe thead th {\n",
              "        text-align: right;\n",
              "    }\n",
              "</style>\n",
              "<table border=\"1\" class=\"dataframe\">\n",
              "  <thead>\n",
              "    <tr style=\"text-align: right;\">\n",
              "      <th></th>\n",
              "      <th>model</th>\n",
              "      <th>rmse</th>\n",
              "      <th>mape</th>\n",
              "    </tr>\n",
              "  </thead>\n",
              "  <tbody>\n",
              "    <tr>\n",
              "      <th>0</th>\n",
              "      <td>xgboost with initial 13 features</td>\n",
              "      <td>1.096</td>\n",
              "      <td>32.6</td>\n",
              "    </tr>\n",
              "    <tr>\n",
              "      <th>1</th>\n",
              "      <td>surprise baseline model</td>\n",
              "      <td>1.084</td>\n",
              "      <td>35.0</td>\n",
              "    </tr>\n",
              "    <tr>\n",
              "      <th>2</th>\n",
              "      <td>xgboost with 13features+baseline</td>\n",
              "      <td>1.092</td>\n",
              "      <td>32.6</td>\n",
              "    </tr>\n",
              "    <tr>\n",
              "      <th>3</th>\n",
              "      <td>surprisemodel with knn user user similarity</td>\n",
              "      <td>1.085</td>\n",
              "      <td>35.4</td>\n",
              "    </tr>\n",
              "    <tr>\n",
              "      <th>4</th>\n",
              "      <td>surprise model with knn itemitem similartiy</td>\n",
              "      <td>1.085</td>\n",
              "      <td>35.4</td>\n",
              "    </tr>\n",
              "    <tr>\n",
              "      <th>5</th>\n",
              "      <td>xgboost with added knn features</td>\n",
              "      <td>1.087</td>\n",
              "      <td>32.7</td>\n",
              "    </tr>\n",
              "    <tr>\n",
              "      <th>6</th>\n",
              "      <td>surprise on svd</td>\n",
              "      <td>1.084</td>\n",
              "      <td>35.4</td>\n",
              "    </tr>\n",
              "    <tr>\n",
              "      <th>7</th>\n",
              "      <td>surprise on svdpp</td>\n",
              "      <td>1.084</td>\n",
              "      <td>35.4</td>\n",
              "    </tr>\n",
              "    <tr>\n",
              "      <th>8</th>\n",
              "      <td>xgboost on total features</td>\n",
              "      <td>1.090</td>\n",
              "      <td>32.6</td>\n",
              "    </tr>\n",
              "    <tr>\n",
              "      <th>9</th>\n",
              "      <td>xgboost only on svd+knn features</td>\n",
              "      <td>1.080</td>\n",
              "      <td>35.4</td>\n",
              "    </tr>\n",
              "  </tbody>\n",
              "</table>\n",
              "</div>"
            ],
            "text/plain": [
              "                                         model   rmse  mape\n",
              "0             xgboost with initial 13 features  1.096  32.6\n",
              "1                      surprise baseline model  1.084  35.0\n",
              "2             xgboost with 13features+baseline  1.092  32.6\n",
              "3  surprisemodel with knn user user similarity  1.085  35.4\n",
              "4  surprise model with knn itemitem similartiy  1.085  35.4\n",
              "5              xgboost with added knn features  1.087  32.7\n",
              "6                              surprise on svd  1.084  35.4\n",
              "7                            surprise on svdpp  1.084  35.4\n",
              "8                    xgboost on total features  1.090  32.6\n",
              "9             xgboost only on svd+knn features  1.080  35.4"
            ]
          },
          "metadata": {
            "tags": []
          },
          "execution_count": 58
        }
      ]
    },
    {
      "metadata": {
        "id": "RjRoMSNj5PJ1",
        "colab_type": "text"
      },
      "cell_type": "markdown",
      "source": [
        "##DOCUMENTATION CONCLUSION AND KEYTAKEAWAYS\n",
        "### IN THE NETFLIX MOVIE RECCOMENDATION ASSIGNMENT WE HAVE TAKE THE RAW DATA OF MOVIEID WITH USER,RATING GIVEN TO THAT PARTICULAR MOVIE AND DATE. WE HAVE ALSO THE DATA OF MOVIE ID WITH MOVIE NAMES.\n",
        "###WE CONSIDER THE RMSE AND THE MAPE AS THE PERFORMANCE METRIC WE TRAIN THE REGRESSION MODELS AND THE USER-USER SIMILARITY IN THIS ASSIGNMENT.WE PERFORM THE PREPROCESSING AND FEATURE EXTRACTION. WE DO THE EXPLORATORY DATA ANAYSIS AFTER REMOVING THE DUPLICATESAND WE WILL VISUALISE HOW THE RATINGS ARE PRESENT FOR THE MOVIE.WE WILL VISUALISE THE RATING BASED ON THE RAINGS PROVIDED IN THE MOVIE.WE ALSO VISUALISE THE RATIGS GIVEN BY NUSER AND RATINGS GIVEN TO THE MOVIES.WE COMPUTED MOVIE MOVIE SIMILARITY MATRIX.\n",
        "AND OBTAINED THE SIMILAR MOVIES BASED ON THE QUERY POINT.\n",
        "AS A PART OF OUR MODELLING STRATEGY AFTER COMPUTING THE MOVIE MOVIE SIMILARITYAND OBTAINING THE MOVIES TO THE MOVIE THAT WE NEED AND GIVE AS THE QUERY POINT.\n",
        "###THEN AS A PART OF STRATEGY WE USE SURPRISE MODELS WE USE THE  20000USERS AND 2000 MOVIES AS A PART OF TASK AND AS APART OF TASK2 WE PERFORM THE HYPERPARAMETER TUNING WITH THE XGBOOST REGRESSOR.\n",
        "## WE MODELISE WITH VARIOUS STRATEGIES AND TAKE THE VARIOUS FEATURES AND USE MODELS THAT HOW THE FEATURES ARE PERFORMING AND CONTRBUTING TO THE MODEL TO DECREASE ITS RMSE VALUE.\n",
        "## AS A PART OF MODELLING WE ALREADY HAVE 13 FEATURES THAT ARE THE SIMILAR USERS AND SIMILAR MOVIES. GLOBAL AVERAGE ,AVERAGE FROM SIUMILAR USERS AND AVERAGE OF SIMILAR MOVIE RATINGS.\n",
        "###PART1 EWE HAVE APPLIED XGBOOST ION THE 13 FEATURES AND OBTAINED THE LOGLOSS OF 1.096 AND WE HAVE THE SURPRISE BASE LINE MODEL THE REDICTED VALUES TURNS OUT OT BE THE FEATURES AND THIS FEATURE WILL BW ADDED AND XGBOOST IS APPLIED OVER THE 13 FEATURES WITH ADDED THE BASE LINE MODEL FEATURE.LATER WE TRAIN THE MODEL WITH USER USER SIMILARITY AND THE MOVIE MOVIE SIMILARITY AND OBTAIN THE PREDICTED VLAUES AND ADD WIT THE ALRADY EXISTING VALUES AND APPLY XGBOOST OVER THIS MODELS WITH HYPERPARAMETER TUNING.AFTER APPLYING THE EACH MODEL WE IWLL SEE THE RMSE VALUE ANFD THE IMPORTANCE OF THE FEATURE THAT IS ADDED AND HOW THE FEATURE CONTRIBUTING TO THE MODEL.WE ALSO ADDE THE FEATURES OF SVD AND SVD PP AND CONSIDER THEIR PREDICTED VALUES AS FEATURES.\n",
        "### THE KEYTAKEAWAY IS IF WE OSERVE THE VIUSLISATION OF THE FEATURE IMPORTANCES THE FEATURES THAT ARE GENRATED FROM THE SURPRISE MODELS ARE PERFORMING BETTER IN MOST CASES COMPARED TO THE MANY OF THE 13 FEATURES.SO THESE CONTRIBUTE FOR THE MODEL AND WE CAN CONSIDER THE MODEL WITH THE LOWEST RMSE VALUE AS THE BEST MODEL.\n",
        "## IF WE OBSERVE THE FEATURE IMPORTANCES OF FINAL MODELL THE FEATURE IMPORTANCES ARE IN ORDER OF \n",
        "* USERAVERAGE\n",
        "* MOVIE AVVERAGE\n",
        "* SVD\n",
        "* SVDPP\n",
        "* KNN BASE LINE MODEL\n",
        "* SIMILAR USERS \n",
        "### FROM THE ABOVE ORDER WE CAN UNDERSTAND HOW THESE SURPRISE MODELS ARE CONTRIBUTING.\n"
      ]
    },
    {
      "metadata": {
        "id": "LTFAWZb66eWY",
        "colab_type": "code",
        "colab": {}
      },
      "cell_type": "code",
      "source": [
        ""
      ],
      "execution_count": 0,
      "outputs": []
    }
  ]
}